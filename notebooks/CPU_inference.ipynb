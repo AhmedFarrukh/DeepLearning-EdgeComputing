{
  "cells": [
    {
      "cell_type": "markdown",
      "metadata": {
        "id": "view-in-github",
        "colab_type": "text"
      },
      "source": [
        "<a href=\"https://colab.research.google.com/github/AhmedFarrukh/DeepLearning-EdgeComputing/blob/main/notebooks/CPU_inference.ipynb\" target=\"_parent\"><img src=\"https://colab.research.google.com/assets/colab-badge.svg\" alt=\"Open In Colab\"/></a>"
      ]
    },
    {
      "cell_type": "markdown",
      "metadata": {
        "id": "QAmCHY3Svxm8"
      },
      "source": [
        "In this notebook, we test the inference times of quantized models, and their original versions, on a CPU."
      ]
    },
    {
      "cell_type": "markdown",
      "metadata": {
        "id": "3JysRuQcv4YI"
      },
      "source": [
        "## **Prepare the Resource**\n",
        "This notebook will try to reserve the compute_cascadelake_r device available on CHI@UC.\n",
        "\n",
        "### **Check Availability**\n",
        "Before you begin, you should check the host calendar at https://chi.uc.chameleoncloud.org/project/leases/calendar/host/ to see what node types are available.\n",
        "\n",
        "### **Chameleon Configuration**\n",
        "You can change your Chameleon project name (if not using the one that is automatically configured in the JupyterHub environment) and the site on which to reserve resources (depending on availability) in the following cell."
      ]
    },
    {
      "cell_type": "markdown",
      "metadata": {
        "id": "4s7hjrPcyICs"
      },
      "source": [
        "If you need to change the details of the Chameleon server, e.g. use a different edge device (NODE_TYPE), or a different node type depending on availability, you can also do that in the following cell."
      ]
    },
    {
      "cell_type": "code",
      "execution_count": null,
      "metadata": {
        "id": "MrbUlbRVvrml"
      },
      "outputs": [],
      "source": [
        "import chi, os, time\n",
        "from chi import lease\n",
        "from chi import server\n",
        "\n",
        "PROJECT_NAME = os.getenv('OS_PROJECT_NAME') # change this if you need to\n",
        "chi.use_site(\"CHI@UC\")\n",
        "chi.set(\"project_name\", PROJECT_NAME)\n",
        "username = os.getenv('USER') # all exp resources will have this prefix"
      ]
    },
    {
      "cell_type": "code",
      "execution_count": null,
      "metadata": {
        "id": "M4TlrIWdyLR1"
      },
      "outputs": [],
      "source": [
        "chi.set(\"image\", \"CC-Ubuntu20.04\")\n",
        "NODE_TYPE = \"compute_cascadelake_r\"\n",
        "expname = \"cpu-inference\""
      ]
    },
    {
      "cell_type": "code",
      "execution_count": null,
      "metadata": {
        "id": "QHS6pLZWyc9_"
      },
      "outputs": [],
      "source": [
        "res = []\n",
        "lease.add_node_reservation(res, node_type=NODE_TYPE, count=1)\n",
        "lease.add_fip_reservation(res, count=1)\n",
        "start_date, end_date = lease.lease_duration(days=0, hours=8)\n",
        "\n",
        "l = lease.create_lease(f\"{username}-{NODE_TYPE}\", res, start_date=start_date, end_date=end_date)\n",
        "l = lease.wait_for_active(l[\"id\"])  #Comment this line if the lease starts in the future"
      ]
    },
    {
      "cell_type": "code",
      "execution_count": null,
      "metadata": {
        "id": "dnU8vOUuyh2g"
      },
      "outputs": [],
      "source": [
        "# continue here, whether using a lease created just now or one created earlier\n",
        "l = lease.get_lease(f\"{username}-{NODE_TYPE}\")\n",
        "l['id']"
      ]
    },
    {
      "cell_type": "markdown",
      "metadata": {
        "id": "Qg2azf9KeCGS"
      },
      "source": [
        "### **Provisioning Resources**\n",
        "This cell provisions resources. It will take approximately 15 minutes. You can check on its status in the Chameleon web-based UI: https://chi.uc.chameleoncloud.org/project/instances/, then come back here when it is in the READY state."
      ]
    },
    {
      "cell_type": "code",
      "execution_count": null,
      "metadata": {
        "id": "9-CLk8JveO3X"
      },
      "outputs": [],
      "source": [
        "reservation_id = lease.get_node_reservation(l[\"id\"])\n",
        "server.create_server(\n",
        "    f\"{username}-{NODE_TYPE}\",\n",
        "    reservation_id=reservation_id,\n",
        "    image_name=chi.get(\"image\")\n",
        ")\n",
        "server_id = server.get_server_id(f\"{username}-{NODE_TYPE}\")\n",
        "server.wait_for_active(server_id)"
      ]
    },
    {
      "cell_type": "markdown",
      "metadata": {
        "id": "Qu5Hzr9FehN8"
      },
      "source": [
        "\n",
        "Associate an IP address with this server:"
      ]
    },
    {
      "cell_type": "code",
      "execution_count": null,
      "metadata": {
        "id": "mZM0NH-negzu"
      },
      "outputs": [],
      "source": [
        "reserved_fip = lease.get_reserved_floating_ips(l[\"id\"])[0]\n",
        "server.associate_floating_ip(server_id,reserved_fip)"
      ]
    },
    {
      "cell_type": "markdown",
      "metadata": {
        "id": "oSMjuUhcek4U",
        "tags": []
      },
      "source": [
        "\n",
        "and wait for it to come up:"
      ]
    },
    {
      "cell_type": "code",
      "execution_count": null,
      "metadata": {
        "id": "KsHyzLuKejeT"
      },
      "outputs": [],
      "source": [
        "server.wait_for_tcp(reserved_fip, port=22)"
      ]
    },
    {
      "cell_type": "markdown",
      "metadata": {
        "id": "_FJBvXw_epHx"
      },
      "source": [
        "### **Install Basic Packages**"
      ]
    },
    {
      "cell_type": "code",
      "execution_count": null,
      "metadata": {
        "id": "7O4CXHF9ex5y"
      },
      "outputs": [],
      "source": [
        "from chi import ssh\n",
        "node = ssh.Remote(reserved_fip)"
      ]
    },
    {
      "cell_type": "code",
      "execution_count": null,
      "metadata": {
        "id": "mZehBVfJez5E"
      },
      "outputs": [],
      "source": [
        "node.run('sudo apt update')\n",
        "node.run('sudo apt -y install python3-pip python3-dev')\n",
        "node.run('sudo pip3 install --upgrade pip')"
      ]
    },
    {
      "cell_type": "markdown",
      "metadata": {
        "id": "58wuXJaFe8KS"
      },
      "source": [
        "#### **Install Python Packages**"
      ]
    },
    {
      "cell_type": "code",
      "execution_count": null,
      "metadata": {
        "id": "ZZSgadcvfAEQ"
      },
      "outputs": [],
      "source": [
        "node.run('python3 -m pip install --user tensorflow')\n",
        "node.run('python3 -m pip install --user matplotlib')\n",
        "node.run('python3 -m pip install --user pathlib')\n",
        "node.run('python3 -m pip install --user numpy')"
      ]
    },
    {
      "cell_type": "markdown",
      "metadata": {
        "id": "fgTNS0t7fBQM"
      },
      "source": [
        "### **Retrieve Materials**\n",
        "Finally, get a copy of the code you will run:"
      ]
    },
    {
      "cell_type": "code",
      "execution_count": null,
      "metadata": {
        "id": "_8EdMWzqfLb7"
      },
      "outputs": [],
      "source": [
        "node.run('git clone https://github.com/AhmedFarrukh/experimental.git')"
      ]
    },
    {
      "cell_type": "markdown",
      "metadata": {
        "id": "0xo-6M4j5HXl"
      },
      "source": [
        "### **Run Experiment**"
      ]
    },
    {
      "cell_type": "markdown",
      "metadata": {
        "id": "juxrHBNS5HXl"
      },
      "source": [
        "Verify that the code files have correctly been loaded:"
      ]
    },
    {
      "cell_type": "code",
      "execution_count": null,
      "metadata": {
        "tags": [],
        "id": "6Jbl37HQ5HXl"
      },
      "outputs": [],
      "source": [
        "node.run('ls ./experimental')"
      ]
    },
    {
      "cell_type": "markdown",
      "metadata": {
        "id": "HiE5CSKf5HXl"
      },
      "source": [
        "Run the following cell to load CNN models and apply Dynamic Range Quantization. Both original and quantized models are saved in the ./tflite_models directory."
      ]
    },
    {
      "cell_type": "code",
      "execution_count": null,
      "metadata": {
        "id": "B_e0QsyF5HXl"
      },
      "outputs": [],
      "source": [
        "node.run('python3 ./experimental/quantizingModels.py')"
      ]
    },
    {
      "cell_type": "markdown",
      "metadata": {
        "id": "DHZKLDQO5HXm"
      },
      "source": [
        "Run the next cell to load the benchmark."
      ]
    },
    {
      "cell_type": "code",
      "execution_count": null,
      "metadata": {
        "tags": [],
        "id": "Wz5lrLLn5HXm"
      },
      "outputs": [],
      "source": [
        "node.run('mkdir ./benchmark')\n",
        "node.run('wget https://storage.googleapis.com/tensorflow-nightly-public/prod/tensorflow/release/lite/tools/nightly/latest/linux_x86-64_benchmark_model -P ./benchmark')\n",
        "node.run('chmod +x ./benchmark/linux_x86-64_benchmark_model')"
      ]
    },
    {
      "cell_type": "markdown",
      "metadata": {
        "id": "M_BwqVTy5HXm"
      },
      "source": [
        "Finally, use the benchmark to measure the inference time and memory footprint of each model."
      ]
    },
    {
      "cell_type": "code",
      "execution_count": null,
      "metadata": {
        "id": "hL3BH5yU5HXm"
      },
      "outputs": [],
      "source": [
        "node.run('python3 ./experimental/measuringInferenceTimes.py')"
      ]
    },
    {
      "cell_type": "markdown",
      "metadata": {
        "id": "8vFsW19_5HXm"
      },
      "source": [
        "Check if the plots for the results have been correctly saved:"
      ]
    },
    {
      "cell_type": "code",
      "execution_count": null,
      "metadata": {
        "id": "SbryT_Zu5HXm"
      },
      "outputs": [],
      "source": [
        "node.run('ls ./results')"
      ]
    },
    {
      "cell_type": "markdown",
      "metadata": {
        "id": "sBdrYU9s5HXn"
      },
      "source": [
        "Copy and paste the output of the following command in the Jupyter notebook terminal to transfer the plots of results to the Jupyter environment."
      ]
    },
    {
      "cell_type": "code",
      "execution_count": null,
      "metadata": {
        "id": "QwfHvYqR5HXn"
      },
      "outputs": [],
      "source": [
        "print(f'scp -ri ~/.ssh/id_rsa_chameleon cc@{reserved_fip}:/home/cc/results ./work')"
      ]
    },
    {
      "cell_type": "markdown",
      "metadata": {
        "id": "pR4ZZaMb5HXn"
      },
      "source": [
        "The plots resulting from the experiment should not be in the /work/results directory of the Jupyter environment."
      ]
    },
    {
      "cell_type": "markdown",
      "metadata": {
        "id": "uu-8vSAcyqAJ"
      },
      "source": [
        "## **Release Resources**\n",
        "If you finish with your experimentation before your lease expires, release your resources and tear down your environment by running the following (commented out to prevent accidental deletions).\n",
        "\n",
        "This section is designed to work as a \"standalone\" portion - you can come back to this notebook, ignore the top part, and just run this section to delete your reasources."
      ]
    },
    {
      "cell_type": "code",
      "execution_count": null,
      "metadata": {
        "id": "V69kSBZWyyCl",
        "jupyter": {
          "source_hidden": true
        },
        "tags": []
      },
      "outputs": [],
      "source": [
        "\n",
        "# setup environment - if you made any changes in the top part, make the same changes here\n",
        "import chi, os\n",
        "from chi import lease, server\n",
        "\n",
        "PROJECT_NAME = os.getenv('OS_PROJECT_NAME')\n",
        "chi.use_site(\"CHI@UC\")\n",
        "chi.set(\"project_name\", PROJECT_NAME)\n",
        "\n",
        "\n",
        "lease = chi.lease.get_lease(f\"{username}-{NODE_TYPE}\")"
      ]
    },
    {
      "cell_type": "code",
      "execution_count": null,
      "metadata": {
        "id": "loz0O2Y9yyhz"
      },
      "outputs": [],
      "source": [
        "DELETE = True\n",
        "# DELETE = True\n",
        "\n",
        "if DELETE:\n",
        "    # delete server\n",
        "    server_id = chi.server.get_server_id(f\"{username}-{NODE_TYPE}\")\n",
        "    chi.server.delete_server(server_id)\n",
        "\n",
        "    # release floating IP\n",
        "    reserved_fip =  chi.lease.get_reserved_floating_ips(lease[\"id\"])[0]\n",
        "    ip_info = chi.network.get_floating_ip(reserved_fip)\n",
        "    chi.neutron().delete_floatingip(ip_info[\"id\"])\n",
        "\n",
        "    # delete lease\n",
        "    chi.lease.delete_lease(lease[\"id\"])"
      ]
    }
  ],
  "metadata": {
    "colab": {
      "provenance": [],
      "include_colab_link": true
    },
    "kernelspec": {
      "display_name": "Python 3 (ipykernel)",
      "language": "python",
      "name": "python3"
    },
    "language_info": {
      "codemirror_mode": {
        "name": "ipython",
        "version": 3
      },
      "file_extension": ".py",
      "mimetype": "text/x-python",
      "name": "python",
      "nbconvert_exporter": "python",
      "pygments_lexer": "ipython3",
      "version": "3.10.9"
    }
  },
  "nbformat": 4,
  "nbformat_minor": 0
}
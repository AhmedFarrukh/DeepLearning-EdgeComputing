{
  "cells": [
    {
      "cell_type": "markdown",
      "metadata": {
        "id": "view-in-github",
        "colab_type": "text"
      },
      "source": [
        "<a href=\"https://colab.research.google.com/github/AhmedFarrukh/DeepLearning-EdgeComputing/blob/main/notebooks/CPU_reserve.ipynb\" target=\"_parent\"><img src=\"https://colab.research.google.com/assets/colab-badge.svg\" alt=\"Open In Colab\"/></a>"
      ]
    },
    {
      "cell_type": "markdown",
      "metadata": {
        "id": "yi7dFXYh5PVt"
      },
      "source": [
        "# Run a single user notebook server on Chameleon\n",
        "\n",
        "This notebook describes how to run a single user Jupyter notebook server on Chameleon. This allows you to run experiments requiring bare metal access, storage, memory, GPU and compute  resources on Chameleon using a Jupyter notebook interface."
      ]
    },
    {
      "cell_type": "markdown",
      "metadata": {
        "id": "4mNXz7pS5PVv"
      },
      "source": [
        "## Provision the resource\n"
      ]
    },
    {
      "cell_type": "markdown",
      "metadata": {
        "id": "8qNkXGZS5PVv"
      },
      "source": [
        "### Check resource availability"
      ]
    },
    {
      "cell_type": "markdown",
      "metadata": {
        "id": "Zu8SY_ue5PVv"
      },
      "source": [
        "This notebook will try to reserve a bare metal Ubuntu on CHI@UC - pending availability. Before you begin, you should check the host calendar at [https://chi.uc.chameleoncloud.org/project/leases/calendar/host/](https://chi.uc.chameleoncloud.org/project/leases/calendar/host/) to see what node types are available."
      ]
    },
    {
      "cell_type": "markdown",
      "metadata": {
        "id": "6n_aXeN35PVv"
      },
      "source": [
        "### Chameleon configuration\n",
        "\n",
        "You can change your Chameleon project name (if not using the one that is automatically configured in the JupyterHub environment) and the site on which to reserve resources (depending on availability) in the following cell."
      ]
    },
    {
      "cell_type": "code",
      "execution_count": null,
      "metadata": {
        "id": "yvB1T46G5PVw"
      },
      "outputs": [],
      "source": [
        "import chi, os\n",
        "\n",
        "PROJECT_NAME = os.getenv('OS_PROJECT_NAME')\n",
        "chi.use_site(\"CHI@UC\")\n",
        "chi.set(\"project_name\", PROJECT_NAME)\n",
        "username = os.getenv('USER')\n"
      ]
    },
    {
      "cell_type": "markdown",
      "metadata": {
        "id": "1Z_m1NDz5PVx"
      },
      "source": [
        "If you need to change the details of the Chameleon server, e.g. use a different OS image, or a different node type depending on availability, you can do that in the following cell."
      ]
    },
    {
      "cell_type": "code",
      "execution_count": null,
      "metadata": {
        "id": "PKBQCrhl5PVx"
      },
      "outputs": [],
      "source": [
        "chi.set(\"image\", \"CC-Ubuntu20.04\")\n",
        "NODE_TYPE = \"compute_cascadelake_r\""
      ]
    },
    {
      "cell_type": "markdown",
      "metadata": {
        "id": "IB1S9n655PVx"
      },
      "source": [
        "### Reservation\n",
        "\n",
        "The following cell will create a reservation that begins now, and ends in 8 hours. You can modify the start and end date as needed."
      ]
    },
    {
      "cell_type": "code",
      "execution_count": null,
      "metadata": {
        "id": "TNRPrhgE5PVx"
      },
      "outputs": [],
      "source": [
        "from chi import lease\n",
        "\n",
        "\n",
        "res = []\n",
        "lease.add_node_reservation(res, node_type=NODE_TYPE, count=1)\n",
        "lease.add_fip_reservation(res, count=1)\n",
        "start_date, end_date = lease.lease_duration(days=0, hours=8)\n",
        "\n",
        "l = lease.create_lease(f\"{username}-{NODE_TYPE}\", res, start_date=start_date, end_date=end_date)\n",
        "l = lease.wait_for_active(l[\"id\"])  #Comment this line if the lease starts in the future"
      ]
    },
    {
      "cell_type": "code",
      "execution_count": null,
      "metadata": {
        "id": "Ws6wXB3S5PVx"
      },
      "outputs": [],
      "source": [
        "# continue here, whether using a lease created just now or one created earlier\n",
        "l = lease.get_lease(f\"{username}-{NODE_TYPE}\")\n",
        "l['id']"
      ]
    },
    {
      "cell_type": "markdown",
      "metadata": {
        "id": "Nc813nKA5PVx"
      },
      "source": [
        "### Provisioning resources\n",
        "\n",
        "This cell provisions resources. It will take approximately 10 minutes. You can check on its status in the Chameleon web-based UI: [https://chi.uc.chameleoncloud.org/project/instances/](https://chi.uc.chameleoncloud.org/project/instances/), then come back here when it is in the READY state."
      ]
    },
    {
      "cell_type": "code",
      "execution_count": null,
      "metadata": {
        "id": "nDIIULeN5PVx"
      },
      "outputs": [],
      "source": [
        "from chi import server\n",
        "\n",
        "reservation_id = lease.get_node_reservation(l[\"id\"])\n",
        "server.create_server(\n",
        "    f\"{username}-{NODE_TYPE}\",\n",
        "    reservation_id=reservation_id,\n",
        "    image_name=chi.get(\"image\")\n",
        ")\n",
        "server_id = server.get_server_id(f\"{username}-{NODE_TYPE}\")\n",
        "server.wait_for_active(server_id)"
      ]
    },
    {
      "cell_type": "markdown",
      "metadata": {
        "id": "5gICvjqP5PVy"
      },
      "source": [
        "Associate an IP address with this server:"
      ]
    },
    {
      "cell_type": "code",
      "execution_count": null,
      "metadata": {
        "id": "UJOuKoSK5PVy"
      },
      "outputs": [],
      "source": [
        "reserved_fip = lease.get_reserved_floating_ips(l[\"id\"])[0]\n",
        "server.associate_floating_ip(server_id,reserved_fip)"
      ]
    },
    {
      "cell_type": "markdown",
      "metadata": {
        "id": "sHKT_3_d5PVy"
      },
      "source": [
        "and wait for it to come up:"
      ]
    },
    {
      "cell_type": "code",
      "execution_count": null,
      "metadata": {
        "id": "gV59pScr5PVy"
      },
      "outputs": [],
      "source": [
        "server.wait_for_tcp(reserved_fip, port=22)"
      ]
    },
    {
      "cell_type": "markdown",
      "metadata": {
        "id": "wIKDtEQ15PVy"
      },
      "source": [
        "## Install stuff"
      ]
    },
    {
      "cell_type": "markdown",
      "metadata": {
        "id": "c0Zs0KSX5PVy"
      },
      "source": [
        "The following cells will install some basic packages on your Chameleon server."
      ]
    },
    {
      "cell_type": "code",
      "execution_count": null,
      "metadata": {
        "id": "M3X3wDQI5PVy"
      },
      "outputs": [],
      "source": [
        "from chi import ssh\n",
        "\n",
        "node = ssh.Remote(reserved_fip)"
      ]
    },
    {
      "cell_type": "code",
      "execution_count": null,
      "metadata": {
        "id": "KQeLTkUl5PVy"
      },
      "outputs": [],
      "source": [
        "node.run('sudo apt update')\n",
        "node.run('sudo apt -y install python3-pip python3-dev')\n",
        "node.run('sudo pip3 install --upgrade pip')"
      ]
    },
    {
      "cell_type": "markdown",
      "metadata": {
        "id": "A8I8Tpgo5PVy"
      },
      "source": [
        "### Install Python packages"
      ]
    },
    {
      "cell_type": "code",
      "execution_count": null,
      "metadata": {
        "id": "cIgR_T_c5PVy"
      },
      "outputs": [],
      "source": [
        "node.run('python3 -m pip install --user matplotlib')"
      ]
    },
    {
      "cell_type": "code",
      "execution_count": null,
      "metadata": {
        "id": "Wrg76TC35PVy"
      },
      "outputs": [],
      "source": [
        "node.run('python3 -m pip install --user pathlib')"
      ]
    },
    {
      "cell_type": "code",
      "execution_count": null,
      "metadata": {
        "id": "E7RTRe1U5PVz"
      },
      "outputs": [],
      "source": [
        "node.run('python3 -m pip install --user numpy')"
      ]
    },
    {
      "cell_type": "code",
      "execution_count": null,
      "metadata": {
        "id": "cQ2j5jk75PVz"
      },
      "outputs": [],
      "source": [
        "node.run('python3 -m pip install --user gdown')"
      ]
    },
    {
      "cell_type": "code",
      "execution_count": null,
      "metadata": {
        "id": "eBlOWiYN5PVz"
      },
      "outputs": [],
      "source": [
        "node.run('python3 -m pip install --user pandas')"
      ]
    },
    {
      "cell_type": "markdown",
      "metadata": {
        "id": "e35iRAhE5PVz"
      },
      "source": [
        "### Set up Jupyter on server"
      ]
    },
    {
      "cell_type": "markdown",
      "metadata": {
        "id": "jlV_eAY65PVz"
      },
      "source": [
        "Install Jupyter:"
      ]
    },
    {
      "cell_type": "code",
      "execution_count": null,
      "metadata": {
        "id": "b8J5T_vE5PVz"
      },
      "outputs": [],
      "source": [
        "node.run('python3 -m pip install --user  jupyter-core jupyter-client jupyter -U --force-reinstall')"
      ]
    },
    {
      "cell_type": "markdown",
      "metadata": {
        "id": "xZhaCMSd5PVz"
      },
      "source": [
        "### Retrieve the materials\n",
        "\n",
        "Finally, get a copy of the notebooks that you will run:"
      ]
    },
    {
      "cell_type": "code",
      "execution_count": null,
      "metadata": {
        "id": "1txyrECF5PVz"
      },
      "outputs": [],
      "source": [
        "node.run('git clone https://github.com/AhmedFarrukh/DeepLearning-EdgeComputing.git')"
      ]
    },
    {
      "cell_type": "markdown",
      "metadata": {
        "id": "A5Q329v-5PVz"
      },
      "source": [
        "## Run a JupyterHub server"
      ]
    },
    {
      "cell_type": "markdown",
      "metadata": {
        "id": "ilvm9NPR5PV0"
      },
      "source": [
        "Run the following cell:"
      ]
    },
    {
      "cell_type": "code",
      "execution_count": null,
      "metadata": {
        "id": "bSmgRDU35PV0"
      },
      "outputs": [],
      "source": [
        "print('ssh -L 127.0.0.1:8888:127.0.0.1:8888 cc@' + reserved_fip)"
      ]
    },
    {
      "cell_type": "markdown",
      "metadata": {
        "id": "iVCR2Gb45PV0"
      },
      "source": [
        "then paste its output into a *local* terminal on your own device, to set up a tunnel to the Jupyter server. If your Chameleon key is not in the default location, you should also specify the path to your key as an argument, using `-i`. Leave this SSH session open."
      ]
    },
    {
      "cell_type": "markdown",
      "metadata": {
        "id": "N085ry2k5PV0"
      },
      "source": [
        "Then, run the following cell, which will start a command that does not terminate:"
      ]
    },
    {
      "cell_type": "code",
      "execution_count": null,
      "metadata": {
        "id": "69KPeEwZ5PV0"
      },
      "outputs": [],
      "source": [
        "node.run(\"/home/cc/.local/bin/jupyter notebook --port=8888 --notebook-dir='DeepLearning-EdgeComputing/notebooks'\")"
      ]
    },
    {
      "cell_type": "markdown",
      "metadata": {
        "id": "z4grirJn5PV0"
      },
      "source": [
        "In the output of the cell above, look for a URL in this format:\n",
        "    \n",
        "```\n",
        "http://localhost:8888/?token=XXXXXXXXXXXXXXXXXXXXXXXXXXXXXXXXX\n",
        "```"
      ]
    },
    {
      "cell_type": "markdown",
      "metadata": {
        "id": "ymTFXOAi5PV5"
      },
      "source": [
        "Copy this URL and open it in a browser. Then, you can run the sequence of notebooks that you'll see there, in order."
      ]
    },
    {
      "cell_type": "markdown",
      "metadata": {
        "id": "8gDpsYyj5PV5"
      },
      "source": [
        "If you need to stop and re-start your Jupyter server,\n",
        "\n",
        "- Use Kernel > Interrupt Kernel *twice* to stop the cell above\n",
        "- Then run the following cell to kill whatever may be left running in the background."
      ]
    },
    {
      "cell_type": "code",
      "execution_count": null,
      "metadata": {
        "id": "mPxPKPa45PV5"
      },
      "outputs": [],
      "source": [
        "node.run(\"sudo killall jupyter-notebook\")"
      ]
    },
    {
      "cell_type": "markdown",
      "metadata": {
        "id": "cvFDeqjA5PV5"
      },
      "source": [
        "## Release resources\n",
        "\n",
        "If you finish with your experimentation before your lease expires,release your resources and tear down your environment by running the following (commented out to prevent accidental deletions).\n",
        "\n",
        "This section is designed to work as a \"standalone\" portion - you can come back to this notebook, ignore the top part, and just run this section to delete your reasources."
      ]
    },
    {
      "cell_type": "code",
      "execution_count": null,
      "metadata": {
        "id": "mpx40QmH5PV5"
      },
      "outputs": [],
      "source": [
        "# setup environment - if you made any changes in the top part, make the same changes here\n",
        "import chi, os\n",
        "from chi import lease, server\n",
        "\n",
        "PROJECT_NAME = os.getenv('OS_PROJECT_NAME')\n",
        "chi.use_site(\"CHI@UC\")\n",
        "chi.set(\"project_name\", PROJECT_NAME)\n",
        "\n",
        "\n",
        "lease = chi.lease.get_lease(f\"{username}-{NODE_TYPE}\")"
      ]
    },
    {
      "cell_type": "code",
      "execution_count": null,
      "metadata": {
        "id": "YWaDAslE5PV5"
      },
      "outputs": [],
      "source": [
        "DELETE = True\n",
        "# DELETE = True\n",
        "\n",
        "if DELETE:\n",
        "    # delete server\n",
        "    server_id = chi.server.get_server_id(f\"{username}-{NODE_TYPE}\")\n",
        "    chi.server.delete_server(server_id)\n",
        "\n",
        "    # release floating IP\n",
        "    reserved_fip =  chi.lease.get_reserved_floating_ips(lease[\"id\"])[0]\n",
        "    ip_info = chi.network.get_floating_ip(reserved_fip)\n",
        "    chi.neutron().delete_floatingip(ip_info[\"id\"])\n",
        "\n",
        "    # delete lease\n",
        "    chi.lease.delete_lease(lease[\"id\"])\n"
      ]
    },
    {
      "cell_type": "code",
      "execution_count": null,
      "metadata": {
        "id": "I3bYRsZR5PV6"
      },
      "outputs": [],
      "source": []
    }
  ],
  "metadata": {
    "kernelspec": {
      "display_name": "Python 3 (ipykernel)",
      "language": "python",
      "name": "python3"
    },
    "language_info": {
      "codemirror_mode": {
        "name": "ipython",
        "version": 3
      },
      "file_extension": ".py",
      "mimetype": "text/x-python",
      "name": "python",
      "nbconvert_exporter": "python",
      "pygments_lexer": "ipython3",
      "version": "3.10.9"
    },
    "vscode": {
      "interpreter": {
        "hash": "916dbcbb3f70747c44a77c7bcd40155683ae19c65e1c03b4aa3499c5328201f1"
      }
    },
    "colab": {
      "provenance": [],
      "include_colab_link": true
    }
  },
  "nbformat": 4,
  "nbformat_minor": 0
}
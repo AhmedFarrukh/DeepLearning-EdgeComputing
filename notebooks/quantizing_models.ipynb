{
 "cells": [
  {
   "cell_type": "markdown",
   "metadata": {},
   "source": [
    "## Applying Quantization"
   ],
   "id": "fd930518-b30b-4f22-bebe-224f65466152"
  },
  {
   "cell_type": "markdown",
   "metadata": {},
   "source": [
    "This notebook illustrates the process of applying Quantization to Deep Learning Models."
   ],
   "id": "63be30eb-b1b2-4cb9-837f-fd8a343ac5b9"
  },
  {
   "cell_type": "markdown",
   "metadata": {},
   "source": [
    "Quantization, a technique that compresses models by converting parameters from floating point to fixed width numbers, can be useful to prepare models for deployment on edge devices. It significantly decreases the size of models and may improve inference times as well. In this notebook, [Post-training Dynamic Range Quantization](https://www.tensorflow.org/lite/performance/post_training_quantization) is implemented, which converts model weights from floating point to integers with 8-bit precision."
   ],
   "id": "82cfb7d9-adb4-4e52-a92f-0ae23f7e07e6"
  },
  {
   "cell_type": "markdown",
   "metadata": {},
   "source": [
    "The technique is applied on popular Convolutional Neural Networks: MobileNet, InceptionV3, Resnet50, ResNet101, ResNet152, VGG16, VGG19."
   ],
   "id": "11a14ede-1178-49db-b258-f68ed0ff582a"
  },
  {
   "cell_type": "markdown",
   "metadata": {},
   "source": [
    "First, the neccessary libraries are imported."
   ],
   "id": "1a4abea4-03cc-4b48-9455-f7e6403a2681"
  },
  {
   "cell_type": "code",
   "execution_count": null,
   "metadata": {},
   "outputs": [],
   "source": [
    "import tensorflow as tf\n",
    "import numpy as np\n",
    "import os\n",
    "import numpy as np\n",
    "import pathlib"
   ],
   "id": "720753d6-45a4-4bd6-81db-521f2f881a0e"
  },
  {
   "cell_type": "markdown",
   "metadata": {},
   "source": [
    "A list of the names of the models to be quantized is defined."
   ],
   "id": "f58e06d4-cadd-4b59-b19c-d7b9b7be17e7"
  },
  {
   "cell_type": "code",
   "execution_count": null,
   "metadata": {},
   "outputs": [],
   "source": [
    "modelNames = [\"MobileNet\", \"InceptionV3\", \"ResNet50\", \"ResNet101\", \"ResNet152\", \"VGG16\", \"VGG19\"]"
   ],
   "id": "4b3e391e-cd0e-4434-822d-57b33d815969"
  },
  {
   "cell_type": "markdown",
   "metadata": {},
   "source": [
    "The models are loaded using the Keras API. One instance of each model is converted to tflite format without any optimization; another instance is optimized using Dynamic Range Quantization."
   ],
   "id": "ddd3057f-2ab8-4819-a886-0349893ad800"
  },
  {
   "cell_type": "markdown",
   "metadata": {},
   "source": [
    "Both the original and the quantized versions of the models are stored in the `./tflite_models directory`."
   ],
   "id": "a4489b68-8551-4814-9899-b06c344f0213"
  },
  {
   "cell_type": "code",
   "execution_count": null,
   "metadata": {},
   "outputs": [],
   "source": [
    "for modelName in modelNames:\n",
    "  model_class = getattr(tf.keras.applications, modelName)\n",
    "  model = model_class(weights='imagenet')\n",
    "\n",
    "  converter = tf.lite.TFLiteConverter.from_keras_model(model)\n",
    "  tflite_model = converter.convert()\n",
    "\n",
    "  converter = tf.lite.TFLiteConverter.from_keras_model(model)\n",
    "  converter.optimizations = [tf.lite.Optimize.DEFAULT]\n",
    "  tflite_model_quant = converter.convert()\n",
    "\n",
    "  tflite_models_dir = pathlib.Path(\"/root/tflite_models/\")\n",
    "  tflite_models_dir.mkdir(exist_ok=True, parents=True)\n",
    "\n",
    "  # Save the unquantized/float model:\n",
    "  tflite_model_file = tflite_models_dir/(modelName+\".tflite\")\n",
    "  tflite_model_file.write_bytes(tflite_model)\n",
    "  # Save the quantized model:\n",
    "  tflite_model_quant_file = tflite_models_dir/(modelName+\"_quant.tflite\")\n",
    "  tflite_model_quant_file.write_bytes(tflite_model_quant)"
   ],
   "id": "c93b85da-bbb9-46ca-9e2e-1e8980d10e7c"
  },
  {
   "cell_type": "markdown",
   "metadata": {},
   "source": [
    "Next, we can verify that all models have been correctly saved by printing the contents of the `./tflite_models` directory. You should be able to see two files for each model, one for the original and one for the quantized version. Note that the size of the original models is bigger than the size of their quantized version."
   ],
   "id": "009514cd-c8e4-48d5-b08d-10be72705bb5"
  },
  {
   "cell_type": "code",
   "execution_count": null,
   "metadata": {},
   "outputs": [],
   "source": [
    "!ls -l ./tflite_models"
   ],
   "id": "73e17830-6690-4118-a1f1-a9f885ff82dd"
  }
 ],
 "nbformat": 4,
 "nbformat_minor": 5,
 "metadata": {}
}

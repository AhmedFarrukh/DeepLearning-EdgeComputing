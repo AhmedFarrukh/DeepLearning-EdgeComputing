{
 "cells": [
  {
   "cell_type": "markdown",
   "metadata": {},
   "source": [
    "## Applying Quantization"
   ],
   "id": "0d90b15d-ebdb-479e-8f21-9f38017ea79c"
  },
  {
   "cell_type": "markdown",
   "metadata": {},
   "source": [
    "This notebook illustrates the process of applying Quantization to Deep Learning Models."
   ],
   "id": "5c1f8d8b-de67-41fe-b748-ca9259104732"
  },
  {
   "cell_type": "markdown",
   "metadata": {},
   "source": [
    "Quantization, a technique that compresses models by converting parameters from floating point to fixed width numbers, can be useful to prepare models for deployment on edge devices. It significantly decreases the size of models and may improve inference times as well. In this notebook, [Post-training Dynamic Range Quantization](https://www.tensorflow.org/lite/performance/post_training_quantization) is implemented, which converts model weights from floating point to integers with 8-bit precision."
   ],
   "id": "bd34b9c6-e7f1-46ac-b5a6-20331abf2023"
  },
  {
   "cell_type": "markdown",
   "metadata": {},
   "source": [
    "The technique is applied on popular Convolutional Neural Networks: MobileNet, InceptionV3, Resnet50, ResNet101, ResNet152, VGG16, VGG19."
   ],
   "id": "9506bc16-0fc7-4dcb-a45e-e4ca50be7733"
  },
  {
   "cell_type": "markdown",
   "metadata": {},
   "source": [
    "First, the neccessary libraries are imported."
   ],
   "id": "f85fb861-7cb4-424b-98f4-09fb0ca3944c"
  },
  {
   "cell_type": "code",
   "execution_count": null,
   "metadata": {},
   "outputs": [],
   "source": [
    "import tensorflow as tf\n",
    "import numpy as np\n",
    "import os\n",
    "import numpy as np\n",
    "import pathlib"
   ],
   "id": "888422e1-592a-4096-ab57-dca471f8c9f1"
  },
  {
   "cell_type": "markdown",
   "metadata": {},
   "source": [
    "A list of the names of the models to be quantized is defined."
   ],
   "id": "220a73e5-078e-49a2-bf7a-77288fa49ed4"
  },
  {
   "cell_type": "code",
   "execution_count": null,
   "metadata": {},
   "outputs": [],
   "source": [
    "modelNames = [\"MobileNet\", \"InceptionV3\", \"ResNet50\", \"ResNet101\", \"ResNet152\", \"VGG16\", \"VGG19\"]"
   ],
   "id": "2687bb79-f788-4f44-a883-307eed427276"
  },
  {
   "cell_type": "markdown",
   "metadata": {},
   "source": [
    "The models are loaded using the Keras API. One instance of each model is converted to tflite format without any optimization; another instance is optimized using Dynamic Range Quantization."
   ],
   "id": "536b016d-8a91-4262-a85e-3038f73609ac"
  },
  {
   "cell_type": "markdown",
   "metadata": {},
   "source": [
    "Both the original and the quantized versions of the models are stored in the `./tflite_models directory`."
   ],
   "id": "7973c75e-1019-451b-b236-55f83e51447e"
  },
  {
   "cell_type": "code",
   "execution_count": null,
   "metadata": {},
   "outputs": [],
   "source": [
    "for modelName in modelNames:\n",
    "  model_class = getattr(tf.keras.applications, modelName)\n",
    "  model = model_class(weights='imagenet')\n",
    "\n",
    "  converter = tf.lite.TFLiteConverter.from_keras_model(model)\n",
    "  tflite_model = converter.convert()\n",
    "\n",
    "  converter = tf.lite.TFLiteConverter.from_keras_model(model)\n",
    "  converter.optimizations = [tf.lite.Optimize.DEFAULT]\n",
    "  tflite_model_quant = converter.convert()\n",
    "\n",
    "  tflite_models_dir = pathlib.Path(\"/root/tflite_models/\")\n",
    "  tflite_models_dir.mkdir(exist_ok=True, parents=True)\n",
    "\n",
    "  # Save the unquantized/float model:\n",
    "  tflite_model_file = tflite_models_dir/(modelName+\".tflite\")\n",
    "  tflite_model_file.write_bytes(tflite_model)\n",
    "  # Save the quantized model:\n",
    "  tflite_model_quant_file = tflite_models_dir/(modelName+\"_quant.tflite\")\n",
    "  tflite_model_quant_file.write_bytes(tflite_model_quant)"
   ],
   "id": "f430e01f-a331-4745-b578-c4b5355d7983"
  },
  {
   "cell_type": "markdown",
   "metadata": {},
   "source": [
    "Next, we can verify that all models have been correctly saved by printing the contents of the `./tflite_models` directory. You should be able to see two files for each model, one for the original and one for the quantized version. Note that the size of the original models is bigger than the size of their quantized version."
   ],
   "id": "f1bca950-fe55-4d65-b54b-a33ad8caf1cf"
  },
  {
   "cell_type": "code",
   "execution_count": null,
   "metadata": {},
   "outputs": [],
   "source": [
    "!ls -l ./tflite_models"
   ],
   "id": "341fbe14-0b2a-4e6e-839b-80a0aaf513f6"
  }
 ],
 "nbformat": 4,
 "nbformat_minor": 5,
 "metadata": {}
}

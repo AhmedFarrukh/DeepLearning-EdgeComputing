{
 "cells": [
  {
   "cell_type": "markdown",
   "metadata": {},
   "source": [
    "## Applying Quantization"
   ],
   "id": "cef23dad-9094-401b-88df-961bf421b8b6"
  },
  {
   "cell_type": "markdown",
   "metadata": {},
   "source": [
    "This notebook illustrates the process of applying Quantization to Deep Learning Models."
   ],
   "id": "1dc04e62-b3e7-4419-91d0-0f1fdc6bed65"
  },
  {
   "cell_type": "markdown",
   "metadata": {},
   "source": [
    "Quantization, a technique that compresses models by converting parameters from floating point to fixed width numbers, can be useful to prepare models for deployment on edge devices. It significantly decreases the size of models and may improve inference times as well. In this notebook, [Post-training Dynamic Range Quantization](https://www.tensorflow.org/lite/performance/post_training_quantization) is implemented, which converts model weights from floating point to integers with 8-bit precision."
   ],
   "id": "a8bf8564-1b83-434a-886d-4b1b5ce00cff"
  },
  {
   "cell_type": "markdown",
   "metadata": {},
   "source": [
    "The technique is applied on popular Convolutional Neural Networks: MobileNet, InceptionV3, Resnet50, ResNet101, ResNet152, VGG16, VGG19."
   ],
   "id": "5dd7ba2d-dfff-4601-b410-978fd420efec"
  },
  {
   "cell_type": "markdown",
   "metadata": {},
   "source": [
    "First, let’s install TensorFlow (version 2.17.0)."
   ],
   "id": "7689c610-efc5-48fe-a88a-d4174d8886ec"
  },
  {
   "cell_type": "code",
   "execution_count": null,
   "metadata": {},
   "outputs": [],
   "source": [
    "pip install tensorflow==2.17.0"
   ],
   "id": "f62a944d-ebac-4c69-b7e9-5b94e83fa17c"
  },
  {
   "cell_type": "markdown",
   "metadata": {},
   "source": [
    "Next, let’s import the neccessary libraries."
   ],
   "id": "bb971e07-7002-4e8c-8c33-1ce3a212aff3"
  },
  {
   "cell_type": "code",
   "execution_count": null,
   "metadata": {},
   "outputs": [],
   "source": [
    "import tensorflow as tf\n",
    "import os\n",
    "import pathlib"
   ],
   "id": "08af9ca1-45c8-4da7-b8e1-753c7a72d8ea"
  },
  {
   "cell_type": "markdown",
   "metadata": {},
   "source": [
    "We can now define a list of the names of the models to be quantized."
   ],
   "id": "3d223a08-ec50-48df-88e9-89720d330f73"
  },
  {
   "cell_type": "code",
   "execution_count": null,
   "metadata": {},
   "outputs": [],
   "source": [
    "modelNames = [\"MobileNet\", \"InceptionV3\", \"ResNet50\", \"ResNet101\", \"ResNet152\", \"VGG16\", \"VGG19\"]"
   ],
   "id": "852408f6-2748-4980-8370-2ff0cbd1131c"
  },
  {
   "cell_type": "markdown",
   "metadata": {},
   "source": [
    "The models are then loaded using the Keras API. One instance of each model is converted to tflite format without any optimization; another instance is optimized using Dynamic Range Quantization."
   ],
   "id": "040c71d3-73bd-470d-b1b2-06340862e372"
  },
  {
   "cell_type": "markdown",
   "metadata": {},
   "source": [
    "Both the original and the quantized versions of the models are stored in the `./tflite_models directory`."
   ],
   "id": "47f0aff5-f9f1-4554-9939-0720a67310fa"
  },
  {
   "cell_type": "code",
   "execution_count": null,
   "metadata": {},
   "outputs": [],
   "source": [
    "for modelName in modelNames:\n",
    "  model_class = getattr(tf.keras.applications, modelName)\n",
    "  model = model_class(weights='imagenet')\n",
    "\n",
    "  converter = tf.lite.TFLiteConverter.from_keras_model(model)\n",
    "  tflite_model = converter.convert()\n",
    "\n",
    "  converter = tf.lite.TFLiteConverter.from_keras_model(model)\n",
    "  converter.optimizations = [tf.lite.Optimize.DEFAULT]\n",
    "  tflite_model_quant = converter.convert()\n",
    "\n",
    "  tflite_models_dir = pathlib.Path(\"/root/tflite_models/\")\n",
    "  tflite_models_dir.mkdir(exist_ok=True, parents=True)\n",
    "\n",
    "  # Save the unquantized/float model:\n",
    "  tflite_model_file = tflite_models_dir/(modelName+\".tflite\")\n",
    "  tflite_model_file.write_bytes(tflite_model)\n",
    "  # Save the quantized model:\n",
    "  tflite_model_quant_file = tflite_models_dir/(modelName+\"_quant.tflite\")\n",
    "  tflite_model_quant_file.write_bytes(tflite_model_quant)"
   ],
   "id": "89a34355-1231-45c2-a687-8fa309cfb967"
  },
  {
   "cell_type": "markdown",
   "metadata": {},
   "source": [
    "Next, we can verify that all models have been correctly saved by printing the contents of the `./tflite_models` directory. You should be able to see two files for each model, one for the original and one for the quantized version. Note that the size of the original models is bigger than the size of their quantized version."
   ],
   "id": "8ab23be9-2321-46ee-becb-817b4778000e"
  },
  {
   "cell_type": "code",
   "execution_count": null,
   "metadata": {},
   "outputs": [],
   "source": [
    "!ls -l --block-size=M ./tflite_models"
   ],
   "id": "92c23672-7946-41f0-8ccf-af2d3cf3a9da"
  }
 ],
 "nbformat": 4,
 "nbformat_minor": 5,
 "metadata": {}
}

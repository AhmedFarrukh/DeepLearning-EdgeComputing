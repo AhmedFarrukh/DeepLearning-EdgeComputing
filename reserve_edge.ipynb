{
 "cells": [
  {
   "cell_type": "markdown",
   "metadata": {},
   "source": [
    "# Running a Single User Notebook Server on a Raspberry Pi device"
   ],
   "id": "f6be9807-f872-4acb-a39f-fadc76c05134"
  },
  {
   "cell_type": "markdown",
   "metadata": {},
   "source": [
    "This notebook describes how to run a single user Jupyter notebook server on a Raspberry Pi device using Chameleon. This would allow us to run our experiment on a Raspberry Pi 4 device."
   ],
   "id": "807ffc00-34a4-4cc0-b98b-e4d0b5d40db1"
  },
  {
   "cell_type": "markdown",
   "metadata": {},
   "source": [
    "## Reservation"
   ],
   "id": "209c076a-842c-46d1-8db2-e94563be15e6"
  },
  {
   "cell_type": "code",
   "execution_count": null,
   "metadata": {},
   "outputs": [],
   "source": [
    "import chi, os, time\n",
    "from chi import lease\n",
    "from chi import server\n",
    "from chi import container\n",
    "\n",
    "PROJECT_NAME = os.getenv('OS_PROJECT_NAME') # change this if you need to\n",
    "chi.use_site(\"CHI@Edge\")\n",
    "chi.set(\"project_name\", PROJECT_NAME)\n",
    "username = os.getenv('USER') # all exp resources will have this prefix"
   ],
   "id": "bdee78da-2951-44cf-9f39-5732acfd1ff3"
  },
  {
   "cell_type": "code",
   "execution_count": null,
   "metadata": {},
   "outputs": [],
   "source": [
    "NODE_TYPE = 'raspberrypi4-64'\n",
    "expname = \"edge-cpu\""
   ],
   "id": "3c041cad-b944-444a-9f24-e1720d3fce52"
  },
  {
   "cell_type": "code",
   "execution_count": null,
   "metadata": {},
   "outputs": [],
   "source": [
    "res = []\n",
    "lease.add_device_reservation(res, machine_name=NODE_TYPE, count=1)\n",
    "\n",
    "start_date, end_date = lease.lease_duration(days=0, hours=10)\n",
    "# if you won't start right now - comment the line above, uncomment two lines below\n",
    "# start_date = '2024-04-02 15:24' # manually define to desired start time\n",
    "# end_date = '2024-04-03 01:00' # manually define to desired start time\n",
    "\n",
    "l = lease.create_lease(f\"{username}-{NODE_TYPE}\", res, start_date=start_date, end_date=end_date)\n",
    "l = lease.wait_for_active(l[\"id\"])  #Comment this line if the lease starts in the future"
   ],
   "id": "a45593f2-aeb6-4529-9515-83fe59bbd7a4"
  },
  {
   "cell_type": "code",
   "execution_count": null,
   "metadata": {},
   "outputs": [],
   "source": [
    "# continue here, whether using a lease created just now or one created earlier\n",
    "l = lease.get_lease(f\"{username}-{NODE_TYPE}\")\n",
    "lease_id = l['id']"
   ],
   "id": "960670b0-4446-4aa2-a4f2-4b32e19f3b5f"
  },
  {
   "cell_type": "markdown",
   "metadata": {},
   "source": [
    "## Launching a Container"
   ],
   "id": "f31813bf-67fe-4437-bf1f-8ad3623c9b22"
  },
  {
   "cell_type": "markdown",
   "metadata": {},
   "source": [
    "Now, we are ready to launch a container!\n",
    "\n",
    "-   **Container** : A container is like a logical “box” that holds everything needed to run an application. It includes the application itself, along with all the necessary prerequisite software, files, and settings it needs to work properly.\n",
    "-   **Image** : An image is like a pre-packaged “starting point” for a container. On CHI@Edge, we can use any image that is built for the ARM64 architecture - e.g. anything on [this list](https://hub.docker.com/search?type=image&architecture=arm64&q=). In this example, we’re going to run a machine learning application written in Python, so we will use the `python:3.9-slim` image as a starting point for our container. This is a lightweight installation of the Debian Linux operating system with Python pre-installed.\n",
    "\n",
    "When we create the container, we could also specify some additional arguments:\n",
    "\n",
    "-   `workdir`: the “working directory” - location in the container’s filesystem from which any commands we specify will run.\n",
    "-   `exposed_ports`: if we run any applications inside the container that need to accept incoming requests from a network, we will need to export a “port” number for those incoming requests. Any requests to that port number will be forwarded to this container.\n",
    "-   `command`: if we want to execute a specific command immediately on starting the container, we can specify that as well.\n",
    "\n",
    "For this particular experiment, we’ll specify that port 22 - which is used for SSH access - should be exposed.\n",
    "\n",
    "Also, since we do not specify a `command` to run, we will further specify `interactive = True` - that it should open an interactive Python session - otherwise the container will immediately stop after it is started, because it has no “work” to do.\n",
    "\n",
    "First, we’ll specify the name for our container - we’ll include our username and the experiment name in the container name, so that it will be easy to identify our container in the CHI@Edge web interface."
   ],
   "id": "c5639d28-4f48-4eee-8525-5a03dee238fd"
  },
  {
   "cell_type": "code",
   "execution_count": null,
   "metadata": {},
   "outputs": [],
   "source": [
    "# set a name for the container\n",
    "# Note that underscore characters _ are not allowed - we replace each _ with a -\n",
    "container_name = f\"{username}-{expname}\".replace(\"_\",\"-\")"
   ],
   "id": "83d760f6-a098-44dd-8a34-c348ec25c37b"
  },
  {
   "cell_type": "markdown",
   "metadata": {},
   "source": [
    "Then, we can create the container!"
   ],
   "id": "a39b84cc-8ab3-4efa-b7e4-802c66235a6f"
  },
  {
   "cell_type": "code",
   "execution_count": null,
   "metadata": {},
   "outputs": [],
   "source": [
    "try:\n",
    "    my_container = container.create_container(\n",
    "        container_name,\n",
    "        image=\"python:3.9-slim\",\n",
    "        reservation_id=lease.get_device_reservation(lease_id),\n",
    "        interactive=True,\n",
    "        exposed_ports=[22],\n",
    "        platform_version=2,\n",
    "    )\n",
    "except RuntimeError as ex:\n",
    "    print(ex)\n",
    "    print(f\"Please stop and/or delete {container_name} and try again\")\n",
    "else:\n",
    "    print(f\"Successfully created container: {container_name}!\")"
   ],
   "id": "b5ff4d89-3724-43ce-9bab-d311dc1cfa5b"
  },
  {
   "cell_type": "markdown",
   "metadata": {},
   "source": [
    "The next cell waits for the container to be active - when it is, it will print some output related to the container state."
   ],
   "id": "205868a1-6d7e-4e29-aaec-138996e76de3"
  },
  {
   "cell_type": "code",
   "execution_count": null,
   "metadata": {},
   "outputs": [],
   "source": [
    "# wait until container is ready to use\n",
    "container.wait_for_active(my_container.uuid)"
   ],
   "id": "bc0368c1-0478-4bf0-b096-a19018c83911"
  },
  {
   "cell_type": "markdown",
   "metadata": {},
   "source": [
    "Once the container is created, you should be able to see it and monitor its status on the [CHI@Edge web interface](https://chi.edge.chameleoncloud.org/project/container/containers). (If there was any problem while creating the container, you can also delete the container from that interface, in order to be able to try again.)"
   ],
   "id": "7ce3b78a-4560-4a98-a166-d46ae9c25688"
  },
  {
   "cell_type": "markdown",
   "metadata": {},
   "source": [
    "## Attach an Address and set up SSH"
   ],
   "id": "b494a593-2bea-46f2-b3e5-a5ccea65965c"
  },
  {
   "cell_type": "markdown",
   "metadata": {},
   "source": [
    "Just as with a conventional “server” on Chameleon, we can attach an address to our container, then use SSH to access its terminal.\n",
    "\n",
    "First, we’ll attach an address:"
   ],
   "id": "c2df0e43-0e2f-4b07-845f-9348f0965d0f"
  },
  {
   "cell_type": "code",
   "execution_count": null,
   "metadata": {},
   "outputs": [],
   "source": [
    "public_ip = container.associate_floating_ip(my_container.uuid)"
   ],
   "id": "c322b50a-8619-44f9-8bb2-14f45ba743d2"
  },
  {
   "cell_type": "markdown",
   "metadata": {},
   "source": [
    "Then, we need to install an SSH server on the container - it is not pre-installed on the image we selected. We can use the `container.execute()` function to run commands inside the container, in order to install the SSH server."
   ],
   "id": "b39f51b3-e0f5-4038-955b-f62234049f1d"
  },
  {
   "cell_type": "code",
   "execution_count": null,
   "metadata": {},
   "outputs": [],
   "source": [
    "container.execute(my_container.uuid, 'apt update')\n",
    "container.execute(my_container.uuid, 'apt -y install openssh-server')"
   ],
   "id": "6c8b0f22-db97-4633-8ae8-a1604c7505e1"
  },
  {
   "cell_type": "markdown",
   "metadata": {},
   "source": [
    "There is one more necessary step before we can access the container over SSH - we need to make sure our key is installed on the container. Here, we will upload the key from the Jupyter environment, and make sure it is configured with the appropriate file permissions:"
   ],
   "id": "b215f60d-5851-4337-bfb9-e5317689f390"
  },
  {
   "cell_type": "code",
   "execution_count": null,
   "metadata": {},
   "outputs": [],
   "source": [
    "!mkdir -p tmp_keys\n",
    "!cp /work/.ssh/id_rsa.pub tmp_keys/authorized_keys"
   ],
   "id": "195dacf4-b1b3-4156-bfd2-4ecf231d3c45"
  },
  {
   "cell_type": "code",
   "execution_count": null,
   "metadata": {},
   "outputs": [],
   "source": [
    "container.execute(my_container.uuid, 'mkdir -p /root/.ssh')\n",
    "container.upload(my_container.uuid, \"./tmp_keys/authorized_keys\", \"/root/.ssh\")\n",
    "container.execute(my_container.uuid, 'chown root /root/.ssh')\n",
    "container.execute(my_container.uuid, 'chown root /root/.ssh/authorized_keys')\n",
    "container.execute(my_container.uuid, 'chmod go-w /root')\n",
    "container.execute(my_container.uuid, 'chmod 700 /root/.ssh')\n",
    "container.execute(my_container.uuid, 'chmod 600 /root/.ssh/authorized_keys')"
   ],
   "id": "d7ef30e1-342a-43dc-9b8a-dc92f3864aea"
  },
  {
   "cell_type": "markdown",
   "metadata": {},
   "source": [
    "Start the SSH server in the container. The following cell should print “sshd is running”. It it’s not running, it can be an indication that the SSH server was not fully installed; wait a minute or two and then try this cell again:"
   ],
   "id": "0551e9c7-d317-4e47-a606-10b9e4931e00"
  },
  {
   "cell_type": "code",
   "execution_count": null,
   "metadata": {},
   "outputs": [],
   "source": [
    "container.execute(my_container.uuid, 'service ssh start')\n",
    "container.execute(my_container.uuid, 'service ssh status')"
   ],
   "id": "1dfb11ef-d7a8-4fa7-8844-48473ed86fb2"
  },
  {
   "cell_type": "markdown",
   "metadata": {},
   "source": [
    "## Install Required Libraries and Packages"
   ],
   "id": "23a6c22b-7dce-4384-a611-d5ae9869287d"
  },
  {
   "cell_type": "markdown",
   "metadata": {},
   "source": [
    "The following cells will install the libraries and packages required to initiate the Jupyter notebook server, and then execute the experiment notebook on this server."
   ],
   "id": "b8e300c3-e5f5-4a4d-af3a-0f05e22fd0b0"
  },
  {
   "cell_type": "markdown",
   "metadata": {},
   "source": [
    "We will need to install git on our edge container to get access to the experiment notebooks we want to run."
   ],
   "id": "e42bc1fc-6765-4734-98e5-9a46b40354ce"
  },
  {
   "cell_type": "code",
   "execution_count": null,
   "metadata": {},
   "outputs": [],
   "source": [
    "container.execute(my_container.uuid, 'apt update')\n",
    "container.execute(my_container.uuid, 'apt -y install git')"
   ],
   "id": "524d8ba0-b294-4d8e-937f-c6936bcce75c"
  },
  {
   "cell_type": "markdown",
   "metadata": {},
   "source": [
    "Next, let’s install the python packages and libraries needed to set up the Jupyter server."
   ],
   "id": "241bb42d-44a2-4084-8ed8-cf49324beca0"
  },
  {
   "cell_type": "code",
   "execution_count": null,
   "metadata": {},
   "outputs": [],
   "source": [
    "container.execute(my_container.uuid, 'pip install jupyter-core jupyter-client jupyter -U --force-reinstall --allow-root')"
   ],
   "id": "21a84dcf-c67d-45d7-aaad-2e40510fcc57"
  },
  {
   "cell_type": "markdown",
   "metadata": {},
   "source": [
    "Let’s also install the libraries we need to process the data we generate from benchmarking."
   ],
   "id": "8ecd6764-b3b9-4f10-9cc3-6b4bc3f37f82"
  },
  {
   "cell_type": "code",
   "execution_count": null,
   "metadata": {},
   "outputs": [],
   "source": [
    "container.execute(my_container.uuid, 'pip install matplotlib==3.7.5 gdown==5.2.0 pandas==2.0.3')"
   ],
   "id": "8c14c2d5-6bd6-4666-8459-2117bae7f8cb"
  },
  {
   "cell_type": "markdown",
   "metadata": {},
   "source": [
    "## Retrieve the materials"
   ],
   "id": "e1ab800c-7a80-4986-b4b7-fa0148971a76"
  },
  {
   "cell_type": "markdown",
   "metadata": {},
   "source": [
    "Finally, get a copy of the notebooks that you will run:"
   ],
   "id": "8d54834c-cc86-44f4-8556-d0a07978ac9d"
  },
  {
   "cell_type": "code",
   "execution_count": null,
   "metadata": {},
   "outputs": [],
   "source": [
    "container.execute(my_container.uuid, 'git clone https://github.com/AhmedFarrukh/DeepLearning-EdgeComputing.git')"
   ],
   "id": "823ca204-4744-4a78-9468-c403b4c2ac62"
  },
  {
   "cell_type": "markdown",
   "metadata": {},
   "source": [
    "## Run a JupyterHub server"
   ],
   "id": "44e621fe-ea78-487a-908b-7ea78b0761c4"
  },
  {
   "cell_type": "markdown",
   "metadata": {},
   "source": [
    "Run the following cell:"
   ],
   "id": "8f641cf1-92aa-49be-b449-0b1e8934ce0e"
  },
  {
   "cell_type": "code",
   "execution_count": null,
   "metadata": {},
   "outputs": [],
   "source": [
    "print('ssh -L 127.0.0.1:8888:127.0.0.1:8888 root@' + public_ip)"
   ],
   "id": "9b3852a8-e821-4cab-995e-34d46d88739b"
  },
  {
   "cell_type": "markdown",
   "metadata": {},
   "source": [
    "then paste its output into a *local* terminal on your own device, to set up a tunnel to the Jupyter server. If your Chameleon key is not in the default location, you should also specify the path to your key as an argument, using `-i`. Leave this SSH session open.\n",
    "\n",
    "Then, run the following cell, which will start a command that does not terminate:"
   ],
   "id": "28f21c58-5947-4e0f-82a9-ad0dc92d11d3"
  },
  {
   "cell_type": "code",
   "execution_count": null,
   "metadata": {},
   "outputs": [],
   "source": [
    "container.execute(my_container.uuid, \"jupyter notebook --port=8888 --notebook-dir='DeepLearning-EdgeComputing/notebooks'\")"
   ],
   "id": "fc5c07a2-8ab2-4c04-882e-9a283c0dc463"
  },
  {
   "cell_type": "markdown",
   "metadata": {},
   "source": [
    "In the output of the cell above, look for a URL in this format:\n",
    "\n",
    "    http://localhost:8888/?token=XXXXXXXXXXXXXXXXXXXXXXXXXXXXXXXXX\n",
    "\n",
    "Copy this URL and open it in a browser. Then, you can run the notebooks that you see there."
   ],
   "id": "80416660-7d44-4b8e-b993-59b72ed916f6"
  },
  {
   "cell_type": "markdown",
   "metadata": {},
   "source": [
    "Run the next cell to stop your Jupyter server."
   ],
   "id": "aad1d515-256b-4bbb-9a46-9aae9a671345"
  },
  {
   "cell_type": "code",
   "execution_count": null,
   "metadata": {},
   "outputs": [],
   "source": [
    "container.execute(my_container.uuid, 'sudo killall jupyter-notebook')"
   ],
   "id": "c25d181d-a508-490d-a423-960a6f38af5c"
  },
  {
   "cell_type": "markdown",
   "metadata": {},
   "source": [
    "## Delete the container"
   ],
   "id": "c0dfdef4-6440-4600-8b25-9336f3c71c7c"
  },
  {
   "cell_type": "markdown",
   "metadata": {},
   "source": [
    "Lastly, we should stop and delete our container so that others can create new containers using the same lease. To delete our container, we can run the following cell:"
   ],
   "id": "7e505958-0c9c-4030-bc9a-7bd67cca114f"
  },
  {
   "cell_type": "code",
   "execution_count": null,
   "metadata": {},
   "outputs": [],
   "source": [
    "container.destroy_container(my_container.uuid)"
   ],
   "id": "ec340428-cdc3-4383-9b5d-785a373ebdf1"
  },
  {
   "cell_type": "markdown",
   "metadata": {},
   "source": [
    "Also free up the IP that you we attached to the container, now that it is no longer in use:"
   ],
   "id": "00f84470-f949-45d3-b9c6-9d22908d111e"
  },
  {
   "cell_type": "code",
   "execution_count": null,
   "metadata": {},
   "outputs": [],
   "source": [
    "ip_details = chi.network.get_floating_ip(public_ip)\n",
    "chi.neutron().delete_floatingip(ip_details[\"id\"])"
   ],
   "id": "ce8da357-8ed0-4af2-a5a0-1a040d0c92a2"
  },
  {
   "cell_type": "markdown",
   "metadata": {},
   "source": [
    "Finally, run the following cell to delete the lease as well."
   ],
   "id": "cfa1b8f5-e4c3-4da4-a263-98cc5023421c"
  },
  {
   "cell_type": "code",
   "execution_count": null,
   "metadata": {},
   "outputs": [],
   "source": [
    "DELETE = False #Default value is False to prevent any accidental deletes. Change it to True for deleting the resources\n",
    "\n",
    "if DELETE:\n",
    "\n",
    "    # delete lease\n",
    "    chi.lease.delete_lease(l[\"id\"])"
   ],
   "id": "7bbfaf9d-d8ef-40b9-b762-2af20ff82a19"
  }
 ],
 "nbformat": 4,
 "nbformat_minor": 5,
 "metadata": {}
}

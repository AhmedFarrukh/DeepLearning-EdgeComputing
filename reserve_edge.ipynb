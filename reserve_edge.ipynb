{
 "cells": [
  {
   "cell_type": "markdown",
   "metadata": {},
   "source": [
    "# Running a Single User Notebook Server on a Raspberry Pi device"
   ],
   "id": "9c1c9af3-e5eb-4fcd-a10c-2a568d9ef754"
  },
  {
   "cell_type": "markdown",
   "metadata": {},
   "source": [
    "This notebook describes how to run a single user Jupyter notebook server on a Raspberry Pi device using Chameleon. This would allow us to run our experiment on a Raspberry Pi 4 device."
   ],
   "id": "f85a4bd5-c6c2-4c20-a799-24ec8bba75e6"
  },
  {
   "cell_type": "markdown",
   "metadata": {},
   "source": [
    "## Reservation"
   ],
   "id": "6dc6095d-ff06-430c-ab9c-97ef52708180"
  },
  {
   "cell_type": "code",
   "execution_count": null,
   "metadata": {},
   "outputs": [],
   "source": [
    "import chi, os, time\n",
    "from chi import lease\n",
    "from chi import server\n",
    "from chi import container\n",
    "\n",
    "PROJECT_NAME = os.getenv('OS_PROJECT_NAME') # change this if you need to\n",
    "chi.use_site(\"CHI@Edge\")\n",
    "chi.set(\"project_name\", PROJECT_NAME)\n",
    "username = os.getenv('USER') # all exp resources will have this prefix"
   ],
   "id": "abe0c62a-0576-43cd-a638-f0f83f27c0b7"
  },
  {
   "cell_type": "code",
   "execution_count": null,
   "metadata": {},
   "outputs": [],
   "source": [
    "NODE_TYPE = 'raspberrypi4-64'\n",
    "expname = \"edge-cpu\""
   ],
   "id": "cff38952-3d65-4462-9c86-ec1f3344da36"
  },
  {
   "cell_type": "code",
   "execution_count": null,
   "metadata": {},
   "outputs": [],
   "source": [
    "res = []\n",
    "lease.add_device_reservation(res, machine_name=NODE_TYPE, count=1)\n",
    "\n",
    "start_date, end_date = lease.lease_duration(days=0, hours=10)\n",
    "# if you won't start right now - comment the line above, uncomment two lines below\n",
    "# start_date = '2024-04-02 15:24' # manually define to desired start time\n",
    "# end_date = '2024-04-03 01:00' # manually define to desired start time\n",
    "\n",
    "l = lease.create_lease(f\"{username}-{NODE_TYPE}\", res, start_date=start_date, end_date=end_date)\n",
    "l = lease.wait_for_active(l[\"id\"])  #Comment this line if the lease starts in the future"
   ],
   "id": "7fd221fa-28cf-48cc-8bb1-21f71139dc72"
  },
  {
   "cell_type": "code",
   "execution_count": null,
   "metadata": {},
   "outputs": [],
   "source": [
    "# continue here, whether using a lease created just now or one created earlier\n",
    "l = lease.get_lease(f\"{username}-{NODE_TYPE}\")\n",
    "lease_id = l['id']"
   ],
   "id": "2862a860-451a-43da-bed1-5407df46196f"
  },
  {
   "cell_type": "markdown",
   "metadata": {},
   "source": [
    "## Launching a Container"
   ],
   "id": "38b0f89d-26fe-4782-ab48-06c472c4a47f"
  },
  {
   "cell_type": "markdown",
   "metadata": {},
   "source": [
    "Now, we are ready to launch a container!\n",
    "\n",
    "-   **Container** : A container is like a logical “box” that holds everything needed to run an application. It includes the application itself, along with all the necessary prerequisite software, files, and settings it needs to work properly.\n",
    "-   **Image** : An image is like a pre-packaged “starting point” for a container. On CHI@Edge, we can use any image that is built for the ARM64 architecture - e.g. anything on [this list](https://hub.docker.com/search?type=image&architecture=arm64&q=). In this example, we’re going to run a machine learning application written in Python, so we will use the `python:3.9-slim` image as a starting point for our container. This is a lightweight installation of the Debian Linux operating system with Python pre-installed.\n",
    "\n",
    "When we create the container, we could also specify some additional arguments:\n",
    "\n",
    "-   `workdir`: the “working directory” - location in the container’s filesystem from which any commands we specify will run.\n",
    "-   `exposed_ports`: if we run any applications inside the container that need to accept incoming requests from a network, we will need to export a “port” number for those incoming requests. Any requests to that port number will be forwarded to this container.\n",
    "-   `command`: if we want to execute a specific command immediately on starting the container, we can specify that as well.\n",
    "\n",
    "For this particular experiment, we’ll specify that port 22 - which is used for SSH access - should be exposed.\n",
    "\n",
    "Also, since we do not specify a `command` to run, we will further specify `interactive = True` - that it should open an interactive Python session - otherwise the container will immediately stop after it is started, because it has no “work” to do.\n",
    "\n",
    "First, we’ll specify the name for our container - we’ll include our username and the experiment name in the container name, so that it will be easy to identify our container in the CHI@Edge web interface."
   ],
   "id": "7675f00d-9414-41d4-953e-4bcb87b885a2"
  },
  {
   "cell_type": "code",
   "execution_count": null,
   "metadata": {},
   "outputs": [],
   "source": [
    "# set a name for the container\n",
    "# Note that underscore characters _ are not allowed - we replace each _ with a -\n",
    "container_name = f\"{username}-{expname}\".replace(\"_\",\"-\")"
   ],
   "id": "25da75ca-4e21-4317-8102-5a724c52b207"
  },
  {
   "cell_type": "markdown",
   "metadata": {},
   "source": [
    "Then, we can create the container!"
   ],
   "id": "e4bb9eb5-8d05-45eb-83db-2c911f9a583a"
  },
  {
   "cell_type": "code",
   "execution_count": null,
   "metadata": {},
   "outputs": [],
   "source": [
    "try:\n",
    "    my_container = container.create_container(\n",
    "        container_name,\n",
    "        image=\"python:3.9-slim\",\n",
    "        reservation_id=lease.get_device_reservation(lease_id),\n",
    "        interactive=True,\n",
    "        exposed_ports=[22],\n",
    "        platform_version=2,\n",
    "    )\n",
    "except RuntimeError as ex:\n",
    "    print(ex)\n",
    "    print(f\"Please stop and/or delete {container_name} and try again\")\n",
    "else:\n",
    "    print(f\"Successfully created container: {container_name}!\")"
   ],
   "id": "8a4a08fa-fb45-4b19-9691-b355727c6952"
  },
  {
   "cell_type": "markdown",
   "metadata": {},
   "source": [
    "The next cell waits for the container to be active - when it is, it will print some output related to the container state."
   ],
   "id": "28478f63-cf12-4ba3-a559-3b84f805d1bd"
  },
  {
   "cell_type": "code",
   "execution_count": null,
   "metadata": {},
   "outputs": [],
   "source": [
    "# wait until container is ready to use\n",
    "container.wait_for_active(my_container.uuid)"
   ],
   "id": "857befbc-bb01-4e11-8785-1fd638b763d8"
  },
  {
   "cell_type": "markdown",
   "metadata": {},
   "source": [
    "Once the container is created, you should be able to see it and monitor its status on the [CHI@Edge web interface](https://chi.edge.chameleoncloud.org/project/container/containers). (If there was any problem while creating the container, you can also delete the container from that interface, in order to be able to try again.)"
   ],
   "id": "5b919270-6cfb-4960-8351-5f365a1db957"
  },
  {
   "cell_type": "markdown",
   "metadata": {},
   "source": [
    "## Attach an Address and set up SSH"
   ],
   "id": "b79304be-fc2a-4cd3-bdfb-56de7279b67c"
  },
  {
   "cell_type": "markdown",
   "metadata": {},
   "source": [
    "Just as with a conventional “server” on Chameleon, we can attach an address to our container, then use SSH to access its terminal.\n",
    "\n",
    "First, we’ll attach an address:"
   ],
   "id": "2f62b909-4e95-4113-ba51-0e18fb54aa2f"
  },
  {
   "cell_type": "code",
   "execution_count": null,
   "metadata": {},
   "outputs": [],
   "source": [
    "public_ip = container.associate_floating_ip(my_container.uuid)"
   ],
   "id": "02c711bf-58cb-4f5a-b56d-261b5eb64a3b"
  },
  {
   "cell_type": "markdown",
   "metadata": {},
   "source": [
    "Then, we need to install an SSH server on the container - it is not pre-installed on the image we selected. We can use the `container.execute()` function to run commands inside the container, in order to install the SSH server."
   ],
   "id": "0de0424e-90d4-49c8-a250-b51b9729531c"
  },
  {
   "cell_type": "code",
   "execution_count": null,
   "metadata": {},
   "outputs": [],
   "source": [
    "container.execute(my_container.uuid, 'apt update')\n",
    "container.execute(my_container.uuid, 'apt -y install openssh-server')"
   ],
   "id": "da27826d-e082-4f2d-a401-f7aface629a2"
  },
  {
   "cell_type": "markdown",
   "metadata": {},
   "source": [
    "There is one more necessary step before we can access the container over SSH - we need to make sure our key is installed on the container. Here, we will upload the key from your local device, and make sure it is configured with the appropriate file permissions:"
   ],
   "id": "f3c85c66-46f1-4581-9100-db779caa549d"
  },
  {
   "cell_type": "code",
   "execution_count": null,
   "metadata": {},
   "outputs": [],
   "source": [
    "!mkdir -p tmp_keys\n",
    "!touch ./tmp_keys/authorized_keys"
   ],
   "id": "4235948d-517c-4c96-9e71-e22d7e29e0d8"
  },
  {
   "cell_type": "markdown",
   "metadata": {},
   "source": [
    "In the `./tmp_keys/authorized_keys` textfile (that you should be able to see in the file directory interface on the left), place your RSA public key. If you followed the ‘Hello-Chameleon’ tutorial, you can find your RSA public key by running `cat ~/.ssh/id_rsa_chameleon.pub` on your *local* terminal; then paste the output in the `./tmp_keys/authorized_keys` file."
   ],
   "id": "e8bb8c34-cab4-43cd-81a2-bd53c81f6d08"
  },
  {
   "cell_type": "markdown",
   "metadata": {},
   "source": [
    "Let’s make sure that your RSA public key can be found in `./tmp_keys/authorized_keys`. In output of the follow cell, you should be able to see text starting with ‘ssh-rsa …’"
   ],
   "id": "d1088f0b-43b5-4a89-8bba-0f5f7f96587c"
  },
  {
   "cell_type": "code",
   "execution_count": null,
   "metadata": {},
   "outputs": [],
   "source": [
    "!cat ./tmp_keys/authorized_keys"
   ],
   "id": "2efcae63-57a4-4fb1-95ba-4a3724d0fa99"
  },
  {
   "cell_type": "markdown",
   "metadata": {},
   "source": [
    "Next, let’s upload this key to the container and set the appropriate permissions."
   ],
   "id": "4ba9829d-36fe-4918-a74d-61b7620144ea"
  },
  {
   "cell_type": "code",
   "execution_count": null,
   "metadata": {},
   "outputs": [],
   "source": [
    "container.execute(my_container.uuid, 'mkdir -p /root/.ssh')\n",
    "container.upload(my_container.uuid, \"./tmp_keys/authorized_keys\", \"/root/.ssh\")\n",
    "container.execute(my_container.uuid, 'chown root /root/.ssh')\n",
    "container.execute(my_container.uuid, 'chown root /root/.ssh/authorized_keys')\n",
    "container.execute(my_container.uuid, 'chmod go-w /root')\n",
    "container.execute(my_container.uuid, 'chmod 700 /root/.ssh')\n",
    "container.execute(my_container.uuid, 'chmod 600 /root/.ssh/authorized_keys')"
   ],
   "id": "0ad698e8-d3b4-4ba9-a3ab-a81620e83525"
  },
  {
   "cell_type": "markdown",
   "metadata": {},
   "source": [
    "Start the SSH server in the container. The following cell should print “sshd is running”. It it’s not running, it can be an indication that the SSH server was not fully installed; wait a minute or two and then try this cell again:"
   ],
   "id": "e897ae87-35b7-4830-8014-915bf1357d25"
  },
  {
   "cell_type": "code",
   "execution_count": null,
   "metadata": {},
   "outputs": [],
   "source": [
    "container.execute(my_container.uuid, 'service ssh start')\n",
    "container.execute(my_container.uuid, 'service ssh status')"
   ],
   "id": "31a4d4d1-169d-4b3d-9d4c-036d3d397035"
  },
  {
   "cell_type": "markdown",
   "metadata": {},
   "source": [
    "## Install Required Libraries and Packages"
   ],
   "id": "0c5650ac-8594-4e39-a3ea-87ed966008c8"
  },
  {
   "cell_type": "markdown",
   "metadata": {},
   "source": [
    "The following cells will install the libraries and packages required to initiate the Jupyter notebook server, and then execute the experiment notebook on this server."
   ],
   "id": "db6d312a-5d45-451b-b8e2-15e065636dc4"
  },
  {
   "cell_type": "markdown",
   "metadata": {},
   "source": [
    "We will need to install git on our edge container to get access to the experiment notebooks we want to run."
   ],
   "id": "1abf6c9f-44a2-48a7-a30d-2d288c9041c2"
  },
  {
   "cell_type": "code",
   "execution_count": null,
   "metadata": {},
   "outputs": [],
   "source": [
    "container.execute(my_container.uuid, 'apt update')\n",
    "container.execute(my_container.uuid, 'apt -y install git')"
   ],
   "id": "62725a99-9fa5-43f6-85f6-a127d44a9056"
  },
  {
   "cell_type": "markdown",
   "metadata": {},
   "source": [
    "Next, let’s install the python packages and libraries needed to set up the Jupyter server."
   ],
   "id": "987c29fe-bfb3-4f63-94fa-ae2d4c281e80"
  },
  {
   "cell_type": "code",
   "execution_count": null,
   "metadata": {},
   "outputs": [],
   "source": [
    "container.execute(my_container.uuid, 'pip install jupyter-core jupyter-client jupyter -U --force-reinstall --allow-root')"
   ],
   "id": "acf5a136-112d-4842-a45c-3be6f4f28489"
  },
  {
   "cell_type": "markdown",
   "metadata": {},
   "source": [
    "Let’s also install the libraries we need to process the data we generate from benchmarking."
   ],
   "id": "4996f741-09d1-4ce9-8403-2922c94d8fdd"
  },
  {
   "cell_type": "code",
   "execution_count": null,
   "metadata": {},
   "outputs": [],
   "source": [
    "container.execute(my_container.uuid, 'pip install matplotlib==3.7.5 gdown==5.2.0 pandas==2.0.3')"
   ],
   "id": "dcfd3837-de32-4405-a90b-8d13afc7bd66"
  },
  {
   "cell_type": "markdown",
   "metadata": {},
   "source": [
    "## Retrieve the materials"
   ],
   "id": "753fdd9e-4675-4464-9f9a-53c1e35533ad"
  },
  {
   "cell_type": "markdown",
   "metadata": {},
   "source": [
    "Finally, get a copy of the notebooks that you will run:"
   ],
   "id": "443b99d4-874c-4d55-b993-cc59a0e44560"
  },
  {
   "cell_type": "code",
   "execution_count": null,
   "metadata": {},
   "outputs": [],
   "source": [
    "container.execute(my_container.uuid, 'git clone https://github.com/AhmedFarrukh/DeepLearning-EdgeComputing.git')"
   ],
   "id": "4e4e40d2-3cad-41b4-94e9-7d3d72f53cd9"
  },
  {
   "cell_type": "markdown",
   "metadata": {},
   "source": [
    "## Run a JupyterHub server"
   ],
   "id": "b61d91f1-c724-48db-b100-ef0184207f63"
  },
  {
   "cell_type": "markdown",
   "metadata": {},
   "source": [
    "Run the following cell:"
   ],
   "id": "718ecbc9-a7bc-4c7d-848f-7e05bab45c13"
  },
  {
   "cell_type": "code",
   "execution_count": null,
   "metadata": {},
   "outputs": [],
   "source": [
    "print('ssh -L 127.0.0.1:8888:127.0.0.1:8888 root@' + public_ip)"
   ],
   "id": "df088c7d-a860-425b-bf9a-639ec7be77e1"
  },
  {
   "cell_type": "markdown",
   "metadata": {},
   "source": [
    "then paste its output into a *local* terminal on your own device, to set up a tunnel to the Jupyter server. If your Chameleon key is not in the default location, you should also specify the path to your key as an argument, using `-i`. Leave this SSH session open.\n",
    "\n",
    "Then, run the following cell, which will start a command that does not terminate:"
   ],
   "id": "05457cb7-ae05-4691-a68c-938d6da76357"
  },
  {
   "cell_type": "code",
   "execution_count": null,
   "metadata": {},
   "outputs": [],
   "source": [
    "container.execute(my_container.uuid, \"jupyter notebook --port=8888 --notebook-dir='DeepLearning-EdgeComputing/notebooks'\")"
   ],
   "id": "436ae48f-bf4e-4a84-bb72-aa7a644819a9"
  },
  {
   "cell_type": "markdown",
   "metadata": {},
   "source": [
    "In the output of the cell above, look for a URL in this format:\n",
    "\n",
    "    http://localhost:8888/?token=XXXXXXXXXXXXXXXXXXXXXXXXXXXXXXXXX\n",
    "\n",
    "Copy this URL and open it in a browser. Then, you can run `measuring_inference_times.ipynb` notebook that you’ll see there."
   ],
   "id": "f8409054-d3e0-4b85-977b-3efa8b64f840"
  },
  {
   "cell_type": "markdown",
   "metadata": {},
   "source": [
    "Run the next cell to stop your Jupyter server."
   ],
   "id": "e3912717-e791-4320-9a25-4e6bb9ed0ecb"
  },
  {
   "cell_type": "code",
   "execution_count": null,
   "metadata": {},
   "outputs": [],
   "source": [
    "container.execute(my_container.uuid, 'sudo killall jupyter-notebook')"
   ],
   "id": "9d5ba9a3-8003-4b67-a7ff-4fd9889610b4"
  },
  {
   "cell_type": "markdown",
   "metadata": {},
   "source": [
    "## Delete the container"
   ],
   "id": "a600dcd4-fe8f-467b-ab01-c35c7704598e"
  },
  {
   "cell_type": "markdown",
   "metadata": {},
   "source": [
    "Lastly, we should stop and delete our container so that others can create new containers using the same lease. To delete our container, we can run the following cell:"
   ],
   "id": "23dcb9b1-152b-4aba-bb41-033cb5a78035"
  },
  {
   "cell_type": "code",
   "execution_count": null,
   "metadata": {},
   "outputs": [],
   "source": [
    "container.destroy_container(my_container.uuid)"
   ],
   "id": "5062deaf-9ea1-42da-9ce0-385f5fa48ac0"
  },
  {
   "cell_type": "markdown",
   "metadata": {},
   "source": [
    "Also free up the IP that you we attached to the container, now that it is no longer in use:"
   ],
   "id": "634b771a-5b82-4b28-9cc0-166f612fe2b8"
  },
  {
   "cell_type": "code",
   "execution_count": null,
   "metadata": {},
   "outputs": [],
   "source": [
    "ip_details = chi.network.get_floating_ip(public_ip)\n",
    "chi.neutron().delete_floatingip(ip_details[\"id\"])"
   ],
   "id": "073e880c-5261-4c03-8272-c8eff7d1bb96"
  },
  {
   "cell_type": "markdown",
   "metadata": {},
   "source": [
    "Finally, run the following cell to delete the lease as well."
   ],
   "id": "74f32cc0-eb45-40c4-9663-cd011abd6ef3"
  },
  {
   "cell_type": "code",
   "execution_count": null,
   "metadata": {},
   "outputs": [],
   "source": [
    "DELETE = False #Default value is False to prevent any accidental deletes. Change it to True for deleting the resources\n",
    "\n",
    "if DELETE:\n",
    "\n",
    "    # delete lease\n",
    "    chi.lease.delete_lease(l[\"id\"])"
   ],
   "id": "9a69b501-3123-4bd9-86e9-f12dc0f2f386"
  }
 ],
 "nbformat": 4,
 "nbformat_minor": 5,
 "metadata": {}
}

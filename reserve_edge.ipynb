{
 "cells": [
  {
   "cell_type": "markdown",
   "metadata": {},
   "source": [
    "# Running a Single User Notebook Server on a Raspberry Pi device"
   ],
   "id": "34875680-f2ac-4fb1-9853-c737373342fc"
  },
  {
   "cell_type": "markdown",
   "metadata": {},
   "source": [
    "This notebook describes how to run a single user Jupyter notebook server on a Raspberry Pi device using Chameleon. This would allow us to run our experiment on a Raspberry Pi 4 device."
   ],
   "id": "3f8d8ee0-c24e-4ee4-9cc3-5e0583c3cb04"
  },
  {
   "cell_type": "markdown",
   "metadata": {},
   "source": [
    "## Reservation"
   ],
   "id": "dbb573e2-0261-46a8-b41a-c272d8c3f7c1"
  },
  {
   "cell_type": "code",
   "execution_count": null,
   "metadata": {},
   "outputs": [],
   "source": [
    "import chi, os, time\n",
    "from chi import lease\n",
    "from chi import server\n",
    "from chi import container\n",
    "\n",
    "PROJECT_NAME = os.getenv('OS_PROJECT_NAME') # change this if you need to\n",
    "chi.use_site(\"CHI@Edge\")\n",
    "chi.set(\"project_name\", PROJECT_NAME)\n",
    "username = os.getenv('USER') # all exp resources will have this prefix"
   ],
   "id": "bf94b5d7-4726-4dc2-bb91-772d07ec04c8"
  },
  {
   "cell_type": "code",
   "execution_count": null,
   "metadata": {},
   "outputs": [],
   "source": [
    "NODE_TYPE = 'raspberrypi4-64'\n",
    "expname = \"edge-cpu\""
   ],
   "id": "deb80f4a-7a0e-4d03-b953-0961acb70b43"
  },
  {
   "cell_type": "code",
   "execution_count": null,
   "metadata": {},
   "outputs": [],
   "source": [
    "res = []\n",
    "lease.add_device_reservation(res, machine_name=NODE_TYPE, count=1)\n",
    "\n",
    "start_date, end_date = lease.lease_duration(days=0, hours=10)\n",
    "# if you won't start right now - comment the line above, uncomment two lines below\n",
    "# start_date = '2024-04-02 15:24' # manually define to desired start time\n",
    "# end_date = '2024-04-03 01:00' # manually define to desired start time\n",
    "\n",
    "l = lease.create_lease(f\"{username}-{NODE_TYPE}\", res, start_date=start_date, end_date=end_date)\n",
    "l = lease.wait_for_active(l[\"id\"])  #Comment this line if the lease starts in the future"
   ],
   "id": "4e4215fe-6da2-45ce-865e-1939fa3a779e"
  },
  {
   "cell_type": "code",
   "execution_count": null,
   "metadata": {},
   "outputs": [],
   "source": [
    "# continue here, whether using a lease created just now or one created earlier\n",
    "l = lease.get_lease(f\"{username}-{NODE_TYPE}\")\n",
    "lease_id = l['id']"
   ],
   "id": "53292234-3747-43d1-9c30-7153ddc62d06"
  },
  {
   "cell_type": "markdown",
   "metadata": {},
   "source": [
    "## Launching a Container"
   ],
   "id": "e73659e4-ebb0-446a-9ca5-a2e4539b3b88"
  },
  {
   "cell_type": "markdown",
   "metadata": {},
   "source": [
    "Now, we are ready to launch a container!\n",
    "\n",
    "-   **Container** : A container is like a logical “box” that holds everything needed to run an application. It includes the application itself, along with all the necessary prerequisite software, files, and settings it needs to work properly.\n",
    "-   **Image** : An image is like a pre-packaged “starting point” for a container. On CHI@Edge, we can use any image that is built for the ARM64 architecture - e.g. anything on [this list](https://hub.docker.com/search?type=image&architecture=arm64&q=). In this example, we’re going to run a machine learning application written in Python, so we will use the `python:3.9-slim` image as a starting point for our container. This is a lightweight installation of the Debian Linux operating system with Python pre-installed.\n",
    "\n",
    "When we create the container, we could also specify some additional arguments:\n",
    "\n",
    "-   `workdir`: the “working directory” - location in the container’s filesystem from which any commands we specify will run.\n",
    "-   `exposed_ports`: if we run any applications inside the container that need to accept incoming requests from a network, we will need to export a “port” number for those incoming requests. Any requests to that port number will be forwarded to this container.\n",
    "-   `command`: if we want to execute a specific command immediately on starting the container, we can specify that as well.\n",
    "\n",
    "For this particular experiment, we’ll specify that port 22 - which is used for SSH access - should be exposed.\n",
    "\n",
    "Also, since we do not specify a `command` to run, we will further specify `interactive = True` - that it should open an interactive Python session - otherwise the container will immediately stop after it is started, because it has no “work” to do.\n",
    "\n",
    "First, we’ll specify the name for our container - we’ll include our username and the experiment name in the container name, so that it will be easy to identify our container in the CHI@Edge web interface."
   ],
   "id": "b429f08b-540e-4dc5-accc-8ef94b377595"
  },
  {
   "cell_type": "code",
   "execution_count": null,
   "metadata": {},
   "outputs": [],
   "source": [
    "# set a name for the container\n",
    "# Note that underscore characters _ are not allowed - we replace each _ with a -\n",
    "container_name = f\"{username}-{expname}\".replace(\"_\",\"-\")"
   ],
   "id": "4b425688-31e9-472f-8361-431063764cfa"
  },
  {
   "cell_type": "markdown",
   "metadata": {},
   "source": [
    "Then, we can create the container!"
   ],
   "id": "13cdc2f3-db41-4660-8bd6-b22ee41f7f0c"
  },
  {
   "cell_type": "code",
   "execution_count": null,
   "metadata": {},
   "outputs": [],
   "source": [
    "try:\n",
    "    my_container = container.create_container(\n",
    "        container_name,\n",
    "        image=\"python:3.9-slim\",\n",
    "        reservation_id=lease.get_device_reservation(lease_id),\n",
    "        interactive=True,\n",
    "        exposed_ports=[22],\n",
    "        platform_version=2,\n",
    "    )\n",
    "except RuntimeError as ex:\n",
    "    print(ex)\n",
    "    print(f\"Please stop and/or delete {container_name} and try again\")\n",
    "else:\n",
    "    print(f\"Successfully created container: {container_name}!\")"
   ],
   "id": "69d3a179-3098-4946-8419-76fa0cf3d5dc"
  },
  {
   "cell_type": "markdown",
   "metadata": {},
   "source": [
    "The next cell waits for the container to be active - when it is, it will print some output related to the container state."
   ],
   "id": "c5f93843-e4bf-4726-976f-e21d8112bd20"
  },
  {
   "cell_type": "code",
   "execution_count": null,
   "metadata": {},
   "outputs": [],
   "source": [
    "# wait until container is ready to use\n",
    "container.wait_for_active(my_container.uuid)"
   ],
   "id": "4f8fdbfe-7bd0-4931-95e5-078ee27c955e"
  },
  {
   "cell_type": "markdown",
   "metadata": {},
   "source": [
    "Once the container is created, you should be able to see it and monitor its status on the [CHI@Edge web interface](https://chi.edge.chameleoncloud.org/project/container/containers). (If there was any problem while creating the container, you can also delete the container from that interface, in order to be able to try again.)"
   ],
   "id": "833d8d5d-68a9-47a8-acea-f774564e20c2"
  },
  {
   "cell_type": "markdown",
   "metadata": {},
   "source": [
    "## Attach an Address and set up SSH"
   ],
   "id": "299e3313-c438-4034-9d9b-62f5ca94b4d0"
  },
  {
   "cell_type": "markdown",
   "metadata": {},
   "source": [
    "Just as with a conventional “server” on Chameleon, we can attach an address to our container, then use SSH to access its terminal.\n",
    "\n",
    "First, we’ll attach an address:"
   ],
   "id": "0a1424f9-1748-43ba-a8e2-5634adbb3d8b"
  },
  {
   "cell_type": "code",
   "execution_count": null,
   "metadata": {},
   "outputs": [],
   "source": [
    "public_ip = container.associate_floating_ip(my_container.uuid)"
   ],
   "id": "87849524-656d-4604-ba4c-de493f09ddd7"
  },
  {
   "cell_type": "markdown",
   "metadata": {},
   "source": [
    "Then, we need to install an SSH server on the container - it is not pre-installed on the image we selected. We can use the `container.execute()` function to run commands inside the container, in order to install the SSH server."
   ],
   "id": "e1fe8f4f-21e4-44db-8f89-607e98b929f4"
  },
  {
   "cell_type": "code",
   "execution_count": null,
   "metadata": {},
   "outputs": [],
   "source": [
    "container.execute(my_container.uuid, 'apt update')\n",
    "container.execute(my_container.uuid, 'apt -y install openssh-server')"
   ],
   "id": "b273b97e-1cbd-46b7-8331-f094253c848d"
  },
  {
   "cell_type": "markdown",
   "metadata": {},
   "source": [
    "There is one more necessary step before we can access the container over SSH - we need to make sure our key is installed on the container. Here, we will upload the key from your local device, and make sure it is configured with the appropriate file permissions:"
   ],
   "id": "d22a5fdf-ee5d-4d1c-8c0a-d6b85f10987c"
  },
  {
   "cell_type": "code",
   "execution_count": null,
   "metadata": {},
   "outputs": [],
   "source": [
    "!mkdir -p tmp_keys\n",
    "!touch tmp_keys/authorized_keys"
   ],
   "id": "0294eeb0-0ad3-4451-b01b-60951646cdc8"
  },
  {
   "cell_type": "markdown",
   "metadata": {},
   "source": [
    "In the `tmp_keys/authorized_keys` textfile (that you should be able to see in the file directory interface on the left), place your RSA public key. If you followed the ‘Hello-Chameleon’ tutorial, you can find your RSA public key by running `cat ~/.ssh/id_rsa_chameleon.pub` on your *local* terminal; then paste the output in the `tmp_keys/authorized_keys` file."
   ],
   "id": "a28ca23d-557d-4bb3-a5ac-1d5a6d63717f"
  },
  {
   "cell_type": "markdown",
   "metadata": {},
   "source": [
    "Let’s make sure that your RSA public key can be found in `tmp_keys/authorized_keys`. In output of the follow cell, you should be able to see text starting with ‘ssh-rsa …’"
   ],
   "id": "7710efb9-367b-494f-995e-c2477bad70bd"
  },
  {
   "cell_type": "markdown",
   "metadata": {},
   "source": [
    "Next, let’s upload this key to the container and set the appropriate permissions."
   ],
   "id": "9ae70797-7a59-4146-8da3-8b39990b6261"
  },
  {
   "cell_type": "code",
   "execution_count": null,
   "metadata": {},
   "outputs": [],
   "source": [
    "container.execute(my_container.uuid, 'mkdir -p /root/.ssh')\n",
    "container.upload(my_container.uuid, \"./tmp_keys/authorized_keys\", \"/root/.ssh\")\n",
    "container.execute(my_container.uuid, 'chown root /root/.ssh')\n",
    "container.execute(my_container.uuid, 'chown root /root/.ssh/authorized_keys')\n",
    "container.execute(my_container.uuid, 'chmod go-w /root')\n",
    "container.execute(my_container.uuid, 'chmod 700 /root/.ssh')\n",
    "container.execute(my_container.uuid, 'chmod 600 /root/.ssh/authorized_keys')"
   ],
   "id": "4abaf363-b90a-4197-8ae1-6522a0d46f12"
  },
  {
   "cell_type": "markdown",
   "metadata": {},
   "source": [
    "Start the SSH server in the container. The following cell should print “sshd is running”. It it’s not running, it can be an indication that the SSH server was not fully installed; wait a minute or two and then try this cell again:"
   ],
   "id": "4d2422d9-ab1e-4d66-ae0a-3e18787ece17"
  },
  {
   "cell_type": "code",
   "execution_count": null,
   "metadata": {},
   "outputs": [],
   "source": [
    "container.execute(my_container.uuid, 'service ssh start')\n",
    "container.execute(my_container.uuid, 'service ssh status')"
   ],
   "id": "ad1f3a43-10ba-4ab9-9de1-a359486376c3"
  },
  {
   "cell_type": "markdown",
   "metadata": {},
   "source": [
    "## Install Required Libraries and Packages"
   ],
   "id": "3108767b-fd58-42e6-beb5-2da2917f521b"
  },
  {
   "cell_type": "markdown",
   "metadata": {},
   "source": [
    "The following cells will install the libraries and packages required to initiate the Jupyter notebook server, and then execute the experiment notebook on this server."
   ],
   "id": "ad6ea41c-7db0-488b-9836-a4e30b01732e"
  },
  {
   "cell_type": "markdown",
   "metadata": {},
   "source": [
    "We will need to install git on our edge container to get access to the experiment notebooks we want to run."
   ],
   "id": "e94c2458-0cd2-41c6-8a38-2e5bafdec666"
  },
  {
   "cell_type": "code",
   "execution_count": null,
   "metadata": {},
   "outputs": [],
   "source": [
    "container.execute(my_container.uuid, 'apt update')\n",
    "container.execute(my_container.uuid, 'apt -y install git')"
   ],
   "id": "1cc9da11-1a17-40f4-be51-7dabfda5207a"
  },
  {
   "cell_type": "markdown",
   "metadata": {},
   "source": [
    "Next, let’s install the python packages and libraries needed to set up the Jupyter server."
   ],
   "id": "3e23c8d4-5591-42c2-b81d-26afdbd50e08"
  },
  {
   "cell_type": "code",
   "execution_count": null,
   "metadata": {},
   "outputs": [],
   "source": [
    "container.execute(my_container.uuid, 'pip install jupyter-core jupyter-client jupyter -U --force-reinstall --allow-root')"
   ],
   "id": "ee325d30-ebe7-486e-9837-e70ae41580e0"
  },
  {
   "cell_type": "markdown",
   "metadata": {},
   "source": [
    "Let’s also install the libraries we need to process the data we generate from benchmarking."
   ],
   "id": "f1064f7c-95b9-4705-acdc-9071b4642e86"
  },
  {
   "cell_type": "code",
   "execution_count": null,
   "metadata": {},
   "outputs": [],
   "source": [
    "container.execute(my_container.uuid, 'pip install matplotlib==3.7.5 gdown==5.2.0 pandas==2.0.3')"
   ],
   "id": "ebfeb01a-031b-4ed1-ad6b-917c04195269"
  },
  {
   "cell_type": "markdown",
   "metadata": {},
   "source": [
    "## Retrieve the materials"
   ],
   "id": "04a4c417-4ac2-4524-a321-b7921466ba24"
  },
  {
   "cell_type": "markdown",
   "metadata": {},
   "source": [
    "Finally, get a copy of the notebooks that you will run:"
   ],
   "id": "353a9a50-0725-42b0-bdfc-e539f503641b"
  },
  {
   "cell_type": "code",
   "execution_count": null,
   "metadata": {},
   "outputs": [],
   "source": [
    "container.execute(my_container.uuid, 'git clone https://github.com/AhmedFarrukh/DeepLearning-EdgeComputing.git')"
   ],
   "id": "3a56d995-ef28-4e5a-aaca-337298655083"
  },
  {
   "cell_type": "markdown",
   "metadata": {},
   "source": [
    "## Run a JupyterHub server"
   ],
   "id": "b017cfee-aaaf-46c5-9d30-54df974ba64e"
  },
  {
   "cell_type": "markdown",
   "metadata": {},
   "source": [
    "Run the following cell:"
   ],
   "id": "43297584-c024-4cfe-97d7-9bd11d57100c"
  },
  {
   "cell_type": "code",
   "execution_count": null,
   "metadata": {},
   "outputs": [],
   "source": [
    "print('ssh -L 127.0.0.1:8888:127.0.0.1:8888 root@' + public_ip)"
   ],
   "id": "2099ecdc-cea8-4e5d-9ebb-7f89fa7292ae"
  },
  {
   "cell_type": "markdown",
   "metadata": {},
   "source": [
    "then paste its output into a *local* terminal on your own device, to set up a tunnel to the Jupyter server. If your Chameleon key is not in the default location, you should also specify the path to your key as an argument, using `-i`. Leave this SSH session open.\n",
    "\n",
    "Then, run the following cell, which will start a command that does not terminate:"
   ],
   "id": "554133b1-0fdb-4d48-aee3-b25eccd1f1c2"
  },
  {
   "cell_type": "code",
   "execution_count": null,
   "metadata": {},
   "outputs": [],
   "source": [
    "container.execute(my_container.uuid, \"jupyter notebook --port=8888 --notebook-dir='DeepLearning-EdgeComputing/notebooks'\")"
   ],
   "id": "327f5214-e16f-4c96-bcbd-29fcd4428c7b"
  },
  {
   "cell_type": "markdown",
   "metadata": {},
   "source": [
    "In the output of the cell above, look for a URL in this format:\n",
    "\n",
    "    http://localhost:8888/?token=XXXXXXXXXXXXXXXXXXXXXXXXXXXXXXXXX\n",
    "\n",
    "Copy this URL and open it in a browser. Then, you can run the notebooks that you see there."
   ],
   "id": "669d51a2-f5ad-4bd4-ba2b-ab77091bafdb"
  },
  {
   "cell_type": "markdown",
   "metadata": {},
   "source": [
    "Run the next cell to stop your Jupyter server."
   ],
   "id": "72e7f070-86a4-48b6-b932-2e8f4a23a9bf"
  },
  {
   "cell_type": "code",
   "execution_count": null,
   "metadata": {},
   "outputs": [],
   "source": [
    "container.execute(my_container.uuid, 'sudo killall jupyter-notebook')"
   ],
   "id": "18c9ebd2-ac5c-4f5c-946b-d47350ca3a26"
  },
  {
   "cell_type": "markdown",
   "metadata": {},
   "source": [
    "## Delete the container"
   ],
   "id": "dec8d996-320c-4d7c-9b28-fdc54b7ed44d"
  },
  {
   "cell_type": "markdown",
   "metadata": {},
   "source": [
    "Lastly, we should stop and delete our container so that others can create new containers using the same lease. To delete our container, we can run the following cell:"
   ],
   "id": "360e5b1d-64cc-4f4b-8843-a86153c3a07d"
  },
  {
   "cell_type": "code",
   "execution_count": null,
   "metadata": {},
   "outputs": [],
   "source": [
    "container.destroy_container(my_container.uuid)"
   ],
   "id": "54d09a2e-1eec-4c29-89af-05617cf1c6d4"
  },
  {
   "cell_type": "markdown",
   "metadata": {},
   "source": [
    "Also free up the IP that you we attached to the container, now that it is no longer in use:"
   ],
   "id": "b290b272-d81b-4f4e-b81c-a6504d51d66c"
  },
  {
   "cell_type": "code",
   "execution_count": null,
   "metadata": {},
   "outputs": [],
   "source": [
    "ip_details = chi.network.get_floating_ip(public_ip)\n",
    "chi.neutron().delete_floatingip(ip_details[\"id\"])"
   ],
   "id": "53037689-f74e-40f5-aa5a-56ce86205415"
  },
  {
   "cell_type": "markdown",
   "metadata": {},
   "source": [
    "Finally, run the following cell to delete the lease as well."
   ],
   "id": "1db8cc2d-1261-4f83-9ceb-b1c7c50e211b"
  },
  {
   "cell_type": "code",
   "execution_count": null,
   "metadata": {},
   "outputs": [],
   "source": [
    "DELETE = False #Default value is False to prevent any accidental deletes. Change it to True for deleting the resources\n",
    "\n",
    "if DELETE:\n",
    "\n",
    "    # delete lease\n",
    "    chi.lease.delete_lease(l[\"id\"])"
   ],
   "id": "550825d4-cb61-44a4-9683-c22474073661"
  }
 ],
 "nbformat": 4,
 "nbformat_minor": 5,
 "metadata": {}
}

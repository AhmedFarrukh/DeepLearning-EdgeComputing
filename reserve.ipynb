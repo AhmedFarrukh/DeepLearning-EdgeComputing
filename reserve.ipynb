{
 "cells": [
  {
   "cell_type": "markdown",
   "metadata": {},
   "source": [
    "# Run a Single User Notebook Server on Chameleon"
   ],
   "id": "03baf05e-7fc8-47a1-8a0a-658c3d0613a4"
  },
  {
   "cell_type": "markdown",
   "metadata": {},
   "source": [
    "This notebook describes how to run a single user Jupyter notebook server on Chameleon. This allows you to run experiments requiring bare metal access, storage, memory, GPU and compute resources on Chameleon using a Jupyter notebook interface."
   ],
   "id": "baea3529-8030-46b9-b229-901b5a219aac"
  },
  {
   "cell_type": "markdown",
   "metadata": {},
   "source": [
    "## Provision the resource"
   ],
   "id": "a0c4cb1e-43a0-4b93-b1f8-ea5212a2fc11"
  },
  {
   "cell_type": "markdown",
   "metadata": {},
   "source": [
    "### Check resource availability"
   ],
   "id": "66ba59e2-a2e7-4daf-a14c-5ed1d3083199"
  },
  {
   "cell_type": "markdown",
   "metadata": {},
   "source": [
    "This notebook will try to reserve a bare metal server on Chameleon - pending availability. You can see the hardware resources available here: <https://chameleoncloud.org/hardware/>.\n",
    "\n",
    "Once you have selected the hardware resource, identify it’s site, and then confirm availability using the following site-specific host calendars:  \n",
    "- [TACC](https://chi.tacc.chameleoncloud.org/project/leases/calendar/host/)  \n",
    "- [UC](https://chi.uc.chameleoncloud.org/project/leases/calendar/host/)  \n",
    "- [NU](https://sl-ciab.northwestern.edu/project/leases/calendar/host/)  \n",
    "- [NCAR](https://chi.hpc.ucar.edu/project/leases/calendar/host/)  \n",
    "- [EVL](https://chi.evl.uic.edu/project/leases/calendar/host/)"
   ],
   "id": "2ac6ebd5-ccfa-4549-8afb-925b7457bdc7"
  },
  {
   "cell_type": "markdown",
   "metadata": {},
   "source": [
    "### Chameleon configuration"
   ],
   "id": "7d576900-ee11-491b-b11f-8c36f5c4079c"
  },
  {
   "cell_type": "markdown",
   "metadata": {},
   "source": [
    "In the following cell, you can enter the site and node type."
   ],
   "id": "d05699d4-f0de-4758-b11d-57c0bffa9181"
  },
  {
   "cell_type": "code",
   "execution_count": null,
   "metadata": {},
   "outputs": [],
   "source": [
    "import chi, os\n",
    "chi.use_site(\"CHI@UC\")\n",
    "NODE_TYPE = \"compute_cascadelake_r\""
   ],
   "id": "1e2c4aea-0aa0-466a-9906-8e88c49ece63"
  },
  {
   "cell_type": "markdown",
   "metadata": {},
   "source": [
    "You can also change your Chameleon project name (if not using the one that is automatically configured in the JupyterHub environment) in the following cell."
   ],
   "id": "c28868cc-7ad4-4ace-8580-95c6ac4c8703"
  },
  {
   "cell_type": "code",
   "execution_count": null,
   "metadata": {},
   "outputs": [],
   "source": [
    "PROJECT_NAME = os.getenv('OS_PROJECT_NAME')\n",
    "chi.set(\"project_name\", PROJECT_NAME)\n",
    "username = os.getenv('USER')"
   ],
   "id": "8622584c-484b-4dc1-9fe5-afdf5bdf2f4e"
  },
  {
   "cell_type": "markdown",
   "metadata": {},
   "source": [
    "If you need to change the details of the Chameleon server, e.g. use a different OS image, you can do that in the following cell."
   ],
   "id": "8104eb65-5e0c-4206-b6c0-170811ec922e"
  },
  {
   "cell_type": "code",
   "execution_count": null,
   "metadata": {},
   "outputs": [],
   "source": [
    "chi.set(\"image\", \"CC-Ubuntu20.04\")"
   ],
   "id": "c16168b1-f90e-47de-a6a5-291552e3c75d"
  },
  {
   "cell_type": "markdown",
   "metadata": {},
   "source": [
    "### Reservation"
   ],
   "id": "38505a35-42d5-471e-a828-c4f314174d35"
  },
  {
   "cell_type": "markdown",
   "metadata": {},
   "source": [
    "The following cell will create a reservation that begins now, and ends in 8 hours. You can modify the start and end date as needed."
   ],
   "id": "9fe9e4c4-79d4-472f-abc9-dab4f2102586"
  },
  {
   "cell_type": "code",
   "execution_count": null,
   "metadata": {},
   "outputs": [],
   "source": [
    "from chi import lease\n",
    "\n",
    "\n",
    "res = []\n",
    "lease.add_node_reservation(res, node_type=NODE_TYPE, count=1)\n",
    "lease.add_fip_reservation(res, count=1)\n",
    "start_date, end_date = lease.lease_duration(days=0, hours=8)\n",
    "\n",
    "l = lease.create_lease(f\"{username}-{NODE_TYPE}\", res, start_date=start_date, end_date=end_date)\n",
    "l = lease.wait_for_active(l[\"id\"])  #Comment this line if the lease starts in the future"
   ],
   "id": "9f513de0-ca3c-4400-8278-bf3aeae7070d"
  },
  {
   "cell_type": "code",
   "execution_count": null,
   "metadata": {},
   "outputs": [],
   "source": [
    "# continue here, whether using a lease created just now or one created earlier\n",
    "l = lease.get_lease(f\"{username}-{NODE_TYPE}\")\n",
    "l['id']"
   ],
   "id": "2d6db154-c566-46ff-9c1e-b4de52be8700"
  },
  {
   "cell_type": "markdown",
   "metadata": {},
   "source": [
    "### Provisioning resources"
   ],
   "id": "35281524-c2c9-4dfc-9e9e-36a9c74b4e24"
  },
  {
   "cell_type": "markdown",
   "metadata": {},
   "source": [
    "The following cell provisions resources. It will take approximately 10 minutes. You can check on its status in the Chameleon web-based UI, which can be accessed by selecting ‘Instances’ under the ‘Compute’ tab on the relevant site’s webpage. For example, for a node on the CHI@UC site, you can use <https://chi.uc.chameleoncloud.org/project/instances/>. Come back here when it is in the RUNNING state."
   ],
   "id": "5c1d4684-4122-4896-bfab-0c8e1402ac8f"
  },
  {
   "cell_type": "code",
   "execution_count": null,
   "metadata": {},
   "outputs": [],
   "source": [
    "from chi import server\n",
    "\n",
    "reservation_id = lease.get_node_reservation(l[\"id\"])\n",
    "server.create_server(\n",
    "    f\"{username}-{NODE_TYPE}\",\n",
    "    reservation_id=reservation_id,\n",
    "    image_name=chi.get(\"image\")\n",
    ")\n",
    "server_id = server.get_server_id(f\"{username}-{NODE_TYPE}\")\n",
    "server.wait_for_active(server_id)"
   ],
   "id": "02e2744e-399d-4ecb-8410-63f044eb74d4"
  },
  {
   "cell_type": "markdown",
   "metadata": {},
   "source": [
    "Associate an IP address with this server:"
   ],
   "id": "85e4b550-d2ab-4f50-8601-15b25df98342"
  },
  {
   "cell_type": "code",
   "execution_count": null,
   "metadata": {},
   "outputs": [],
   "source": [
    "reserved_fip = lease.get_reserved_floating_ips(l[\"id\"])[0]\n",
    "server.associate_floating_ip(server_id,reserved_fip)"
   ],
   "id": "a224ecb6-c26e-450f-bd0d-e1fb0f4f3f67"
  },
  {
   "cell_type": "markdown",
   "metadata": {},
   "source": [
    "and wait for it to come up:"
   ],
   "id": "05ab1b47-f10b-4476-a6fe-90836369c1fc"
  },
  {
   "cell_type": "code",
   "execution_count": null,
   "metadata": {},
   "outputs": [],
   "source": [
    "server.wait_for_tcp(reserved_fip, port=22)"
   ],
   "id": "77bafbac-5fe8-4c71-814a-c2852b000ae0"
  },
  {
   "cell_type": "markdown",
   "metadata": {},
   "source": [
    "## Install Required Libraries and Packages"
   ],
   "id": "fcdc1bda-5efa-4f13-be47-b31ae7884ba5"
  },
  {
   "cell_type": "markdown",
   "metadata": {},
   "source": [
    "The following cells will install the libraries and packages required to initiate the Jupyter notebook server, and then execute the experiment notebook on this server."
   ],
   "id": "127a6e8e-a7d4-4b4a-a7f3-e406e493555c"
  },
  {
   "cell_type": "code",
   "execution_count": null,
   "metadata": {},
   "outputs": [],
   "source": [
    "from chi import ssh\n",
    "\n",
    "node = ssh.Remote(reserved_fip)"
   ],
   "id": "c0302ddc-471a-4321-b120-534eb33c5438"
  },
  {
   "cell_type": "code",
   "execution_count": null,
   "metadata": {},
   "outputs": [],
   "source": [
    "node.run('sudo apt update')\n",
    "node.run('sudo apt -y install python3-pip python3-dev')\n",
    "node.run('sudo pip3 install --upgrade pip')"
   ],
   "id": "536c900a-ad71-4573-af3f-8c33f68099a7"
  },
  {
   "cell_type": "markdown",
   "metadata": {},
   "source": [
    "### Install Python packages"
   ],
   "id": "72466c10-51c5-47f9-8369-af6f00fe8665"
  },
  {
   "cell_type": "code",
   "execution_count": null,
   "metadata": {},
   "outputs": [],
   "source": [
    "node.run('python3 -m pip install --user matplotlib==3.7.5 gdown==5.2.0 pandas==2.0.3')"
   ],
   "id": "a6aa736f-388b-4cf1-8e09-7e11cfa9e08b"
  },
  {
   "cell_type": "markdown",
   "metadata": {},
   "source": [
    "### Set up Jupyter on server"
   ],
   "id": "948c17dd-e936-48e4-9623-8fe2edbfc2ce"
  },
  {
   "cell_type": "markdown",
   "metadata": {},
   "source": [
    "Install Jupyter:"
   ],
   "id": "3976068d-194a-4582-9fa9-0a0cb9ccb5d7"
  },
  {
   "cell_type": "code",
   "execution_count": null,
   "metadata": {},
   "outputs": [],
   "source": [
    "node.run('python3 -m pip install --user  jupyter-core jupyter-client jupyter -U --force-reinstall')"
   ],
   "id": "6695b15f-45c5-4e15-b622-a8b536f1908a"
  },
  {
   "cell_type": "markdown",
   "metadata": {},
   "source": [
    "### Retrieve the materials"
   ],
   "id": "354136c0-6a58-486f-8e42-983ae7532fda"
  },
  {
   "cell_type": "markdown",
   "metadata": {},
   "source": [
    "Finally, get a copy of the notebooks that you will run:"
   ],
   "id": "ed06a339-ebb6-47fd-9af2-eca5d123e860"
  },
  {
   "cell_type": "code",
   "execution_count": null,
   "metadata": {},
   "outputs": [],
   "source": [
    "node.run('git clone https://github.com/AhmedFarrukh/DeepLearning-EdgeComputing.git')"
   ],
   "id": "9036333b-0f80-45eb-88d9-b34bc4d59474"
  },
  {
   "cell_type": "markdown",
   "metadata": {},
   "source": [
    "## Run a JupyterHub server"
   ],
   "id": "025bc24f-fa55-445b-ad50-b6abe60826fd"
  },
  {
   "cell_type": "markdown",
   "metadata": {},
   "source": [
    "Run the following cell:"
   ],
   "id": "e27a9a3a-5032-4643-973c-675c01e1722c"
  },
  {
   "cell_type": "code",
   "execution_count": null,
   "metadata": {},
   "outputs": [],
   "source": [
    "print('ssh -L 127.0.0.1:8888:127.0.0.1:8888 cc@' + reserved_fip)"
   ],
   "id": "29cfa94f-50c9-4f84-8711-3447cde850b1"
  },
  {
   "cell_type": "markdown",
   "metadata": {},
   "source": [
    "then paste its output into a *local* terminal on your own device, to set up a tunnel to the Jupyter server. If your Chameleon key is not in the default location, you should also specify the path to your key as an argument, using `-i`. Leave this SSH session open.\n",
    "\n",
    "Then, run the following cell, which will start a command that does not terminate:"
   ],
   "id": "079b0fec-b70a-4fbb-b9f0-87e1618c6421"
  },
  {
   "cell_type": "code",
   "execution_count": null,
   "metadata": {},
   "outputs": [],
   "source": [
    "node.run(\"/home/cc/.local/bin/jupyter notebook --port=8888 --notebook-dir='DeepLearning-EdgeComputing/notebooks'\")"
   ],
   "id": "28c9351a-81cb-473c-a12a-a4cd5e76f318"
  },
  {
   "cell_type": "markdown",
   "metadata": {},
   "source": [
    "In the output of the cell above, look for a URL in this format:\n",
    "\n",
    "    http://localhost:8888/?token=XXXXXXXXXXXXXXXXXXXXXXXXXXXXXXXXX\n",
    "\n",
    "Copy this URL and open it in a browser. Then, you can run the sequence of notebooks that you’ll see there.\n",
    "\n",
    "If you need to stop and re-start your Jupyter server,\n",
    "\n",
    "-   Use Kernel \\> Interrupt Kernel *twice* to stop the cell above\n",
    "-   Then run the following cell to kill whatever may be left running in the background."
   ],
   "id": "1da0b8cc-de27-46a8-8676-026eb5be942f"
  },
  {
   "cell_type": "code",
   "execution_count": null,
   "metadata": {},
   "outputs": [],
   "source": [
    "node.run(\"sudo killall jupyter-notebook\")"
   ],
   "id": "005ba32e-1169-4376-bac2-906bacbcfa9a"
  },
  {
   "cell_type": "markdown",
   "metadata": {},
   "source": [
    "## Release resources"
   ],
   "id": "744a3fb3-266f-40e5-a71c-2cc8fba88308"
  },
  {
   "cell_type": "markdown",
   "metadata": {},
   "source": [
    "If you finish with your experimentation before your lease expires, release your resources and tear down your environment by running the following (commented out to prevent accidental deletions).\n",
    "\n",
    "This section is designed to work as a “standalone” portion - you can come back to this notebook, ignore the top part, and just run this section to delete your reasources."
   ],
   "id": "dea9af49-dbb8-4802-b3b7-f7a9531ef852"
  },
  {
   "cell_type": "markdown",
   "metadata": {},
   "source": [
    "Make sure to set the correct site first, by entering its name in the following cell."
   ],
   "id": "6ccf70c5-2f82-4db7-a22e-63fb43c668a9"
  },
  {
   "cell_type": "code",
   "execution_count": null,
   "metadata": {},
   "outputs": [],
   "source": [
    "import chi, os\n",
    "from chi import lease, server\n",
    "chi.use_site(\"CHI@UC\")"
   ],
   "id": "0acf12a8-6b44-42de-859f-51f68a8f7bc5"
  },
  {
   "cell_type": "code",
   "execution_count": null,
   "metadata": {},
   "outputs": [],
   "source": [
    "# setup environment - if you made any changes in the top part, make the same changes here\n",
    "import chi, os\n",
    "from chi import lease, server\n",
    "\n",
    "PROJECT_NAME = os.getenv('OS_PROJECT_NAME')\n",
    "chi.set(\"project_name\", PROJECT_NAME)\n",
    "\n",
    "\n",
    "lease = chi.lease.get_lease(f\"{username}-{NODE_TYPE}\")"
   ],
   "id": "a33eb91f-f65b-49e2-a2d7-76d763940761"
  },
  {
   "cell_type": "code",
   "execution_count": null,
   "metadata": {},
   "outputs": [],
   "source": [
    "DELETE = False\n",
    "# DELETE = True\n",
    "\n",
    "if DELETE:\n",
    "    # delete server\n",
    "    server_id = chi.server.get_server_id(f\"{username}-{NODE_TYPE}\")\n",
    "    chi.server.delete_server(server_id)\n",
    "\n",
    "    # release floating IP\n",
    "    reserved_fip =  chi.lease.get_reserved_floating_ips(lease[\"id\"])[0]\n",
    "    ip_info = chi.network.get_floating_ip(reserved_fip)\n",
    "    chi.neutron().delete_floatingip(ip_info[\"id\"])\n",
    "\n",
    "    # delete lease\n",
    "    chi.lease.delete_lease(lease[\"id\"])\n"
   ],
   "id": "59b2e6a4-2fa2-4e63-95f1-b68e28459be6"
  }
 ],
 "nbformat": 4,
 "nbformat_minor": 5,
 "metadata": {}
}

{
 "cells": [
  {
   "cell_type": "markdown",
   "metadata": {},
   "source": [
    "# Run a Single User Notebook Server on Chameleon"
   ],
   "id": "c43da3e6-3aca-4fa0-b4f8-bef452985756"
  },
  {
   "cell_type": "markdown",
   "metadata": {},
   "source": [
    "This notebook describes how to run a single user Jupyter notebook server on Chameleon. This allows you to run experiments requiring bare metal access, storage, memory, GPU and compute resources on Chameleon using a Jupyter notebook interface."
   ],
   "id": "1927c65d-9e0b-4567-bc81-27ce122f754a"
  },
  {
   "cell_type": "markdown",
   "metadata": {},
   "source": [
    "## Provision the resource"
   ],
   "id": "41082d22-55ff-43e0-8af1-c7bfb498f55d"
  },
  {
   "cell_type": "markdown",
   "metadata": {},
   "source": [
    "### Check resource availability"
   ],
   "id": "6ac588b6-4237-4e2b-9a42-c99dfa80c7ff"
  },
  {
   "cell_type": "markdown",
   "metadata": {},
   "source": [
    "This notebook will try to reserve a bare metal server on Chameleon - pending availability. You can see the hardware resources available here: <https://chameleoncloud.org/hardware/>.\n",
    "\n",
    "Once you have identified the hardware resource, identify the site where it is available, and then confirm availability using the following site-specific host calendars:  \n",
    "- [TACC](https://chi.tacc.chameleoncloud.org/project/leases/calendar/host/)  \n",
    "- [UC](https://chi.uc.chameleoncloud.org/project/leases/calendar/host/)  \n",
    "- [NU](https://sl-ciab.northwestern.edu/project/leases/calendar/host/)  \n",
    "- [NCAR](https://chi.hpc.ucar.edu/project/leases/calendar/host/)  \n",
    "- [EVL](https://chi.evl.uic.edu/project/leases/calendar/host/)"
   ],
   "id": "6c13eaff-7035-4c0a-ba96-600c0eeec912"
  },
  {
   "cell_type": "markdown",
   "metadata": {},
   "source": [
    "### Chameleon configuration"
   ],
   "id": "182923a7-eca4-42e9-8458-f8f6107beae3"
  },
  {
   "cell_type": "markdown",
   "metadata": {},
   "source": [
    "In the following cell, you can enter the site and node type."
   ],
   "id": "2a632e45-6f4f-4b81-a60e-7239831aeeea"
  },
  {
   "cell_type": "code",
   "execution_count": null,
   "metadata": {},
   "outputs": [],
   "source": [
    "site = \"CHI@UC\"\n",
    "NODE_TYPE = \"compute_cascadelake_r\""
   ],
   "id": "e0c72780-8cc9-4dad-b4c3-b391fd399c2a"
  },
  {
   "cell_type": "markdown",
   "metadata": {},
   "source": [
    "You can also change your Chameleon project name (if not using the one that is automatically configured in the JupyterHub environment) in the following cell."
   ],
   "id": "c27a1dae-3a39-496b-98ed-6e767a9983ef"
  },
  {
   "cell_type": "code",
   "execution_count": null,
   "metadata": {},
   "outputs": [],
   "source": [
    "import chi, os\n",
    "chi.use_site(\"CHI@UC\")\n",
    "PROJECT_NAME = os.getenv('OS_PROJECT_NAME')\n",
    "chi.set(\"project_name\", PROJECT_NAME)\n",
    "username = os.getenv('USER')"
   ],
   "id": "10a2c4ef-2d5f-4175-9691-d6e8b2cc191e"
  },
  {
   "cell_type": "markdown",
   "metadata": {},
   "source": [
    "If you need to change the details of the Chameleon server, e.g. use a different OS image, you can do that in the following cell."
   ],
   "id": "0a7513f0-ca71-4bac-9dd1-11c9d6367cf2"
  },
  {
   "cell_type": "code",
   "execution_count": null,
   "metadata": {},
   "outputs": [],
   "source": [
    "chi.set(\"image\", \"CC-Ubuntu20.04\")"
   ],
   "id": "84f98895-6485-4f59-9cab-1f8214b16193"
  },
  {
   "cell_type": "markdown",
   "metadata": {},
   "source": [
    "### Reservation"
   ],
   "id": "5f795400-edef-47af-889e-5bf0dae09be2"
  },
  {
   "cell_type": "markdown",
   "metadata": {},
   "source": [
    "The following cell will create a reservation that begins now, and ends in 8 hours. You can modify the start and end date as needed."
   ],
   "id": "f3934112-c44a-45fb-8955-8299b4b50cc2"
  },
  {
   "cell_type": "code",
   "execution_count": null,
   "metadata": {},
   "outputs": [],
   "source": [
    "from chi import lease\n",
    "\n",
    "\n",
    "res = []\n",
    "lease.add_node_reservation(res, node_type=NODE_TYPE, count=1)\n",
    "lease.add_fip_reservation(res, count=1)\n",
    "start_date, end_date = lease.lease_duration(days=0, hours=8)\n",
    "\n",
    "l = lease.create_lease(f\"{username}-{NODE_TYPE}\", res, start_date=start_date, end_date=end_date)\n",
    "l = lease.wait_for_active(l[\"id\"])  #Comment this line if the lease starts in the future"
   ],
   "id": "ec00f163-c5d2-4874-a6e7-2f70cea66577"
  },
  {
   "cell_type": "code",
   "execution_count": null,
   "metadata": {},
   "outputs": [],
   "source": [
    "# continue here, whether using a lease created just now or one created earlier\n",
    "l = lease.get_lease(f\"{username}-{NODE_TYPE}\")\n",
    "l['id']"
   ],
   "id": "624bc1e6-a844-4bc3-ac3d-c4281b12f3eb"
  },
  {
   "cell_type": "markdown",
   "metadata": {},
   "source": [
    "### Provisioning resources"
   ],
   "id": "0daa48b5-98cd-422c-bb1d-e8c0ae3022fd"
  },
  {
   "cell_type": "markdown",
   "metadata": {},
   "source": [
    "The following cell provisions resources. It will take approximately 10 minutes. You can check on its status in the Chameleon web-based UI, which can be accessed by selecting ‘Instances’ under the ‘Compute’ tab on the relevant site’s webpage. For example, for a node on the CHI@UC site, you can use <https://chi.uc.chameleoncloud.org/project/instances/>. Come back here when it is in the RUNNING state."
   ],
   "id": "409c53b3-66c3-4281-9845-6786c58fac12"
  },
  {
   "cell_type": "code",
   "execution_count": null,
   "metadata": {},
   "outputs": [],
   "source": [
    "from chi import server\n",
    "\n",
    "reservation_id = lease.get_node_reservation(l[\"id\"])\n",
    "server.create_server(\n",
    "    f\"{username}-{NODE_TYPE}\",\n",
    "    reservation_id=reservation_id,\n",
    "    image_name=chi.get(\"image\")\n",
    ")\n",
    "server_id = server.get_server_id(f\"{username}-{NODE_TYPE}\")\n",
    "server.wait_for_active(server_id)"
   ],
   "id": "7b81714c-c1d7-4efe-8de0-effa8e7d0701"
  },
  {
   "cell_type": "markdown",
   "metadata": {},
   "source": [
    "Associate an IP address with this server:"
   ],
   "id": "f79a8279-e848-4bea-95ea-b6cbc32eba38"
  },
  {
   "cell_type": "code",
   "execution_count": null,
   "metadata": {},
   "outputs": [],
   "source": [
    "reserved_fip = lease.get_reserved_floating_ips(l[\"id\"])[0]\n",
    "server.associate_floating_ip(server_id,reserved_fip)"
   ],
   "id": "fe55c14d-ab56-4688-8e40-765a017940a0"
  },
  {
   "cell_type": "markdown",
   "metadata": {},
   "source": [
    "and wait for it to come up:"
   ],
   "id": "086569f3-f829-4b66-bf86-df83c3a8a739"
  },
  {
   "cell_type": "code",
   "execution_count": null,
   "metadata": {},
   "outputs": [],
   "source": [
    "server.wait_for_tcp(reserved_fip, port=22)"
   ],
   "id": "0667b881-a3f3-498f-b63c-417b26bf2d81"
  },
  {
   "cell_type": "markdown",
   "metadata": {},
   "source": [
    "## Install Required Libraries and Packages"
   ],
   "id": "f074b5e7-9909-4b43-8528-15526cf24fa6"
  },
  {
   "cell_type": "markdown",
   "metadata": {},
   "source": [
    "The following cells will install the libraries and packages required to initiate the Jupyter notebook server, and then execute the experiment notebook on this server."
   ],
   "id": "4419b54f-fc5f-4602-872d-61775a946144"
  },
  {
   "cell_type": "code",
   "execution_count": null,
   "metadata": {},
   "outputs": [],
   "source": [
    "from chi import ssh\n",
    "\n",
    "node = ssh.Remote(reserved_fip)"
   ],
   "id": "cafe8c4a-c84f-4699-bc30-7b083cb2d2ac"
  },
  {
   "cell_type": "code",
   "execution_count": null,
   "metadata": {},
   "outputs": [],
   "source": [
    "node.run('sudo apt update')\n",
    "node.run('sudo apt -y install python3-pip python3-dev')\n",
    "node.run('sudo pip3 install --upgrade pip')"
   ],
   "id": "6819cfb4-46ea-4bc5-a2e1-287ec13512f4"
  },
  {
   "cell_type": "markdown",
   "metadata": {},
   "source": [
    "### Install Python packages"
   ],
   "id": "0fa44315-8bdb-44b5-90c6-b0694f38ed6c"
  },
  {
   "cell_type": "code",
   "execution_count": null,
   "metadata": {},
   "outputs": [],
   "source": [
    "node.run('python3 -m pip install --user matplotlib==3.7.5 gdown==5.2.0 pandas==2.0.3')"
   ],
   "id": "17cbaaa2-3653-4e34-a991-efa79e222621"
  },
  {
   "cell_type": "markdown",
   "metadata": {},
   "source": [
    "### Set up Jupyter on server"
   ],
   "id": "8b199f34-fa45-4dc9-b592-91d04fb93bd3"
  },
  {
   "cell_type": "markdown",
   "metadata": {},
   "source": [
    "Install Jupyter:"
   ],
   "id": "1567c993-2dab-4d37-8791-75cd1d8b2860"
  },
  {
   "cell_type": "code",
   "execution_count": null,
   "metadata": {},
   "outputs": [],
   "source": [
    "node.run('python3 -m pip install --user  jupyter-core jupyter-client jupyter -U --force-reinstall')"
   ],
   "id": "02cb53e2-ec8b-454a-bc92-979d17daa1c5"
  },
  {
   "cell_type": "markdown",
   "metadata": {},
   "source": [
    "### Retrieve the materials"
   ],
   "id": "489a83fb-830c-4e6e-8d51-fb0772fc0edd"
  },
  {
   "cell_type": "markdown",
   "metadata": {},
   "source": [
    "Finally, get a copy of the notebooks that you will run:"
   ],
   "id": "035567b3-8dbd-412a-bc36-59713fb148d4"
  },
  {
   "cell_type": "code",
   "execution_count": null,
   "metadata": {},
   "outputs": [],
   "source": [
    "node.run('git clone https://github.com/AhmedFarrukh/DeepLearning-EdgeComputing.git')"
   ],
   "id": "973c9133-7d8e-4b46-ad2e-8626d609a33c"
  },
  {
   "cell_type": "markdown",
   "metadata": {},
   "source": [
    "## Run a JupyterHub server"
   ],
   "id": "71e70c1d-900d-427b-a9a1-a7d5027f0f9f"
  },
  {
   "cell_type": "markdown",
   "metadata": {},
   "source": [
    "Run the following cell:"
   ],
   "id": "8e5f74b9-62f2-4f70-84a0-d1042c4e42e0"
  },
  {
   "cell_type": "code",
   "execution_count": null,
   "metadata": {},
   "outputs": [],
   "source": [
    "print('ssh -L 127.0.0.1:8888:127.0.0.1:8888 cc@' + reserved_fip)"
   ],
   "id": "abdec451-0b9f-48af-8f76-bc99f98e71eb"
  },
  {
   "cell_type": "markdown",
   "metadata": {},
   "source": [
    "then paste its output into a *local* terminal on your own device, to set up a tunnel to the Jupyter server. If your Chameleon key is not in the default location, you should also specify the path to your key as an argument, using `-i`. Leave this SSH session open.\n",
    "\n",
    "Then, run the following cell, which will start a command that does not terminate:"
   ],
   "id": "22dce983-4789-4910-9ec1-a568c2ca39fe"
  },
  {
   "cell_type": "code",
   "execution_count": null,
   "metadata": {},
   "outputs": [],
   "source": [
    "node.run(\"/home/cc/.local/bin/jupyter notebook --port=8888 --notebook-dir='DeepLearning-EdgeComputing/notebooks'\")"
   ],
   "id": "1856f811-5545-48cc-b8b5-376eb3e7272a"
  },
  {
   "cell_type": "markdown",
   "metadata": {},
   "source": [
    "In the output of the cell above, look for a URL in this format:\n",
    "\n",
    "    http://localhost:8888/?token=XXXXXXXXXXXXXXXXXXXXXXXXXXXXXXXXX\n",
    "\n",
    "Copy this URL and open it in a browser. Then, you can run the sequence of notebooks that you’ll see there, in order.\n",
    "\n",
    "If you need to stop and re-start your Jupyter server,\n",
    "\n",
    "-   Use Kernel \\> Interrupt Kernel *twice* to stop the cell above\n",
    "-   Then run the following cell to kill whatever may be left running in the background."
   ],
   "id": "b9049061-d6e0-422a-8210-e9fde49ee7e0"
  },
  {
   "cell_type": "code",
   "execution_count": null,
   "metadata": {},
   "outputs": [],
   "source": [
    "node.run(\"sudo killall jupyter-notebook\")"
   ],
   "id": "522a9c0e-be35-4604-9885-f72264bddcd0"
  },
  {
   "cell_type": "markdown",
   "metadata": {},
   "source": [
    "## Release resources"
   ],
   "id": "bc4ca61e-ff52-4747-91fe-50702d17b661"
  },
  {
   "cell_type": "markdown",
   "metadata": {},
   "source": [
    "If you finish with your experimentation before your lease expires,release your resources and tear down your environment by running the following (commented out to prevent accidental deletions).\n",
    "\n",
    "This section is designed to work as a “standalone” portion - you can come back to this notebook, ignore the top part, and just run this section to delete your reasources."
   ],
   "id": "2e8cd8d3-37f9-443e-9559-fe7146e7d8cb"
  },
  {
   "cell_type": "code",
   "execution_count": null,
   "metadata": {},
   "outputs": [],
   "source": [
    "# setup environment - if you made any changes in the top part, make the same changes here\n",
    "import chi, os\n",
    "from chi import lease, server\n",
    "\n",
    "PROJECT_NAME = os.getenv('OS_PROJECT_NAME')\n",
    "chi.use_site(\"CHI@UC\")\n",
    "chi.set(\"project_name\", PROJECT_NAME)\n",
    "\n",
    "\n",
    "lease = chi.lease.get_lease(f\"{username}-{NODE_TYPE}\")"
   ],
   "id": "44ba0bc1-211e-496c-ba50-3ab0d25a64c9"
  },
  {
   "cell_type": "code",
   "execution_count": null,
   "metadata": {},
   "outputs": [],
   "source": [
    "DELETE = False\n",
    "# DELETE = True\n",
    "\n",
    "if DELETE:\n",
    "    # delete server\n",
    "    server_id = chi.server.get_server_id(f\"{username}-{NODE_TYPE}\")\n",
    "    chi.server.delete_server(server_id)\n",
    "\n",
    "    # release floating IP\n",
    "    reserved_fip =  chi.lease.get_reserved_floating_ips(lease[\"id\"])[0]\n",
    "    ip_info = chi.network.get_floating_ip(reserved_fip)\n",
    "    chi.neutron().delete_floatingip(ip_info[\"id\"])\n",
    "\n",
    "    # delete lease\n",
    "    chi.lease.delete_lease(lease[\"id\"])\n"
   ],
   "id": "fbe66f6b-547a-4385-b8d7-46e7f63c1806"
  }
 ],
 "nbformat": 4,
 "nbformat_minor": 5,
 "metadata": {}
}

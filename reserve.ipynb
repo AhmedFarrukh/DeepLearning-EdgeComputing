{
 "cells": [
  {
   "cell_type": "markdown",
   "metadata": {},
   "source": [
    "# Run a Single User Notebook Server on Chameleon"
   ],
   "id": "f7c1a2ec-ee0c-4412-b9bb-4848635dcd1c"
  },
  {
   "cell_type": "markdown",
   "metadata": {},
   "source": [
    "This notebook describes how to run a single user Jupyter notebook server on Chameleon. This allows you to run experiments requiring bare metal access, storage, memory, GPU and compute resources on Chameleon using a Jupyter notebook interface."
   ],
   "id": "1263519b-6e8d-4f91-b0fc-8f9595abfafc"
  },
  {
   "cell_type": "markdown",
   "metadata": {},
   "source": [
    "## Provision the resource"
   ],
   "id": "5b2d0e64-e08f-4f2e-8fc1-22105c73bcf3"
  },
  {
   "cell_type": "markdown",
   "metadata": {},
   "source": [
    "### Check resource availability"
   ],
   "id": "11974405-ea0b-4662-8d2a-d4bfa83830fd"
  },
  {
   "cell_type": "markdown",
   "metadata": {},
   "source": [
    "This notebook will try to reserve a bare metal server on Chameleon - pending availability. You can see the hardware resources available here: <https://chameleoncloud.org/hardware/>.\n",
    "\n",
    "Once you have identified the hardware resource, identify the site where it is available, and then confirm availability using the following site-specific host calendars:  \n",
    "- [TACC](https://chi.tacc.chameleoncloud.org/project/leases/calendar/host/)  \n",
    "- [UC](https://chi.uc.chameleoncloud.org/project/leases/calendar/host/)  \n",
    "- [NU](https://sl-ciab.northwestern.edu/project/leases/calendar/host/)  \n",
    "- [NCAR](https://chi.hpc.ucar.edu/project/leases/calendar/host/)  \n",
    "- [EVL](https://chi.evl.uic.edu/project/leases/calendar/host/)"
   ],
   "id": "ac3f4c47-5fb4-4688-b5b2-ded3317a55a1"
  },
  {
   "cell_type": "markdown",
   "metadata": {},
   "source": [
    "### Chameleon configuration"
   ],
   "id": "292573b0-4526-4306-90d4-ebcc35bdf0e0"
  },
  {
   "cell_type": "markdown",
   "metadata": {},
   "source": [
    "In the following cell, you can enter the site and node type."
   ],
   "id": "10bb5daa-214b-4a14-a3be-f384cadcecfd"
  },
  {
   "cell_type": "code",
   "execution_count": null,
   "metadata": {},
   "outputs": [],
   "source": [
    "import chi, os\n",
    "\n",
    "chi.use_site(\"CHI@UC\")\n",
    "NODE_TYPE = \"compute_cascadelake_r\""
   ],
   "id": "3381ca90-98d7-441b-a6a3-75a86efa022d"
  },
  {
   "cell_type": "markdown",
   "metadata": {},
   "source": [
    "You can also change your Chameleon project name (if not using the one that is automatically configured in the JupyterHub environment) in the following cell."
   ],
   "id": "395e20bf-f873-40f3-afdd-b05986931333"
  },
  {
   "cell_type": "code",
   "execution_count": null,
   "metadata": {},
   "outputs": [],
   "source": [
    "PROJECT_NAME = os.getenv('OS_PROJECT_NAME')\n",
    "chi.set(\"project_name\", PROJECT_NAME)\n",
    "username = os.getenv('USER')"
   ],
   "id": "26537812-a3b4-438c-bc30-9c4a15013f91"
  },
  {
   "cell_type": "markdown",
   "metadata": {},
   "source": [
    "If you need to change the details of the Chameleon server, e.g. use a different OS image, you can do that in the following cell."
   ],
   "id": "51612f9c-f083-4ef2-abdd-c6cb8027ad75"
  },
  {
   "cell_type": "code",
   "execution_count": null,
   "metadata": {},
   "outputs": [],
   "source": [
    "chi.set(\"image\", \"CC-Ubuntu20.04\")"
   ],
   "id": "cb13faa6-ff1d-4232-bbaa-f00c3f6db068"
  },
  {
   "cell_type": "markdown",
   "metadata": {},
   "source": [
    "### Reservation"
   ],
   "id": "4e0de548-3cd3-460a-904f-403d375cbf96"
  },
  {
   "cell_type": "markdown",
   "metadata": {},
   "source": [
    "The following cell will create a reservation that begins now, and ends in 8 hours. You can modify the start and end date as needed."
   ],
   "id": "f2c71d8f-845c-4aab-9cb6-2e80a40d2162"
  },
  {
   "cell_type": "code",
   "execution_count": null,
   "metadata": {},
   "outputs": [],
   "source": [
    "from chi import lease\n",
    "\n",
    "\n",
    "res = []\n",
    "lease.add_node_reservation(res, node_type=NODE_TYPE, count=1)\n",
    "lease.add_fip_reservation(res, count=1)\n",
    "start_date, end_date = lease.lease_duration(days=0, hours=8)\n",
    "\n",
    "l = lease.create_lease(f\"{username}-{NODE_TYPE}\", res, start_date=start_date, end_date=end_date)\n",
    "l = lease.wait_for_active(l[\"id\"])  #Comment this line if the lease starts in the future"
   ],
   "id": "d4ad9543-ee2a-44b9-8364-4970b6f52a27"
  },
  {
   "cell_type": "code",
   "execution_count": null,
   "metadata": {},
   "outputs": [],
   "source": [
    "# continue here, whether using a lease created just now or one created earlier\n",
    "l = lease.get_lease(f\"{username}-{NODE_TYPE}\")\n",
    "l['id']"
   ],
   "id": "e459dc71-819d-489c-b9d3-ea4cc193b8a1"
  },
  {
   "cell_type": "markdown",
   "metadata": {},
   "source": [
    "### Provisioning resources"
   ],
   "id": "6ad010b9-62f1-4766-a7e6-9373ede10ef0"
  },
  {
   "cell_type": "markdown",
   "metadata": {},
   "source": [
    "This cell provisions resources. It will take approximately 10 minutes. You can check on its status in the Chameleon web-based UI, which can be accessed by selecting ‘Instances’ under the ‘Compute’ tab on the relevant site’s webpage. For example, for a node on the CHI@UC site, you can use <https://chi.uc.chameleoncloud.org/project/instances/>. Come back here when it is in the RUNNING state."
   ],
   "id": "8a625d51-e186-4896-a13c-43e8b44c9ac0"
  },
  {
   "cell_type": "code",
   "execution_count": null,
   "metadata": {},
   "outputs": [],
   "source": [
    "from chi import server\n",
    "\n",
    "reservation_id = lease.get_node_reservation(l[\"id\"])\n",
    "server.create_server(\n",
    "    f\"{username}-{NODE_TYPE}\",\n",
    "    reservation_id=reservation_id,\n",
    "    image_name=chi.get(\"image\")\n",
    ")\n",
    "server_id = server.get_server_id(f\"{username}-{NODE_TYPE}\")\n",
    "server.wait_for_active(server_id)"
   ],
   "id": "24ad5326-48a0-4737-b160-d801cb7d98f7"
  },
  {
   "cell_type": "markdown",
   "metadata": {},
   "source": [
    "Associate an IP address with this server:"
   ],
   "id": "2fc55acb-59c8-42ef-920e-bdcac73e659f"
  },
  {
   "cell_type": "code",
   "execution_count": null,
   "metadata": {},
   "outputs": [],
   "source": [
    "reserved_fip = lease.get_reserved_floating_ips(l[\"id\"])[0]\n",
    "server.associate_floating_ip(server_id,reserved_fip)"
   ],
   "id": "d308d4f3-e3f3-4c35-8b54-5fb642897781"
  },
  {
   "cell_type": "markdown",
   "metadata": {},
   "source": [
    "and wait for it to come up:"
   ],
   "id": "8e507748-e9bb-4a49-be25-c2783148bc31"
  },
  {
   "cell_type": "code",
   "execution_count": null,
   "metadata": {},
   "outputs": [],
   "source": [
    "server.wait_for_tcp(reserved_fip, port=22)"
   ],
   "id": "bce6cedd-b5de-4093-b117-b21583323419"
  },
  {
   "cell_type": "markdown",
   "metadata": {},
   "source": [
    "## Install Required Libraries and Packages"
   ],
   "id": "fbbfdeac-4cf4-4242-92d6-bba466d79d13"
  },
  {
   "cell_type": "markdown",
   "metadata": {},
   "source": [
    "The following cells will install the libraries and packages required to initiate the Jupyter notebook server, and then execute the experiment notebook on this server."
   ],
   "id": "e44e5698-bb49-4474-9e02-4002cafceea4"
  },
  {
   "cell_type": "code",
   "execution_count": null,
   "metadata": {},
   "outputs": [],
   "source": [
    "from chi import ssh\n",
    "\n",
    "node = ssh.Remote(reserved_fip)"
   ],
   "id": "e60cfbf1-8522-4d7e-ade6-ec0db37bb931"
  },
  {
   "cell_type": "code",
   "execution_count": null,
   "metadata": {},
   "outputs": [],
   "source": [
    "node.run('sudo apt update')\n",
    "node.run('sudo apt -y install python3-pip python3-dev')\n",
    "node.run('sudo pip3 install --upgrade pip')"
   ],
   "id": "16a2ec5f-0295-4158-8ced-e0acae3b560c"
  },
  {
   "cell_type": "markdown",
   "metadata": {},
   "source": [
    "### Install Python packages"
   ],
   "id": "22770125-1c23-4f67-9efc-771f2589c3f0"
  },
  {
   "cell_type": "code",
   "execution_count": null,
   "metadata": {},
   "outputs": [],
   "source": [
    "node.run('python3 -m pip install --user matplotlib==3.7.5 gdown==5.2.0 pandas==2.0.3')"
   ],
   "id": "7d4ee69e-4f6f-4f68-8da0-5d09c36a040b"
  },
  {
   "cell_type": "markdown",
   "metadata": {},
   "source": [
    "### Set up Jupyter on server"
   ],
   "id": "d41fd2da-4593-4108-8d45-0f7a9290b405"
  },
  {
   "cell_type": "markdown",
   "metadata": {},
   "source": [
    "Install Jupyter:"
   ],
   "id": "58bc581b-7c84-4274-868d-d6ee2877298a"
  },
  {
   "cell_type": "code",
   "execution_count": null,
   "metadata": {},
   "outputs": [],
   "source": [
    "node.run('python3 -m pip install --user  jupyter-core jupyter-client jupyter -U --force-reinstall')"
   ],
   "id": "f423e0b8-17c1-4007-9228-eca46f3a26ce"
  },
  {
   "cell_type": "markdown",
   "metadata": {},
   "source": [
    "### Retrieve the materials"
   ],
   "id": "e0a4a223-2743-4004-9564-8efcdbfb6d12"
  },
  {
   "cell_type": "markdown",
   "metadata": {},
   "source": [
    "Finally, get a copy of the notebooks that you will run:"
   ],
   "id": "6337788f-dc33-4511-ad39-a432687ec0c0"
  },
  {
   "cell_type": "code",
   "execution_count": null,
   "metadata": {},
   "outputs": [],
   "source": [
    "node.run('git clone https://github.com/AhmedFarrukh/DeepLearning-EdgeComputing.git')"
   ],
   "id": "dcde8c2d-713c-4f87-9326-3dec4e67f22f"
  },
  {
   "cell_type": "markdown",
   "metadata": {},
   "source": [
    "## Run a JupyterHub server"
   ],
   "id": "42dd8cc4-50c1-4085-b205-046a01f12dc4"
  },
  {
   "cell_type": "markdown",
   "metadata": {},
   "source": [
    "Run the following cell:"
   ],
   "id": "11e71219-9d32-4577-9a57-6057bda9f37d"
  },
  {
   "cell_type": "code",
   "execution_count": null,
   "metadata": {},
   "outputs": [],
   "source": [
    "print('ssh -L 127.0.0.1:8888:127.0.0.1:8888 cc@' + reserved_fip)"
   ],
   "id": "7da7a849-cf8b-4296-a253-85cf4a39be5f"
  },
  {
   "cell_type": "markdown",
   "metadata": {},
   "source": [
    "then paste its output into a *local* terminal on your own device, to set up a tunnel to the Jupyter server. If your Chameleon key is not in the default location, you should also specify the path to your key as an argument, using `-i`. Leave this SSH session open.\n",
    "\n",
    "Then, run the following cell, which will start a command that does not terminate:"
   ],
   "id": "255a6661-7650-4929-9e96-c4aee4504139"
  },
  {
   "cell_type": "code",
   "execution_count": null,
   "metadata": {},
   "outputs": [],
   "source": [
    "node.run(\"/home/cc/.local/bin/jupyter notebook --port=8888 --notebook-dir='DeepLearning-EdgeComputing/notebooks'\")"
   ],
   "id": "cbfb6700-fc3c-4e22-86e7-cdb361a06fe7"
  },
  {
   "cell_type": "markdown",
   "metadata": {},
   "source": [
    "In the output of the cell above, look for a URL in this format:\n",
    "\n",
    "    http://localhost:8888/?token=XXXXXXXXXXXXXXXXXXXXXXXXXXXXXXXXX\n",
    "\n",
    "Copy this URL and open it in a browser. Then, you can run the sequence of notebooks that you’ll see there, in order.\n",
    "\n",
    "If you need to stop and re-start your Jupyter server,\n",
    "\n",
    "-   Use Kernel \\> Interrupt Kernel *twice* to stop the cell above\n",
    "-   Then run the following cell to kill whatever may be left running in the background."
   ],
   "id": "154f5033-9ed2-4af1-86b5-ad350ae4759a"
  },
  {
   "cell_type": "code",
   "execution_count": null,
   "metadata": {},
   "outputs": [],
   "source": [
    "node.run(\"sudo killall jupyter-notebook\")"
   ],
   "id": "db267a5a-811d-4eb5-bbb1-0a190894212f"
  },
  {
   "cell_type": "markdown",
   "metadata": {},
   "source": [
    "## Release resources"
   ],
   "id": "851e4951-a7eb-484e-bb73-5b92c5657aad"
  },
  {
   "cell_type": "markdown",
   "metadata": {},
   "source": [
    "If you finish with your experimentation before your lease expires,release your resources and tear down your environment by running the following (commented out to prevent accidental deletions).\n",
    "\n",
    "This section is designed to work as a “standalone” portion - you can come back to this notebook, ignore the top part, and just run this section to delete your reasources."
   ],
   "id": "b2dcf40a-4a6a-495c-83c4-76ad5a40d00b"
  },
  {
   "cell_type": "code",
   "execution_count": null,
   "metadata": {},
   "outputs": [],
   "source": [
    "# setup environment - if you made any changes in the top part, make the same changes here\n",
    "import chi, os\n",
    "from chi import lease, server\n",
    "\n",
    "PROJECT_NAME = os.getenv('OS_PROJECT_NAME')\n",
    "chi.use_site(\"CHI@UC\")\n",
    "chi.set(\"project_name\", PROJECT_NAME)\n",
    "\n",
    "\n",
    "lease = chi.lease.get_lease(f\"{username}-{NODE_TYPE}\")"
   ],
   "id": "8ebf6467-b1fb-445b-85b6-7ccd32147cf3"
  },
  {
   "cell_type": "code",
   "execution_count": null,
   "metadata": {},
   "outputs": [],
   "source": [
    "DELETE = False\n",
    "# DELETE = True\n",
    "\n",
    "if DELETE:\n",
    "    # delete server\n",
    "    server_id = chi.server.get_server_id(f\"{username}-{NODE_TYPE}\")\n",
    "    chi.server.delete_server(server_id)\n",
    "\n",
    "    # release floating IP\n",
    "    reserved_fip =  chi.lease.get_reserved_floating_ips(lease[\"id\"])[0]\n",
    "    ip_info = chi.network.get_floating_ip(reserved_fip)\n",
    "    chi.neutron().delete_floatingip(ip_info[\"id\"])\n",
    "\n",
    "    # delete lease\n",
    "    chi.lease.delete_lease(lease[\"id\"])\n"
   ],
   "id": "e574dcdb-21b9-4c1a-9168-7e6d0c25ed49"
  }
 ],
 "nbformat": 4,
 "nbformat_minor": 5,
 "metadata": {}
}

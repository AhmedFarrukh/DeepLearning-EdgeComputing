{
 "cells": [
  {
   "cell_type": "markdown",
   "metadata": {},
   "source": [
    "# Measuring inference time on a Raspberry Pi device"
   ],
   "id": "a380c715-6f92-45d1-b424-de5db58ae311"
  },
  {
   "cell_type": "markdown",
   "metadata": {},
   "source": [
    "The effect of quantization on the inference time of a model is dependent on the hardware environment, amongst other factors. Since quantization can be used to prepare deep learning models for deployment on edge devices, a comparison of the inference time of a model before and after quantization can be useful.\n",
    "\n",
    "In this notebook, we measure the inference times on a Raspberry Pi 4 with te objective of finding out the effectiveness of quantization in reducing inference time one edge devices."
   ],
   "id": "7b39960a-c49e-42a4-b460-66a66ec7f22c"
  },
  {
   "cell_type": "markdown",
   "metadata": {},
   "source": [
    "## Reservation"
   ],
   "id": "4b33cbab-162d-4c63-866b-f8af346d9c1a"
  },
  {
   "cell_type": "code",
   "execution_count": null,
   "metadata": {},
   "outputs": [],
   "source": [
    "import chi, os, time\n",
    "from chi import lease\n",
    "from chi import server\n",
    "from chi import container\n",
    "\n",
    "PROJECT_NAME = os.getenv('OS_PROJECT_NAME') # change this if you need to\n",
    "chi.use_site(\"CHI@Edge\")\n",
    "chi.set(\"project_name\", PROJECT_NAME)\n",
    "username = os.getenv('USER') # all exp resources will have this prefix"
   ],
   "id": "8758c86d-0948-45e1-a380-a17e1d8aadce"
  },
  {
   "cell_type": "code",
   "execution_count": null,
   "metadata": {},
   "outputs": [],
   "source": [
    "NODE_TYPE = 'raspberrypi4-64'\n",
    "expname = \"edge-cpu\""
   ],
   "id": "03a8a7ca-c46c-4b4c-95b5-6b2b97341e63"
  },
  {
   "cell_type": "code",
   "execution_count": null,
   "metadata": {},
   "outputs": [],
   "source": [
    "res = []\n",
    "lease.add_device_reservation(res, machine_name=NODE_TYPE, count=1)\n",
    "\n",
    "start_date, end_date = lease.lease_duration(days=0, hours=10)\n",
    "# if you won't start right now - comment the line above, uncomment two lines below\n",
    "# start_date = '2024-04-02 15:24' # manually define to desired start time\n",
    "# end_date = '2024-04-03 01:00' # manually define to desired start time\n",
    "\n",
    "l = lease.create_lease(f\"{username}-{NODE_TYPE}\", res, start_date=start_date, end_date=end_date)\n",
    "l = lease.wait_for_active(l[\"id\"])  #Comment this line if the lease starts in the future"
   ],
   "id": "6f418bb8-ff02-4b6f-8ed6-68f4625eec8c"
  },
  {
   "cell_type": "code",
   "execution_count": null,
   "metadata": {},
   "outputs": [],
   "source": [
    "# continue here, whether using a lease created just now or one created earlier\n",
    "l = lease.get_lease(f\"{username}-{NODE_TYPE}\")\n",
    "lease_id = l['id']"
   ],
   "id": "f68724b5-47fd-4264-a9b4-c21afdc4c765"
  },
  {
   "cell_type": "markdown",
   "metadata": {},
   "source": [
    "## Launching a Container"
   ],
   "id": "b33067e4-c308-4f4d-b650-58b84dcb1191"
  },
  {
   "cell_type": "markdown",
   "metadata": {},
   "source": [
    "Now, we are ready to launch a container!\n",
    "\n",
    "-   **Container** : A container is like a logical “box” that holds everything needed to run an application. It includes the application itself, along with all the necessary prerequisite software, files, and settings it needs to work properly.\n",
    "-   **Image** : An image is like a pre-packaged “starting point” for a container. On CHI@Edge, we can use any image that is built for the ARM64 architecture - e.g. anything on [this list](https://hub.docker.com/search?type=image&architecture=arm64&q=). In this example, we’re going to run a machine learning application written in Python, so we will use the `python:3.9-slim` image as a starting point for our container. This is a lightweight installation of the Debian Linux operating system with Python pre-installed.\n",
    "\n",
    "When we create the container, we could also specify some additional arguments:\n",
    "\n",
    "-   `workdir`: the “working directory” - location in the container’s filesystem from which any commands we specify will run.\n",
    "-   `exposed_ports`: if we run any applications inside the container that need to accept incoming requests from a network, we will need to export a “port” number for those incoming requests. Any requests to that port number will be forwarded to this container.\n",
    "-   `command`: if we want to execute a specific command immediately on starting the container, we can specify that as well.\n",
    "\n",
    "For this particular experiment, we’ll specify that port 22 - which is used for SSH access - should be exposed.\n",
    "\n",
    "Also, since we do not specify a `command` to run, we will further specify `interactive = True` - that it should open an interactive Python session - otherwise the container will immediately stop after it is started, because it has no “work” to do.\n",
    "\n",
    "First, we’ll specify the name for our container - we’ll include our username and the experiment name in the container name, so that it will be easy to identify our container in the CHI@Edge web interface."
   ],
   "id": "19a33f03-1b6b-4813-a760-124a58b5cd13"
  },
  {
   "cell_type": "code",
   "execution_count": null,
   "metadata": {},
   "outputs": [],
   "source": [
    "# set a name for the container\n",
    "# Note that underscore characters _ are not allowed - we replace each _ with a -\n",
    "container_name = f\"{username}-{expname}\".replace(\"_\",\"-\")"
   ],
   "id": "ca44372f-d792-463f-95f3-bb01b73fa64a"
  },
  {
   "cell_type": "markdown",
   "metadata": {},
   "source": [
    "Then, we can create the container!"
   ],
   "id": "8785fc6c-6ff0-428b-b5d8-6f03f8c14587"
  },
  {
   "cell_type": "code",
   "execution_count": null,
   "metadata": {},
   "outputs": [],
   "source": [
    "try:\n",
    "    my_container = container.create_container(\n",
    "        container_name,\n",
    "        image=\"python:3.9-slim\",\n",
    "        reservation_id=lease.get_device_reservation(lease_id),\n",
    "        interactive=True,\n",
    "        exposed_ports=[22],\n",
    "        platform_version=2,\n",
    "    )\n",
    "except RuntimeError as ex:\n",
    "    print(ex)\n",
    "    print(f\"Please stop and/or delete {container_name} and try again\")\n",
    "else:\n",
    "    print(f\"Successfully created container: {container_name}!\")"
   ],
   "id": "fbc146e8-a07f-409c-ab26-7a3bd24cff3f"
  },
  {
   "cell_type": "markdown",
   "metadata": {},
   "source": [
    "The next cell waits for the container to be active - when it is, it will print some output related to the container state."
   ],
   "id": "b6f179c7-1b95-49e3-8314-181604fe9870"
  },
  {
   "cell_type": "code",
   "execution_count": null,
   "metadata": {},
   "outputs": [],
   "source": [
    "# wait until container is ready to use\n",
    "container.wait_for_active(my_container.uuid)"
   ],
   "id": "bc415002-bf3e-4897-87d9-4c66b6ac6e7c"
  },
  {
   "cell_type": "markdown",
   "metadata": {},
   "source": [
    "Once the container is created, you should be able to see it and monitor its status on the [CHI@Edge web interface](https://chi.edge.chameleoncloud.org/project/container/containers). (If there was any problem while creating the container, you can also delete the container from that interface, in order to be able to try again.)"
   ],
   "id": "e1b48e19-ef48-4ab7-8488-96537c9dc829"
  },
  {
   "cell_type": "markdown",
   "metadata": {},
   "source": [
    "## Transfering code files to the container"
   ],
   "id": "fd94f4fd-9e9a-416e-a566-7345eb23d8cd"
  },
  {
   "cell_type": "markdown",
   "metadata": {},
   "source": [
    "Later in this notebook, we’ll repeatedly run the TFlite benchmark on the models and plot the results. The code file for repeatedly running the benchmark is in [this](https://github.com/AhmedFarrukh/DeepLearning-EdgeComputing/tree/main) git repository, which we need to transfer to the container.\n",
    "\n",
    "First, we will clone the repositoy to bring the relevant files onto the chameleon server and then transfer them to the container on our edge device."
   ],
   "id": "efecb9be-5ba8-4d01-b102-041057e8a096"
  },
  {
   "cell_type": "code",
   "execution_count": null,
   "metadata": {},
   "outputs": [],
   "source": [
    "!git clone https://github.com/AhmedFarrukh/DeepLearning-EdgeComputing.git"
   ],
   "id": "177e037c-d467-4952-90f4-667de5f5bb1b"
  },
  {
   "cell_type": "markdown",
   "metadata": {},
   "source": [
    "Next, we will upload the `code` directory from this repository to the `/root/` directory in the container."
   ],
   "id": "4c72c4eb-0d9b-4bd7-995a-b014a7f6f7b7"
  },
  {
   "cell_type": "code",
   "execution_count": null,
   "metadata": {},
   "outputs": [],
   "source": [
    "container.upload(my_container.uuid, \"./DeepLearning-EdgeComputing/code\", \"/root/\")"
   ],
   "id": "9eef17b8-e66e-4da3-aa9c-6de45b439e6a"
  },
  {
   "cell_type": "markdown",
   "metadata": {},
   "source": [
    "Finally, we can verify that the files were successfully transferred. The following cell should print the contents of the `code` directory from the repository."
   ],
   "id": "4145cd33-f018-455c-a258-b338cc48d044"
  },
  {
   "cell_type": "code",
   "execution_count": null,
   "metadata": {},
   "outputs": [],
   "source": [
    "print(container.execute(my_container.uuid, 'ls -R /root/code'))['output']"
   ],
   "id": "bf3670e1-6345-49b5-809f-45ad0ca7762e"
  },
  {
   "cell_type": "markdown",
   "metadata": {},
   "source": [
    "## Downloading files to the container"
   ],
   "id": "8fde1a58-b513-4c3a-9a9a-9edd5fabf269"
  },
  {
   "cell_type": "markdown",
   "metadata": {},
   "source": [
    "Before we run the experiment, we need to download the models, as well as the TFlite benchmark."
   ],
   "id": "9d51343d-b9d1-4b51-a4b0-89eeb81f6338"
  },
  {
   "cell_type": "markdown",
   "metadata": {},
   "source": [
    "We first install the `wget` and `gdown`. `wget` is a utility used to download files from the internet which we can use to downlaod the TFlite benchmark, and `gdown` is a tool to download files specifically from Google Drive, where the models are stored."
   ],
   "id": "27928cb9-0af1-4e8c-aba4-1fb5c9bf6006"
  },
  {
   "cell_type": "code",
   "execution_count": null,
   "metadata": {},
   "outputs": [],
   "source": [
    "container.execute(my_container.uuid, 'apt update')\n",
    "container.execute(my_container.uuid, 'apt -y install wget')"
   ],
   "id": "65bb9a80-7f8f-4f60-b426-7ba9b1296900"
  },
  {
   "cell_type": "code",
   "execution_count": null,
   "metadata": {},
   "outputs": [],
   "source": [
    "container.execute(my_container.uuid, 'pip install gdown')"
   ],
   "id": "d60fb960-11ea-4a4e-97dd-5edc8da853ca"
  },
  {
   "cell_type": "markdown",
   "metadata": {},
   "source": [
    "Next, we can download the TFlite benchmark, storing it in `/root/benchmark` directory."
   ],
   "id": "53a202fa-bf68-47b7-88b8-8e0ecaee8569"
  },
  {
   "cell_type": "code",
   "execution_count": null,
   "metadata": {},
   "outputs": [],
   "source": [
    "container.execute(my_container.uuid, 'mkdir /root/benchmark')\n",
    "container.execute(my_container.uuid,'wget https://storage.googleapis.com/tensorflow-nightly-public/prod/tensorflow/release/lite/tools/nightly/latest/linux_aarch64_benchmark_model -P /root/benchmark')"
   ],
   "id": "73e2bb51-8dc1-4cd9-98d5-5cce960ac66c"
  },
  {
   "cell_type": "markdown",
   "metadata": {},
   "source": [
    "The following command should verify that the benchmark was correctly downloaded. We should be able to see a benchmark binary in the `/root/benchmark` directory."
   ],
   "id": "b2984dcd-19f0-472f-b0c1-92996d22e699"
  },
  {
   "cell_type": "code",
   "execution_count": null,
   "metadata": {},
   "outputs": [],
   "source": [
    "print(container.execute(my_container.uuid, 'ls /root/benchmark'))['output']"
   ],
   "id": "6516167b-6361-4e84-bbb3-66befc421b2e"
  },
  {
   "cell_type": "markdown",
   "metadata": {},
   "source": [
    "We also need to update the permissions of the benchmark binary and allow it to be executed."
   ],
   "id": "96cc974e-10d9-4670-9fad-9970f43f110e"
  },
  {
   "cell_type": "code",
   "execution_count": null,
   "metadata": {},
   "outputs": [],
   "source": [
    "container.execute(my_container.uuid,'chmod +x /root/benchmark/linux_aarch64_benchmark_model')"
   ],
   "id": "3758002b-7164-4358-84fa-9058dd308e44"
  },
  {
   "cell_type": "markdown",
   "metadata": {},
   "source": [
    "All we need now is to download the models themselves. Using `gdown`, the models are downloaded from Google Drive and stored in the `/root/tflite_models` directory."
   ],
   "id": "e729427e-deaa-4146-ae48-1351d941f6be"
  },
  {
   "cell_type": "code",
   "execution_count": null,
   "metadata": {},
   "outputs": [],
   "source": [
    "container.execute(my_container.uuid, 'mkdir /root/tflite_models')\n",
    "container.execute(my_container.uuid, 'gdown --folder https://drive.google.com/drive/folders/1OcJ9ceYg6ZWFJ4QMR0zznsw0KVeHPa4h -O /root/tflite_models')"
   ],
   "id": "003631ac-945b-49eb-8abc-f7bb774192f6"
  },
  {
   "cell_type": "markdown",
   "metadata": {},
   "source": [
    "The following command should verify that the models were correctly downloaded. In the `/root/tflite_models` directory, we should be able to see two versions of each model: original and quantized. Note that the original models are about four times larger in size than the quantized models."
   ],
   "id": "a41a0809-984f-4115-84ff-edf6012a3587"
  },
  {
   "cell_type": "code",
   "execution_count": null,
   "metadata": {},
   "outputs": [],
   "source": [
    "print(container.execute(my_container.uuid, 'ls -lR /root/tflite_models'))['output']"
   ],
   "id": "3f1ea7d6-6b7e-48b0-a890-057258e77c56"
  },
  {
   "cell_type": "markdown",
   "metadata": {},
   "source": [
    "## Running the benchmark"
   ],
   "id": "24a9ed32-6d62-4ce7-b9c5-88ded4245f79"
  },
  {
   "cell_type": "markdown",
   "metadata": {},
   "source": [
    "We can now run the benchmark on the `tflite` models using the `run_benchmark` file in the `code` directory we transferred to the container earlier. For each model, the `run_benchmark` file runs the benchmark 10 times, storing the output in a file; the file name is the same as the model and the output files are stores in the `/root/results` directory. Once all models have been benchmarked, a file by the name of `completed` is created in the directory. In the next step, we will then parse through these output files, extract the relevant data and create plots.\n",
    "\n",
    "This step could take about 90 minutes."
   ],
   "id": "a9e77fd8-6fbb-4ff9-a15f-e75d67cdb033"
  },
  {
   "cell_type": "code",
   "execution_count": null,
   "metadata": {},
   "outputs": [],
   "source": [
    "container.execute(my_container.uuid, 'mkdir /root/results')\n",
    "container.execute(my_container.uuid, 'python /root/code/run_benchmark.py')"
   ],
   "id": "c1a4e3c1-ec67-4fa3-a74a-7c10b64fa4d7"
  },
  {
   "cell_type": "markdown",
   "metadata": {},
   "source": [
    "## Plotting the Results"
   ],
   "id": "256bf1a6-ff28-4e92-a5fe-e448c984662c"
  },
  {
   "cell_type": "markdown",
   "metadata": {},
   "source": [
    "Before we plot the results, let’s make sure that the python code has finished running. We can read the contents of the `/root/results`. If finished, the directory should contain one file for each model as well as a file named `completed`. If this is not the case, please wait for the code to finish executing."
   ],
   "id": "b0accd8c-aedd-4ffa-8b4e-ce1684eff1ad"
  },
  {
   "cell_type": "code",
   "execution_count": null,
   "metadata": {},
   "outputs": [],
   "source": [
    "print(container.execute(my_container.uuid, 'ls /root/results'))['output']"
   ],
   "id": "0d3f6810-89db-4f01-9127-222f29363277"
  },
  {
   "cell_type": "markdown",
   "metadata": {},
   "source": [
    "We can have a look at one of the files to see what the output of the benchmark looks like."
   ],
   "id": "0e770d19-3248-4d33-8988-2033d64f1aae"
  },
  {
   "cell_type": "code",
   "execution_count": null,
   "metadata": {},
   "outputs": [],
   "source": [
    "print(container.execute(my_container.uuid, 'cat MobileNet.txt'))['output']"
   ],
   "id": "66690bbf-be37-464e-b065-0ebf5b0ba70b"
  },
  {
   "cell_type": "markdown",
   "metadata": {},
   "source": [
    "Let’s define all the metrics that are reported by the benchmark:"
   ],
   "id": "c116907c-08ba-4fa3-9467-84e0923cebfa"
  },
  {
   "cell_type": "code",
   "execution_count": null,
   "metadata": {},
   "outputs": [],
   "source": [
    "metrics = [\"Init Time (ms)\", \"Init Inference (ms)\", \"First Inference (ms)\", \"Warmup Inference (ms)\", \"Avg Inference (ms)\", \"Memory Init (MB)\", \"Memory Overall (MB)\"]"
   ],
   "id": "24bcd0be-8029-468f-92d9-8b88752c6a91"
  },
  {
   "cell_type": "markdown",
   "metadata": {},
   "source": [
    "Since the result of the benchmark is reported as text, we can define a parsing function to extract the data. The parsing function takes the output of the benchmark as an input and adds the results to a dictionary of metrics."
   ],
   "id": "fff68006-def0-4a58-bc1f-bd347785ddd3"
  },
  {
   "cell_type": "code",
   "execution_count": null,
   "metadata": {},
   "outputs": [],
   "source": [
    "import re\n",
    "\n",
    "def parse_benchmark_output(output, results):\n",
    "    \"\"\"\n",
    "    Parse benchmark output to extract model initialization times, inference timings, and memory footprint.\n",
    "    \"\"\"\n",
    "\n",
    "    # Regular expressions to match the required information\n",
    "    init_time_patterns = [\n",
    "        re.compile(r'INFO: Initialized session in (\\d+.\\d+)ms.'),\n",
    "        re.compile(r'INFO: Initialized session in (\\d+)ms.')\n",
    "    ]\n",
    "    inference_patterns = [\n",
    "        re.compile(r'INFO: Inference timings in us: Init: (\\d+), First inference: (\\d+), Warmup \\(avg\\): ([\\d.e+]+), Inference \\(avg\\): ([\\d.e+]+)'),\n",
    "        re.compile(r'INFO: Inference timings in us: Init: (\\d+), First inference: (\\d+), Warmup \\(avg\\): ([\\d.e+]+), Inference \\(avg\\): (\\d+)'),\n",
    "        re.compile(r'INFO: Inference timings in us: Init: (\\d+), First inference: (\\d+), Warmup \\(avg\\): (\\d+.\\d+), Inference \\(avg\\): (\\d+.\\d+)'),\n",
    "        re.compile(r'INFO: Inference timings in us: Init: (\\d+), First inference: (\\d+), Warmup \\(avg\\): (\\d+), Inference \\(avg\\): (\\d+.\\d+)'),\n",
    "        re.compile(r'INFO: Inference timings in us: Init: (\\d+), First inference: (\\d+), Warmup \\(avg\\): (\\d+), Inference \\(avg\\): (\\d+)'),\n",
    "    ]\n",
    "    memory_patterns = [\n",
    "        re.compile(r'INFO: Memory footprint delta from the start of the tool \\(MB\\): init=(\\d+.\\d+) overall=(\\d+.\\d+)'),\n",
    "        re.compile(r'INFO: Memory footprint delta from the start of the tool \\(MB\\): init=(\\d+.\\d+) overall=(\\d+)'),\n",
    "        re.compile(r'INFO: Memory footprint delta from the start of the tool \\(MB\\): init=(\\d+) overall=(\\d+.\\d+)'),\n",
    "        re.compile(r'INFO: Memory footprint delta from the start of the tool \\(MB\\): init=(\\d+) overall=(\\d+)'),\n",
    "    ]\n",
    "    for line in output.split('\\n'):\n",
    "        # Match the initialization time\n",
    "        for pattern in init_time_patterns:\n",
    "            init_match = pattern.search(line)\n",
    "            if init_match:\n",
    "                results['Init Time (ms)'].append(float(init_match.group(1)))\n",
    "                break\n",
    "\n",
    "        # Match the inference timings\n",
    "        for pattern in inference_patterns:\n",
    "            inference_match = pattern.search(line)\n",
    "            if inference_match:\n",
    "                results[\"Init Inference (ms)\"].append(int(inference_match.group(1))/1000)\n",
    "                results[\"First Inference (ms)\"].append(int(inference_match.group(2))/1000)\n",
    "                results[\"Warmup Inference (ms)\"].append(float(inference_match.group(3))/1000)\n",
    "                results[\"Avg Inference (ms)\"].append(float(inference_match.group(4))/1000)\n",
    "                break\n",
    "\n",
    "        # Match the memory footprint\n",
    "        for pattern in memory_patterns:\n",
    "            memory_match = pattern.search(line)\n",
    "            if memory_match:\n",
    "              results['Memory Init (MB)'].append(float(memory_match.group(1)))\n",
    "              results['Memory Overall (MB)'].append(float(memory_match.group(2)))\n",
    "              break\n"
   ],
   "id": "e8479943-91ca-4ae2-99b4-0f2a283406af"
  },
  {
   "cell_type": "markdown",
   "metadata": {},
   "source": [
    "Next, we can define a Pandas Dataframe to store our results. Since we will be repeatedly running the benchmark to estimate the standard deviation of results as well, for each metric, we will define two columns - one for the mean and the other for the standard deviation."
   ],
   "id": "452056f2-98d1-46be-bdce-f3ead502011d"
  },
  {
   "cell_type": "code",
   "execution_count": null,
   "metadata": {},
   "outputs": [],
   "source": [
    "import pandas as pd\n",
    "\n",
    "# Define model types (rows)\n",
    "rows = []\n",
    "for model in modelNames:\n",
    "  rows.append(model)\n",
    "  rows.append(model + \"_quant\")\n",
    "\n",
    "# Define columns\n",
    "cols = []\n",
    "for metric in metrics:\n",
    "  cols.append(metric)\n",
    "  cols.append(metric + \"_sd\")\n",
    "\n",
    "# Create an empty DataFrame\n",
    "finalResult = pd.DataFrame(index=rows, columns=cols)"
   ],
   "id": "f6493626-67dc-423d-a9e4-e4232684205c"
  },
  {
   "cell_type": "markdown",
   "metadata": {},
   "source": [
    "Finally, we can use the functions and structures defined above to parse through the data and populate the dataframe with relevant metrics."
   ],
   "id": "4cbaae6a-b494-4f16-898d-9135c2f3db35"
  },
  {
   "cell_type": "code",
   "execution_count": null,
   "metadata": {},
   "outputs": [],
   "source": [
    "import subprocess\n",
    "from collections import defaultdict\n",
    "from statistics import mean\n",
    "from statistics import stdev\n",
    "\n",
    "n = 10 #the number of times the benchmark is called for each model\n",
    "\n",
    "for modelName in rows:\n",
    "  print(modelName)\n",
    "  modelResults = defaultdict(list)\n",
    "  outputOriginal = print(container.execute(my_container.uuid, 'cat ' + modelName + '.txt'))['output']\n",
    "  output = parse_benchmark_output(outputOriginal, modelResults)\n",
    "\n",
    "  for metric in metrics:\n",
    "    finalResult.loc[modelName, metric] = mean(modelResults[metric])\n",
    "    finalResult.loc[modelName, metric + \"_sd\"] = stdev(modelResults[metric])"
   ],
   "id": "9b2526d5-8912-4956-8bce-254f945e5447"
  },
  {
   "cell_type": "markdown",
   "metadata": {},
   "source": [
    "Let’s have a look at the results."
   ],
   "id": "2230a50d-24de-4112-806b-5276551af90d"
  },
  {
   "cell_type": "code",
   "execution_count": null,
   "metadata": {},
   "outputs": [],
   "source": [
    "print(finalResult)"
   ],
   "id": "0cc626dc-656c-45cd-a8a0-013255ed0216"
  },
  {
   "cell_type": "markdown",
   "metadata": {},
   "source": [
    "Let’s create a directory to store the plots from our data:"
   ],
   "id": "4a882ac3-1ced-4f5a-b9db-c7f4dd66f5b8"
  },
  {
   "cell_type": "code",
   "execution_count": null,
   "metadata": {},
   "outputs": [],
   "source": [
    "!mkdir ./plots"
   ],
   "id": "f62ca282-d440-4a09-940d-56ab2f74fa83"
  },
  {
   "cell_type": "markdown",
   "metadata": {},
   "source": [
    "Finally, we can generate plots of the results."
   ],
   "id": "11b83057-3489-4f03-aafb-80444cd259b3"
  },
  {
   "cell_type": "code",
   "execution_count": null,
   "metadata": {},
   "outputs": [],
   "source": [
    "import matplotlib.pyplot as plt\n",
    "import numpy as np\n",
    "for metric in metrics:\n",
    "    means_orig = finalResult.loc[modelNames, metric].values\n",
    "    errors_orig = finalResult.loc[modelNames, metric + \"_sd\"].values\n",
    "    means_quant = finalResult.loc[[model + \"_quant\" for model in modelNames], metric].values\n",
    "    errors_quant = finalResult.loc[[model + \"_quant\" for model in modelNames], metric + \"_sd\"].values\n",
    "\n",
    "\n",
    "    n_groups = len(modelNames)\n",
    "    index = np.arange(n_groups)\n",
    "\n",
    "    fig, ax = plt.subplots()\n",
    "    bar_width = 0.35\n",
    "    opacity = 0.8\n",
    "\n",
    "    rects1 = plt.bar(index, means_orig, bar_width,\n",
    "                     alpha=opacity,\n",
    "                     yerr=errors_orig,\n",
    "                     label='Original')\n",
    "\n",
    "    rects2 = plt.bar(index + bar_width, means_quant, bar_width,\n",
    "                     alpha=opacity,\n",
    "                     yerr=errors_quant,\n",
    "                     label='Quantized')\n",
    "\n",
    "    plt.xlabel('Model')\n",
    "    plt.ylabel(metric)\n",
    "    plt.title(f'Bar Chart for {metric}')\n",
    "    plt.xticks(index + bar_width / 2, modelNames, rotation=45)\n",
    "    plt.legend()\n",
    "\n",
    "    plt.tight_layout()\n",
    "\n",
    "    # Save the plot as an image\n",
    "    plt.savefig(\"./plots\" + metric + \"_bar_chart.png\")\n",
    "\n",
    "    # Show the plot\n",
    "    plt.show()"
   ],
   "id": "fc12ad4a-bef1-4b21-99ef-9f94e569a4e8"
  },
  {
   "cell_type": "markdown",
   "metadata": {},
   "source": [
    "## Delete the container"
   ],
   "id": "d5e801da-3727-46dc-a6c9-cd26b2859601"
  },
  {
   "cell_type": "markdown",
   "metadata": {},
   "source": [
    "Lastly, we should stop and delete our container so that others can create new containers using the same lease. To delete our container, we can run the following cell:"
   ],
   "id": "82ed12f5-9b59-439a-a07d-9b0bc97bc1f8"
  },
  {
   "cell_type": "code",
   "execution_count": null,
   "metadata": {},
   "outputs": [],
   "source": [
    "container.destroy_container(my_container.uuid)"
   ],
   "id": "7b17808b-993e-460f-baa9-f84e8d8dcd52"
  },
  {
   "cell_type": "markdown",
   "metadata": {},
   "source": [
    "Run the following cell to delete the lease as well."
   ],
   "id": "2cc9f9a5-ce0b-425a-8b6c-6cfe89476294"
  },
  {
   "cell_type": "code",
   "execution_count": null,
   "metadata": {},
   "outputs": [],
   "source": [
    "DELETE = False #Default value is False to prevent any accidental deletes. Change it to True for deleting the resources\n",
    "\n",
    "if DELETE:\n",
    "\n",
    "    # delete lease\n",
    "    chi.lease.delete_lease(lease[\"id\"])"
   ],
   "id": "cd2ef367-cbca-47b0-8d2b-3cebe2891d8a"
  }
 ],
 "nbformat": 4,
 "nbformat_minor": 5,
 "metadata": {}
}

{
 "cells": [
  {
   "cell_type": "markdown",
   "metadata": {},
   "source": [
    "# Measuring inference time on a Raspberry Pi device"
   ],
   "id": "589fa256-3425-47ae-b194-0399defbd8f4"
  },
  {
   "cell_type": "markdown",
   "metadata": {},
   "source": [
    "The effect of quantization on the inference time of a model is dependent on the hardware environment, amongst other factors. Since quantization can be used to prepare deep learning models for deployment on edge devices, a comparison of the inference time of a model before and after quantization can be useful.\n",
    "\n",
    "In this notebook, we measure the inference times on a Raspberry Pi 4 with the objective of finding out the effectiveness of quantization in reducing inference time on edge devices."
   ],
   "id": "241a3437-fa5f-47fb-990d-b6eb537ac30d"
  },
  {
   "cell_type": "markdown",
   "metadata": {},
   "source": [
    "## Reservation"
   ],
   "id": "cb81942b-679c-4b86-9f1e-6721902e526c"
  },
  {
   "cell_type": "code",
   "execution_count": null,
   "metadata": {},
   "outputs": [],
   "source": [
    "import chi, os, time\n",
    "from chi import lease\n",
    "from chi import server\n",
    "from chi import container\n",
    "\n",
    "PROJECT_NAME = os.getenv('OS_PROJECT_NAME') # change this if you need to\n",
    "chi.use_site(\"CHI@Edge\")\n",
    "chi.set(\"project_name\", PROJECT_NAME)\n",
    "username = os.getenv('USER') # all exp resources will have this prefix"
   ],
   "id": "c6645d48-b948-4ed2-8da9-1b3d5c528b7a"
  },
  {
   "cell_type": "code",
   "execution_count": null,
   "metadata": {},
   "outputs": [],
   "source": [
    "NODE_TYPE = 'raspberrypi4-64'\n",
    "expname = \"edge-cpu\""
   ],
   "id": "889a0843-0292-412d-b64e-741d7ba72442"
  },
  {
   "cell_type": "code",
   "execution_count": null,
   "metadata": {},
   "outputs": [],
   "source": [
    "res = []\n",
    "lease.add_device_reservation(res, machine_name=NODE_TYPE, count=1)\n",
    "\n",
    "start_date, end_date = lease.lease_duration(days=0, hours=10)\n",
    "# if you won't start right now - comment the line above, uncomment two lines below\n",
    "# start_date = '2024-04-02 15:24' # manually define to desired start time\n",
    "# end_date = '2024-04-03 01:00' # manually define to desired start time\n",
    "\n",
    "l = lease.create_lease(f\"{username}-{NODE_TYPE}\", res, start_date=start_date, end_date=end_date)\n",
    "l = lease.wait_for_active(l[\"id\"])  #Comment this line if the lease starts in the future"
   ],
   "id": "262b35f4-0c76-40bf-a168-6a5fcff2e5d9"
  },
  {
   "cell_type": "code",
   "execution_count": null,
   "metadata": {},
   "outputs": [],
   "source": [
    "# continue here, whether using a lease created just now or one created earlier\n",
    "l = lease.get_lease(f\"{username}-{NODE_TYPE}\")\n",
    "lease_id = l['id']"
   ],
   "id": "dbd6c9fa-ee98-458b-aa74-3e2c479200aa"
  },
  {
   "cell_type": "markdown",
   "metadata": {},
   "source": [
    "## Launching a Container"
   ],
   "id": "460625a8-c99c-46ce-8e59-ad77769456d9"
  },
  {
   "cell_type": "markdown",
   "metadata": {},
   "source": [
    "Now, we are ready to launch a container!\n",
    "\n",
    "-   **Container** : A container is like a logical “box” that holds everything needed to run an application. It includes the application itself, along with all the necessary prerequisite software, files, and settings it needs to work properly.\n",
    "-   **Image** : An image is like a pre-packaged “starting point” for a container. On CHI@Edge, we can use any image that is built for the ARM64 architecture - e.g. anything on [this list](https://hub.docker.com/search?type=image&architecture=arm64&q=). In this example, we’re going to run a machine learning application written in Python, so we will use the `python:3.9-slim` image as a starting point for our container. This is a lightweight installation of the Debian Linux operating system with Python pre-installed.\n",
    "\n",
    "When we create the container, we could also specify some additional arguments:\n",
    "\n",
    "-   `workdir`: the “working directory” - location in the container’s filesystem from which any commands we specify will run.\n",
    "-   `exposed_ports`: if we run any applications inside the container that need to accept incoming requests from a network, we will need to export a “port” number for those incoming requests. Any requests to that port number will be forwarded to this container.\n",
    "-   `command`: if we want to execute a specific command immediately on starting the container, we can specify that as well.\n",
    "\n",
    "For this particular experiment, we’ll specify that port 22 - which is used for SSH access - should be exposed.\n",
    "\n",
    "Also, since we do not specify a `command` to run, we will further specify `interactive = True` - that it should open an interactive Python session - otherwise the container will immediately stop after it is started, because it has no “work” to do.\n",
    "\n",
    "First, we’ll specify the name for our container - we’ll include our username and the experiment name in the container name, so that it will be easy to identify our container in the CHI@Edge web interface."
   ],
   "id": "42f3e972-0b0d-4698-b172-6d64f6da88dc"
  },
  {
   "cell_type": "code",
   "execution_count": null,
   "metadata": {},
   "outputs": [],
   "source": [
    "# set a name for the container\n",
    "# Note that underscore characters _ are not allowed - we replace each _ with a -\n",
    "container_name = f\"{username}-{expname}\".replace(\"_\",\"-\")"
   ],
   "id": "10738d2d-c168-4f96-a93d-155a05737024"
  },
  {
   "cell_type": "markdown",
   "metadata": {},
   "source": [
    "Then, we can create the container!"
   ],
   "id": "7899591b-f351-4c3c-963f-7ca81d4d5625"
  },
  {
   "cell_type": "code",
   "execution_count": null,
   "metadata": {},
   "outputs": [],
   "source": [
    "try:\n",
    "    my_container = container.create_container(\n",
    "        container_name,\n",
    "        image=\"python:3.9-slim\",\n",
    "        reservation_id=lease.get_device_reservation(lease_id),\n",
    "        interactive=True,\n",
    "        exposed_ports=[22],\n",
    "        platform_version=2,\n",
    "    )\n",
    "except RuntimeError as ex:\n",
    "    print(ex)\n",
    "    print(f\"Please stop and/or delete {container_name} and try again\")\n",
    "else:\n",
    "    print(f\"Successfully created container: {container_name}!\")"
   ],
   "id": "6b331eab-2e44-428f-a022-3fb2611db5e0"
  },
  {
   "cell_type": "markdown",
   "metadata": {},
   "source": [
    "The next cell waits for the container to be active - when it is, it will print some output related to the container state."
   ],
   "id": "03c02e7e-ac10-42e3-9d3c-67f521cc478a"
  },
  {
   "cell_type": "code",
   "execution_count": null,
   "metadata": {},
   "outputs": [],
   "source": [
    "# wait until container is ready to use\n",
    "container.wait_for_active(my_container.uuid)"
   ],
   "id": "872947ac-ab6d-4e4b-807d-0be54f63aa72"
  },
  {
   "cell_type": "markdown",
   "metadata": {},
   "source": [
    "Once the container is created, you should be able to see it and monitor its status on the [CHI@Edge web interface](https://chi.edge.chameleoncloud.org/project/container/containers). (If there was any problem while creating the container, you can also delete the container from that interface, in order to be able to try again.)"
   ],
   "id": "a018989c-6d57-4ba1-9173-3d86aed3e6b3"
  },
  {
   "cell_type": "markdown",
   "metadata": {},
   "source": [
    "## Transfering code files to the container"
   ],
   "id": "ef136872-416e-4284-906f-08abb8eb6a7e"
  },
  {
   "cell_type": "markdown",
   "metadata": {},
   "source": [
    "Later in this notebook, we’ll repeatedly run the TFlite benchmark on the models and plot the results. The code file for repeatedly running the benchmark is in [this](https://github.com/AhmedFarrukh/DeepLearning-EdgeComputing/tree/main) git repository, which we need to transfer to the container.\n",
    "\n",
    "First, we will clone the repositoy to bring the relevant files onto the chameleon server and then transfer them to the container on our edge device."
   ],
   "id": "73ce65f1-fae9-47e6-95a9-6a19c1d3ab00"
  },
  {
   "cell_type": "code",
   "execution_count": null,
   "metadata": {},
   "outputs": [],
   "source": [
    "!git clone https://github.com/AhmedFarrukh/DeepLearning-EdgeComputing.git"
   ],
   "id": "850c9f9e-6ca1-49fc-9f49-e281455015fe"
  },
  {
   "cell_type": "markdown",
   "metadata": {},
   "source": [
    "Next, we will upload the `code` directory from this repository to the `/root/` directory in the container."
   ],
   "id": "0134eb41-9aab-433f-b984-ba88e001c803"
  },
  {
   "cell_type": "code",
   "execution_count": null,
   "metadata": {},
   "outputs": [],
   "source": [
    "container.upload(my_container.uuid, \"./DeepLearning-EdgeComputing/code\", \"/root/\")"
   ],
   "id": "e2681ce3-5656-4d2a-b7d1-a0a921d83951"
  },
  {
   "cell_type": "markdown",
   "metadata": {},
   "source": [
    "Finally, we can verify that the files were successfully transferred. The following cell should print the contents of the `code` directory from the repository."
   ],
   "id": "bf6c923a-8ccd-4d5a-8deb-a1ba18f6e5ac"
  },
  {
   "cell_type": "code",
   "execution_count": null,
   "metadata": {},
   "outputs": [],
   "source": [
    "print(container.execute(my_container.uuid, 'ls -R /root/code'))['output']"
   ],
   "id": "70768795-329b-433c-91f7-bae6ed45949d"
  },
  {
   "cell_type": "markdown",
   "metadata": {},
   "source": [
    "## Downloading files to the container"
   ],
   "id": "ebd3d0e9-adbd-4692-9061-5b87d5c7fa67"
  },
  {
   "cell_type": "markdown",
   "metadata": {},
   "source": [
    "Before we run the experiment, we need to download the models, as well as the TFlite benchmark."
   ],
   "id": "22578df1-392a-4678-a5bf-46dcc3587801"
  },
  {
   "cell_type": "markdown",
   "metadata": {},
   "source": [
    "We first install `wget` and `gdown`. `wget` is a utility used to download files from the internet which we will use to downlaod the TFlite benchmark, and `gdown` is a tool to download files specifically from Google Drive, where the models are stored."
   ],
   "id": "a6eb5903-ae0b-4c49-9393-c842a640fdea"
  },
  {
   "cell_type": "code",
   "execution_count": null,
   "metadata": {},
   "outputs": [],
   "source": [
    "container.execute(my_container.uuid, 'apt update')\n",
    "container.execute(my_container.uuid, 'apt -y install wget')"
   ],
   "id": "9d7f5424-8ad1-47b9-9fac-c317f427120f"
  },
  {
   "cell_type": "code",
   "execution_count": null,
   "metadata": {},
   "outputs": [],
   "source": [
    "container.execute(my_container.uuid, 'pip install gdown')"
   ],
   "id": "d4069f23-bc0e-4ada-b727-df5cb434d2c2"
  },
  {
   "cell_type": "markdown",
   "metadata": {},
   "source": [
    "Next, we can download the TFlite benchmark, storing it in `/root/benchmark` directory."
   ],
   "id": "76ca4e91-646f-468c-aaa5-df85b24383ae"
  },
  {
   "cell_type": "code",
   "execution_count": null,
   "metadata": {},
   "outputs": [],
   "source": [
    "container.execute(my_container.uuid, 'mkdir /root/benchmark')\n",
    "container.execute(my_container.uuid,'wget https://storage.googleapis.com/tensorflow-nightly-public/prod/tensorflow/release/lite/tools/nightly/latest/linux_aarch64_benchmark_model -P /root/benchmark')"
   ],
   "id": "bedccbf6-14b5-4d9f-a5ed-a59dfc4aa2b5"
  },
  {
   "cell_type": "markdown",
   "metadata": {},
   "source": [
    "The following command should verify that the benchmark was correctly downloaded. We should be able to see a benchmark binary in the `/root/benchmark` directory."
   ],
   "id": "37a5ebcf-8e7b-4498-bf71-bbf1c533bf6b"
  },
  {
   "cell_type": "code",
   "execution_count": null,
   "metadata": {},
   "outputs": [],
   "source": [
    "print(container.execute(my_container.uuid, 'ls /root/benchmark'))['output']"
   ],
   "id": "f05d0549-b345-4fbe-8667-184892844053"
  },
  {
   "cell_type": "markdown",
   "metadata": {},
   "source": [
    "We also need to update the permissions of the benchmark binary and allow it to be executed."
   ],
   "id": "f6ac349e-22b0-471d-9725-4b7b51b8aa29"
  },
  {
   "cell_type": "code",
   "execution_count": null,
   "metadata": {},
   "outputs": [],
   "source": [
    "container.execute(my_container.uuid,'chmod +x /root/benchmark/linux_aarch64_benchmark_model')"
   ],
   "id": "db107809-f736-41fb-85c3-cfc9bad99b88"
  },
  {
   "cell_type": "markdown",
   "metadata": {},
   "source": [
    "All we need now is to download the models themselves. Using `gdown`, the models are downloaded from Google Drive and stored in the `/root/tflite_models` directory."
   ],
   "id": "fca820fb-5ebd-4982-9edb-c3f61442e377"
  },
  {
   "cell_type": "code",
   "execution_count": null,
   "metadata": {},
   "outputs": [],
   "source": [
    "container.execute(my_container.uuid, 'mkdir /root/tflite_models')\n",
    "container.execute(my_container.uuid, 'gdown --folder https://drive.google.com/drive/folders/1OcJ9ceYg6ZWFJ4QMR0zznsw0KVeHPa4h -O /root/tflite_models')"
   ],
   "id": "fa82ac76-8f60-4021-b61c-2cc32755aed6"
  },
  {
   "cell_type": "markdown",
   "metadata": {},
   "source": [
    "The following command should verify that the models were correctly downloaded. In the `/root/tflite_models` directory, we should be able to see two versions of each model: original and quantized. Note that the original models are about four times larger in size than the quantized models."
   ],
   "id": "1675a211-3906-40f6-af59-54cee5167fc6"
  },
  {
   "cell_type": "code",
   "execution_count": null,
   "metadata": {},
   "outputs": [],
   "source": [
    "print(container.execute(my_container.uuid, 'ls -lR /root/tflite_models'))['output']"
   ],
   "id": "4f47e562-73ee-4e49-a994-30289744176d"
  },
  {
   "cell_type": "markdown",
   "metadata": {},
   "source": [
    "## Running the benchmark"
   ],
   "id": "21ea54ff-78ac-4112-9fc2-a02d443bd2f7"
  },
  {
   "cell_type": "markdown",
   "metadata": {},
   "source": [
    "We can now run the benchmark on the `tflite` models using the `run_benchmark` file in the `code` directory we transferred to the container earlier. For each model, the `run_benchmark` file runs the benchmark 10 times, storing the output in a file; the file name is the same as the model and the output files are stores in the `/root/results` directory. Once all models have been benchmarked, a file by the name of `completed` is created in the directory. In the next step, we will then parse through these output files, extract the relevant data and create plots.\n",
    "\n",
    "This step could take about 90 minutes."
   ],
   "id": "8d57708d-e5d8-489a-adb2-924b03e7f8c5"
  },
  {
   "cell_type": "code",
   "execution_count": null,
   "metadata": {},
   "outputs": [],
   "source": [
    "container.execute(my_container.uuid, 'mkdir /root/results')\n",
    "container.execute(my_container.uuid, 'python /root/code/run_benchmark.py')"
   ],
   "id": "96e66d25-32c3-4bfb-afb8-35d48df1c228"
  },
  {
   "cell_type": "markdown",
   "metadata": {},
   "source": [
    "## Plotting the Results"
   ],
   "id": "7c6922b6-14c1-45bf-a0e3-7e8d2fa4b0a6"
  },
  {
   "cell_type": "markdown",
   "metadata": {},
   "source": [
    "Before we plot the results, let’s make sure that the python code has finished running. We can read the contents of the `/root/results`. If finished, the directory should contain one file for each model as well as a file named `completed`. If this is not the case, please wait for the code to finish executing."
   ],
   "id": "ee567886-c069-4220-9f83-9b048d1e2cf7"
  },
  {
   "cell_type": "code",
   "execution_count": null,
   "metadata": {},
   "outputs": [],
   "source": [
    "print(container.execute(my_container.uuid, 'ls /root/results'))['output']"
   ],
   "id": "6ad61812-601a-48b6-b01b-1d831f7bf1a4"
  },
  {
   "cell_type": "markdown",
   "metadata": {},
   "source": [
    "We can have a look at one of the files to see what the output of the benchmark looks like."
   ],
   "id": "92d7f51e-ddab-4a5c-9266-cf15cff20957"
  },
  {
   "cell_type": "code",
   "execution_count": null,
   "metadata": {},
   "outputs": [],
   "source": [
    "print(container.execute(my_container.uuid, 'cat MobileNet.txt'))['output']"
   ],
   "id": "c0a1fe35-96a3-43f3-95cd-511fb08bcd83"
  },
  {
   "cell_type": "markdown",
   "metadata": {},
   "source": [
    "Let’s define all the metrics that are reported by the benchmark:"
   ],
   "id": "2295b929-ebe5-40b8-959c-7e0e0c13a066"
  },
  {
   "cell_type": "code",
   "execution_count": null,
   "metadata": {},
   "outputs": [],
   "source": [
    "metrics = [\"Init Time (ms)\", \"Init Inference (ms)\", \"First Inference (ms)\", \"Warmup Inference (ms)\", \"Avg Inference (ms)\", \"Memory Init (MB)\", \"Memory Overall (MB)\"]"
   ],
   "id": "88b3161f-55cb-4ad7-9d68-1d4ec0eab50c"
  },
  {
   "cell_type": "markdown",
   "metadata": {},
   "source": [
    "Since the result of the benchmark is reported as text, we can define a parsing function to extract the data. The parsing function takes the output of the benchmark as an input and adds the results to a dictionary of metrics."
   ],
   "id": "0d4b2474-41ef-40e3-85df-230a0767d43d"
  },
  {
   "cell_type": "code",
   "execution_count": null,
   "metadata": {},
   "outputs": [],
   "source": [
    "import re\n",
    "\n",
    "def parse_benchmark_output(output, results):\n",
    "    \"\"\"\n",
    "    Parse benchmark output to extract model initialization times, inference timings, and memory footprint.\n",
    "    \"\"\"\n",
    "\n",
    "    # Regular expressions to match the required information\n",
    "    init_time_patterns = [\n",
    "        re.compile(r'INFO: Initialized session in (\\d+.\\d+)ms.'),\n",
    "        re.compile(r'INFO: Initialized session in (\\d+)ms.')\n",
    "    ]\n",
    "    inference_patterns = [\n",
    "        re.compile(r'INFO: Inference timings in us: Init: (\\d+), First inference: (\\d+), Warmup \\(avg\\): ([\\d.e+]+), Inference \\(avg\\): ([\\d.e+]+)'),\n",
    "        re.compile(r'INFO: Inference timings in us: Init: (\\d+), First inference: (\\d+), Warmup \\(avg\\): ([\\d.e+]+), Inference \\(avg\\): (\\d+)'),\n",
    "        re.compile(r'INFO: Inference timings in us: Init: (\\d+), First inference: (\\d+), Warmup \\(avg\\): (\\d+.\\d+), Inference \\(avg\\): (\\d+.\\d+)'),\n",
    "        re.compile(r'INFO: Inference timings in us: Init: (\\d+), First inference: (\\d+), Warmup \\(avg\\): (\\d+), Inference \\(avg\\): (\\d+.\\d+)'),\n",
    "        re.compile(r'INFO: Inference timings in us: Init: (\\d+), First inference: (\\d+), Warmup \\(avg\\): (\\d+), Inference \\(avg\\): (\\d+)'),\n",
    "    ]\n",
    "    memory_patterns = [\n",
    "        re.compile(r'INFO: Memory footprint delta from the start of the tool \\(MB\\): init=(\\d+.\\d+) overall=(\\d+.\\d+)'),\n",
    "        re.compile(r'INFO: Memory footprint delta from the start of the tool \\(MB\\): init=(\\d+.\\d+) overall=(\\d+)'),\n",
    "        re.compile(r'INFO: Memory footprint delta from the start of the tool \\(MB\\): init=(\\d+) overall=(\\d+.\\d+)'),\n",
    "        re.compile(r'INFO: Memory footprint delta from the start of the tool \\(MB\\): init=(\\d+) overall=(\\d+)'),\n",
    "    ]\n",
    "    for line in output.split('\\n'):\n",
    "        # Match the initialization time\n",
    "        for pattern in init_time_patterns:\n",
    "            init_match = pattern.search(line)\n",
    "            if init_match:\n",
    "                results['Init Time (ms)'].append(float(init_match.group(1)))\n",
    "                break\n",
    "\n",
    "        # Match the inference timings\n",
    "        for pattern in inference_patterns:\n",
    "            inference_match = pattern.search(line)\n",
    "            if inference_match:\n",
    "                results[\"Init Inference (ms)\"].append(int(inference_match.group(1))/1000)\n",
    "                results[\"First Inference (ms)\"].append(int(inference_match.group(2))/1000)\n",
    "                results[\"Warmup Inference (ms)\"].append(float(inference_match.group(3))/1000)\n",
    "                results[\"Avg Inference (ms)\"].append(float(inference_match.group(4))/1000)\n",
    "                break\n",
    "\n",
    "        # Match the memory footprint\n",
    "        for pattern in memory_patterns:\n",
    "            memory_match = pattern.search(line)\n",
    "            if memory_match:\n",
    "              results['Memory Init (MB)'].append(float(memory_match.group(1)))\n",
    "              results['Memory Overall (MB)'].append(float(memory_match.group(2)))\n",
    "              break\n"
   ],
   "id": "bf3f75ad-cd80-46f5-81cc-f9552021d5c8"
  },
  {
   "cell_type": "markdown",
   "metadata": {},
   "source": [
    "Next, we can define a Pandas Dataframe to store our results. Since we will be repeatedly running the benchmark to estimate the standard deviation of results as well, for each metric, we will define two columns - one for the mean and the other for the standard deviation."
   ],
   "id": "645ac648-1b08-45e5-ae86-9a37d2b4aeaa"
  },
  {
   "cell_type": "code",
   "execution_count": null,
   "metadata": {},
   "outputs": [],
   "source": [
    "import pandas as pd\n",
    "\n",
    "# Define model types (rows)\n",
    "rows = []\n",
    "for model in modelNames:\n",
    "  rows.append(model)\n",
    "  rows.append(model + \"_quant\")\n",
    "\n",
    "# Define columns\n",
    "cols = []\n",
    "for metric in metrics:\n",
    "  cols.append(metric)\n",
    "  cols.append(metric + \"_sd\")\n",
    "\n",
    "# Create an empty DataFrame\n",
    "finalResult = pd.DataFrame(index=rows, columns=cols)"
   ],
   "id": "b62d30ca-b50e-41d5-b2d5-87754a3eb35e"
  },
  {
   "cell_type": "markdown",
   "metadata": {},
   "source": [
    "Finally, we can use the functions and structures defined above to parse through the data and populate the dataframe with relevant metrics."
   ],
   "id": "9113bf35-6eda-4080-9e8e-69652acb13eb"
  },
  {
   "cell_type": "code",
   "execution_count": null,
   "metadata": {},
   "outputs": [],
   "source": [
    "import subprocess\n",
    "from collections import defaultdict\n",
    "from statistics import mean\n",
    "from statistics import stdev\n",
    "\n",
    "n = 10 #the number of times the benchmark is called for each model\n",
    "\n",
    "for modelName in rows:\n",
    "  print(modelName)\n",
    "  modelResults = defaultdict(list)\n",
    "  outputOriginal = print(container.execute(my_container.uuid, 'cat ./results/' + modelName + '.txt'))['output']\n",
    "  output = parse_benchmark_output(outputOriginal, modelResults)\n",
    "\n",
    "  for metric in metrics:\n",
    "    finalResult.loc[modelName, metric] = mean(modelResults[metric])\n",
    "    finalResult.loc[modelName, metric + \"_sd\"] = stdev(modelResults[metric])"
   ],
   "id": "35d90bd1-83da-40b4-a29f-865ccc279d24"
  },
  {
   "cell_type": "markdown",
   "metadata": {},
   "source": [
    "Let’s have a look at the results."
   ],
   "id": "c9de47f3-2419-453c-8eec-752940998802"
  },
  {
   "cell_type": "code",
   "execution_count": null,
   "metadata": {},
   "outputs": [],
   "source": [
    "print(finalResult)"
   ],
   "id": "52389a65-70f1-4c03-8928-9cc73a1aa05d"
  },
  {
   "cell_type": "markdown",
   "metadata": {},
   "source": [
    "Let’s create a directory to store the plots from our data:"
   ],
   "id": "2b7653dd-0600-46aa-be20-3c5a06e1221c"
  },
  {
   "cell_type": "code",
   "execution_count": null,
   "metadata": {},
   "outputs": [],
   "source": [
    "!mkdir ./plots"
   ],
   "id": "020e9101-4f4a-4116-a518-4b0d24e855d6"
  },
  {
   "cell_type": "markdown",
   "metadata": {},
   "source": [
    "Finally, we can generate plots of the results."
   ],
   "id": "989ffa2a-3e8a-46e9-b6f5-2796e8dee27c"
  },
  {
   "cell_type": "code",
   "execution_count": null,
   "metadata": {},
   "outputs": [],
   "source": [
    "import matplotlib.pyplot as plt\n",
    "import numpy as np\n",
    "for metric in metrics:\n",
    "    means_orig = finalResult.loc[modelNames, metric].values\n",
    "    errors_orig = finalResult.loc[modelNames, metric + \"_sd\"].values\n",
    "    means_quant = finalResult.loc[[model + \"_quant\" for model in modelNames], metric].values\n",
    "    errors_quant = finalResult.loc[[model + \"_quant\" for model in modelNames], metric + \"_sd\"].values\n",
    "\n",
    "\n",
    "    n_groups = len(modelNames)\n",
    "    index = np.arange(n_groups)\n",
    "\n",
    "    fig, ax = plt.subplots()\n",
    "    bar_width = 0.35\n",
    "    opacity = 0.8\n",
    "\n",
    "    rects1 = plt.bar(index, means_orig, bar_width,\n",
    "                     alpha=opacity,\n",
    "                     yerr=errors_orig,\n",
    "                     label='Original')\n",
    "\n",
    "    rects2 = plt.bar(index + bar_width, means_quant, bar_width,\n",
    "                     alpha=opacity,\n",
    "                     yerr=errors_quant,\n",
    "                     label='Quantized')\n",
    "\n",
    "    plt.xlabel('Model')\n",
    "    plt.ylabel(metric)\n",
    "    plt.title(f'Bar Chart for {metric}')\n",
    "    plt.xticks(index + bar_width / 2, modelNames, rotation=45)\n",
    "    plt.legend()\n",
    "\n",
    "    plt.tight_layout()\n",
    "\n",
    "    # Save the plot as an image\n",
    "    plt.savefig(\"./plots\" + metric + \"_bar_chart.png\")\n",
    "\n",
    "    # Show the plot\n",
    "    plt.show()"
   ],
   "id": "2a6d297b-6d90-4ade-ba51-193ec8dd8264"
  },
  {
   "cell_type": "markdown",
   "metadata": {},
   "source": [
    "## Delete the container"
   ],
   "id": "62eb086a-878f-4a1c-bb83-bb3cd5d8978a"
  },
  {
   "cell_type": "markdown",
   "metadata": {},
   "source": [
    "Lastly, we should stop and delete our container so that others can create new containers using the same lease. To delete our container, we can run the following cell:"
   ],
   "id": "f0cc06a1-4304-4318-8763-14f432ff00c3"
  },
  {
   "cell_type": "code",
   "execution_count": null,
   "metadata": {},
   "outputs": [],
   "source": [
    "container.destroy_container(my_container.uuid)"
   ],
   "id": "e1af5995-42f0-426f-bb31-79cb80f223f2"
  },
  {
   "cell_type": "markdown",
   "metadata": {},
   "source": [
    "Run the following cell to delete the lease as well."
   ],
   "id": "656702c0-f8a1-4a80-9a23-72a873e0b147"
  },
  {
   "cell_type": "code",
   "execution_count": null,
   "metadata": {},
   "outputs": [],
   "source": [
    "DELETE = False #Default value is False to prevent any accidental deletes. Change it to True for deleting the resources\n",
    "\n",
    "if DELETE:\n",
    "\n",
    "    # delete lease\n",
    "    chi.lease.delete_lease(lease[\"id\"])"
   ],
   "id": "f7be6426-9b2e-4ba3-80db-0102a26cbb62"
  }
 ],
 "nbformat": 4,
 "nbformat_minor": 5,
 "metadata": {}
}
